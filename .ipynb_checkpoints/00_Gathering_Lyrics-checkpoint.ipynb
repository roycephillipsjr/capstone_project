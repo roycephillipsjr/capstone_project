{
 "cells": [
  {
   "cell_type": "markdown",
   "metadata": {},
   "source": [
    "# Gathering \"The American Songbook\" Lyrics"
   ]
  },
  {
   "cell_type": "markdown",
   "metadata": {},
   "source": [
    "Since there is no dataset with \"The Great American Songbook\" lyrics I will need to search the weba dn scrape them from lyrics websites. I chose 'lyricsfreak.com' as my main source for lyrics."
   ]
  },
  {
   "cell_type": "code",
   "execution_count": 1,
   "metadata": {},
   "outputs": [],
   "source": [
    "import pandas as pd\n",
    "import requests\n",
    "from bs4 import BeautifulSoup\n",
    "import time"
   ]
  },
  {
   "cell_type": "markdown",
   "metadata": {},
   "source": [
    "## Initial html research"
   ]
  },
  {
   "cell_type": "markdown",
   "metadata": {},
   "source": [
    "Learning how this html page works and how I can grab the hyperlinks."
   ]
  },
  {
   "cell_type": "code",
   "execution_count": 20,
   "metadata": {},
   "outputs": [
    {
     "data": {
      "text/plain": [
       "200"
      ]
     },
     "execution_count": 20,
     "metadata": {},
     "output_type": "execute_result"
    }
   ],
   "source": [
    "url = 'https://www.lyricsfreak.com/c/cole+porter/'\n",
    "res = requests.get(url)\n",
    "\n",
    "res.status_code"
   ]
  },
  {
   "cell_type": "code",
   "execution_count": 21,
   "metadata": {},
   "outputs": [],
   "source": [
    "soup = BeautifulSoup(res.content, 'lxml')"
   ]
  },
  {
   "cell_type": "code",
   "execution_count": 22,
   "metadata": {},
   "outputs": [
    {
     "data": {
      "text/plain": [
       "<a class=\"lf-link lf-link--primary\" href=\"/c/cole+porter/all+of+you_20816177.html\" title=\"All Of You Lyrics\">\n",
       "            All Of You Lyrics\n",
       "        </a>"
      ]
     },
     "execution_count": 22,
     "metadata": {},
     "output_type": "execute_result"
    }
   ],
   "source": [
    "soup.find('a', {'class': 'lf-link lf-link--primary'})"
   ]
  },
  {
   "cell_type": "code",
   "execution_count": 23,
   "metadata": {},
   "outputs": [],
   "source": [
    "cole_porter_table = soup.find('div', {'class': 'lf-list js-sort-table'})"
   ]
  },
  {
   "cell_type": "code",
   "execution_count": 24,
   "metadata": {},
   "outputs": [
    {
     "data": {
      "text/plain": [
       "[{'song_title': 'All Of You Lyrics',\n",
       "  'href': '/c/cole+porter/all+of+you_20816177.html'},\n",
       " {'song_title': 'All Through The Night Lyrics',\n",
       "  'href': '/c/cole+porter/all+through+the+night_21150965.html'},\n",
       " {'song_title': 'Anything Goes Lyrics',\n",
       "  'href': '/c/cole+porter/anything+goes_20289240.html'},\n",
       " {'song_title': 'Begin The Beguine Lyrics',\n",
       "  'href': '/c/cole+porter/begin+the+beguine_20153583.html'},\n",
       " {'song_title': 'Blow, Gabriel, Blow Lyrics',\n",
       "  'href': '/c/cole+porter/blow+gabriel+blow_20157407.html'}]"
      ]
     },
     "execution_count": 24,
     "metadata": {},
     "output_type": "execute_result"
    }
   ],
   "source": [
    "cole_porter_songs = []\n",
    "\n",
    "for row in cole_porter_table.find_all('a'):\n",
    "    cp_song = {\n",
    "        'song_title': row.attrs['title'],\n",
    "        'href': row.attrs['href']\n",
    "    }\n",
    "    cole_porter_songs.append(cp_song)\n",
    "# pd.DataFrame(cole_porter_songs)\n",
    "cole_porter_songs[:5]"
   ]
  },
  {
   "cell_type": "code",
   "execution_count": 25,
   "metadata": {},
   "outputs": [
    {
     "data": {
      "text/plain": [
       "200"
      ]
     },
     "execution_count": 25,
     "metadata": {},
     "output_type": "execute_result"
    }
   ],
   "source": [
    "song_url = 'https://www.lyricsfreak.com/c/cole+porter/all+of+you_20816177.html'\n",
    "song_res = requests.get(song_url)\n",
    "\n",
    "song_res.status_code"
   ]
  },
  {
   "cell_type": "code",
   "execution_count": 26,
   "metadata": {},
   "outputs": [],
   "source": [
    "song_soup = BeautifulSoup(song_res.content, 'lxml')"
   ]
  },
  {
   "cell_type": "code",
   "execution_count": 27,
   "metadata": {},
   "outputs": [
    {
     "data": {
      "text/plain": [
       "<div class=\"lyrictxt js-lyrics js-share-text-content\" data-container-id=\"lyrics\" data-song-id=\"751104\" data-title=\"Cole Porter\" id=\"content\" style=\"position: relative; padding: 0px 10px 0px 10px;\">\n",
       "                    I love the look of you, the lure of you<br/>\n",
       "The sweet of you, the pure of you<br/>\n",
       "The eyes, the arms, the mouth of you<br/>\n",
       "The east, west, north and the south of you<br/>\n",
       "<br/>\n",
       "I'd love to gain complete control of you<br/>\n",
       "And handle even the heart and soul of you<br/>\n",
       "So love, at least, a small percent of me, do<br/>\n",
       "For I love all of you<br/>\n",
       "<br/>\n",
       "I'd love to gain complete control of you<br/>\n",
       "And handle even the heart and soul of you<br/>\n",
       "So love, at least, a small percent of me, do<br/>\n",
       "For I love all of you, for I love all of you                </div>"
      ]
     },
     "execution_count": 27,
     "metadata": {},
     "output_type": "execute_result"
    }
   ],
   "source": [
    "song_soup.find('div', {'class': 'lyrictxt js-lyrics js-share-text-content'})"
   ]
  },
  {
   "cell_type": "code",
   "execution_count": 29,
   "metadata": {},
   "outputs": [
    {
     "data": {
      "text/plain": [
       "{'id': 'content',\n",
       " 'class': ['lyrictxt', 'js-lyrics', 'js-share-text-content'],\n",
       " 'style': 'position: relative; padding: 0px 10px 0px 10px;',\n",
       " 'data-song-id': '751104',\n",
       " 'data-container-id': 'lyrics',\n",
       " 'data-title': 'Cole Porter'}"
      ]
     },
     "execution_count": 29,
     "metadata": {},
     "output_type": "execute_result"
    }
   ],
   "source": [
    "song_soup.find('div', {'class': 'lyrictxt js-lyrics js-share-text-content'}).attrs"
   ]
  },
  {
   "cell_type": "code",
   "execution_count": 28,
   "metadata": {},
   "outputs": [
    {
     "data": {
      "text/plain": [
       "'lyrics'"
      ]
     },
     "execution_count": 28,
     "metadata": {},
     "output_type": "execute_result"
    }
   ],
   "source": [
    "song_soup.find('div', {'class': 'lyrictxt js-lyrics js-share-text-content'}).attrs['data-container-id']"
   ]
  },
  {
   "cell_type": "code",
   "execution_count": 34,
   "metadata": {},
   "outputs": [
    {
     "data": {
      "text/plain": [
       "\"\\n                    I love the look of you, the lure of you\\nThe sweet of you, the pure of you\\nThe eyes, the arms, the mouth of you\\nThe east, west, north and the south of you\\n\\nI'd love to gain complete control of you\\nAnd handle even the heart and soul of you\\nSo love, at least, a small percent of me, do\\nFor I love all of you\\n\\nI'd love to gain complete control of you\\nAnd handle even the heart and soul of you\\nSo love, at least, a small percent of me, do\\nFor I love all of you, for I love all of you                \""
      ]
     },
     "execution_count": 34,
     "metadata": {},
     "output_type": "execute_result"
    }
   ],
   "source": [
    "song_soup.find('div', {'class': 'lyrictxt js-lyrics js-share-text-content'}).text"
   ]
  },
  {
   "cell_type": "markdown",
   "metadata": {},
   "source": [
    "## Grabbing Cole Porter Lyrics"
   ]
  },
  {
   "cell_type": "markdown",
   "metadata": {},
   "source": [
    "This is a test run to grab Cole Porter lyrics. This will be the basis for my function. "
   ]
  },
  {
   "cell_type": "code",
   "execution_count": 42,
   "metadata": {},
   "outputs": [
    {
     "name": "stdout",
     "output_type": "stream",
     "text": [
      "Scraping All Of You Lyrics\n",
      "Scraping All Through The Night Lyrics\n",
      "Scraping Anything Goes Lyrics\n",
      "Scraping Begin The Beguine Lyrics\n",
      "Scraping Blow, Gabriel, Blow Lyrics\n",
      "Scraping Broadway Rhythm Lyrics\n",
      "Scraping C'est Magnifique Lyrics\n",
      "Scraping C'est Magnifique, Song (from \"Can-Can\") Lyrics\n",
      "Scraping Coffee Time Lyrics\n",
      "Scraping Don't Fence Me In Lyrics\n",
      "Scraping Don't Look At Me That Way, Song (from \"Paris\") Lyrics\n",
      "Scraping Down In The Depths (On The Ninetieth Floor)- Ballard, Kaye Lyrics\n",
      "Scraping Down In The Depths (On The Ninetieth&hellip; Lyrics\n",
      "Scraping Dream Dancing Lyrics\n",
      "Scraping Easy To Love Lyrics\n",
      "Scraping Ev'ry Time We Say Goodbye Lyrics\n",
      "Scraping Find Me A Primitive Man Lyrics\n",
      "Scraping Friendship, Song (from \"Du Barry Was A Lady\") [of Orig. Cast {Black Van Lyrics\n",
      "Scraping From This Moment On Lyrics\n",
      "Scraping I Concentrate On You Lyrics\n",
      "Scraping I Get A Kick Out Of You Lyrics\n",
      "Scraping I Got Rhythm Lyrics\n",
      "Scraping I Hate Men Lyrics\n",
      "Scraping I Love Paris, Song (from \"Can Can\") Lyrics\n",
      "Scraping I'm A Gigolo Lyrics\n",
      "Scraping I'm In Love Again, Song (from \"Greenwich Village Follies\") Lyrics\n",
      "Scraping In The Still Of The Night Lyrics\n",
      "Scraping It's All Right With Me Lyrics\n",
      "Scraping Just One Of Those Things Lyrics\n",
      "Scraping Let's Do It Lyrics\n",
      "Scraping Let's Misbehave, Song (from \"Paris\" (unused)) Lyrics\n",
      "Scraping Love For Sale Lyrics\n",
      "Scraping Miss Otis Regrets Lyrics\n",
      "Scraping My Heart Belongs To Daddy Lyrics\n",
      "Scraping Night And Day Lyrics\n",
      "Scraping Paris Loves Lovers Lyrics\n",
      "Scraping So In Love Lyrics\n",
      "Scraping So Near And Yet So Far Lyrics\n",
      "Scraping True Love Lyrics\n",
      "Scraping Under My Skin Lyrics\n",
      "Scraping Way Down Yonder In New Orleans Lyrics\n",
      "Scraping Well Did You Evah! Lyrics\n",
      "Scraping What Is This Thing Called Love Lyrics\n",
      "Scraping Where Is The Life That Late I Led? Lyrics\n",
      "Scraping Why Can't You Behave? Lyrics\n",
      "Scraping You Do Something To Me Lyrics\n",
      "Scraping You're The Top Lyrics\n"
     ]
    }
   ],
   "source": [
    "# This code has been taken from the web scraping lab solution code in week 5\n",
    "# Start with an empty list\n",
    "cole_porter_lyrics = []\n",
    "\n",
    "# Loop through each lyric \n",
    "for lyric in cole_porter_songs:\n",
    "    print('Scraping {}'.format(lyric['song_title']))\n",
    "    \n",
    "    href = lyric['href']\n",
    "    lyric_url = f'https://www.lyricsfreak.com/c/cole+porter/{href}'\n",
    "    \n",
    "    # Use requests library to get the content from each lyric page\n",
    "    lyric_res = requests.get(lyric_url)\n",
    "    \n",
    "    # Create soup object from lyrics html\n",
    "    lyric_soup = BeautifulSoup(lyric_res.content, 'lxml')\n",
    "    lyrics = {}\n",
    "    \n",
    "    # Songwriter \n",
    "    lyrics['song_writer'] = 'Cole Porter'\n",
    "    \n",
    "    # Song name\n",
    "    lyrics['song_name'] = lyric['song_title']\n",
    "    \n",
    "    # Creating a lyrics key\n",
    "    lyrics['lyrics'] = lyric_soup.find('div', {'class': 'lyrictxt js-lyrics js-share-text-content'}).text\n",
    "    \n",
    "    # Song link\n",
    "    lyrics['song_link'] = lyric_url\n",
    "    cole_porter_lyrics.append(lyrics)\n",
    "        \n",
    "    # Putting a sleep timer on the scraping\n",
    "    time.sleep(20)"
   ]
  },
  {
   "cell_type": "code",
   "execution_count": 45,
   "metadata": {},
   "outputs": [],
   "source": [
    "cole_porter_df = pd.DataFrame(cole_porter_lyrics)"
   ]
  },
  {
   "cell_type": "code",
   "execution_count": 48,
   "metadata": {},
   "outputs": [
    {
     "data": {
      "text/html": [
       "<div>\n",
       "<style scoped>\n",
       "    .dataframe tbody tr th:only-of-type {\n",
       "        vertical-align: middle;\n",
       "    }\n",
       "\n",
       "    .dataframe tbody tr th {\n",
       "        vertical-align: top;\n",
       "    }\n",
       "\n",
       "    .dataframe thead th {\n",
       "        text-align: right;\n",
       "    }\n",
       "</style>\n",
       "<table border=\"1\" class=\"dataframe\">\n",
       "  <thead>\n",
       "    <tr style=\"text-align: right;\">\n",
       "      <th></th>\n",
       "      <th>song_writer</th>\n",
       "      <th>song_name</th>\n",
       "      <th>lyrics</th>\n",
       "      <th>song_link</th>\n",
       "    </tr>\n",
       "  </thead>\n",
       "  <tbody>\n",
       "    <tr>\n",
       "      <th>0</th>\n",
       "      <td>Cole Porter</td>\n",
       "      <td>All Of You Lyrics</td>\n",
       "      <td>\\n                    I love the look of you, ...</td>\n",
       "      <td>https://www.lyricsfreak.com/c/cole+porter//c/c...</td>\n",
       "    </tr>\n",
       "    <tr>\n",
       "      <th>1</th>\n",
       "      <td>Cole Porter</td>\n",
       "      <td>All Through The Night Lyrics</td>\n",
       "      <td>\\n                    The day is my enemy, the...</td>\n",
       "      <td>https://www.lyricsfreak.com/c/cole+porter//c/c...</td>\n",
       "    </tr>\n",
       "    <tr>\n",
       "      <th>2</th>\n",
       "      <td>Cole Porter</td>\n",
       "      <td>Anything Goes Lyrics</td>\n",
       "      <td>\\n                    Times have changed,\\nAnd...</td>\n",
       "      <td>https://www.lyricsfreak.com/c/cole+porter//c/c...</td>\n",
       "    </tr>\n",
       "    <tr>\n",
       "      <th>3</th>\n",
       "      <td>Cole Porter</td>\n",
       "      <td>Begin The Beguine Lyrics</td>\n",
       "      <td>\\n                    When they begin the begu...</td>\n",
       "      <td>https://www.lyricsfreak.com/c/cole+porter//c/c...</td>\n",
       "    </tr>\n",
       "    <tr>\n",
       "      <th>4</th>\n",
       "      <td>Cole Porter</td>\n",
       "      <td>Blow, Gabriel, Blow Lyrics</td>\n",
       "      <td>\\n                    Brothers and sisters, we...</td>\n",
       "      <td>https://www.lyricsfreak.com/c/cole+porter//c/c...</td>\n",
       "    </tr>\n",
       "  </tbody>\n",
       "</table>\n",
       "</div>"
      ],
      "text/plain": [
       "   song_writer                     song_name  \\\n",
       "0  Cole Porter             All Of You Lyrics   \n",
       "1  Cole Porter  All Through The Night Lyrics   \n",
       "2  Cole Porter          Anything Goes Lyrics   \n",
       "3  Cole Porter      Begin The Beguine Lyrics   \n",
       "4  Cole Porter    Blow, Gabriel, Blow Lyrics   \n",
       "\n",
       "                                              lyrics  \\\n",
       "0  \\n                    I love the look of you, ...   \n",
       "1  \\n                    The day is my enemy, the...   \n",
       "2  \\n                    Times have changed,\\nAnd...   \n",
       "3  \\n                    When they begin the begu...   \n",
       "4  \\n                    Brothers and sisters, we...   \n",
       "\n",
       "                                           song_link  \n",
       "0  https://www.lyricsfreak.com/c/cole+porter//c/c...  \n",
       "1  https://www.lyricsfreak.com/c/cole+porter//c/c...  \n",
       "2  https://www.lyricsfreak.com/c/cole+porter//c/c...  \n",
       "3  https://www.lyricsfreak.com/c/cole+porter//c/c...  \n",
       "4  https://www.lyricsfreak.com/c/cole+porter//c/c...  "
      ]
     },
     "execution_count": 48,
     "metadata": {},
     "output_type": "execute_result"
    }
   ],
   "source": [
    "cole_porter_df.head()"
   ]
  },
  {
   "cell_type": "markdown",
   "metadata": {},
   "source": [
    "## Creating Functions to grab lyrics"
   ]
  },
  {
   "cell_type": "markdown",
   "metadata": {},
   "source": [
    "The three functions below are to make the process of gathering lyrics a little easier and with a little less effort."
   ]
  },
  {
   "cell_type": "code",
   "execution_count": 35,
   "metadata": {},
   "outputs": [],
   "source": [
    "# This function is to grab the list of songs and hyperlinks\n",
    "def gathering_songs(url, song_writer):\n",
    "    \n",
    "    songwriter_url = url\n",
    "    \n",
    "    res_songwriter = requests.get(songwriter_url)\n",
    "    \n",
    "    soup_songwriter = BeautifulSoup(res_songwriter.content, 'lxml')\n",
    "    \n",
    "    songwriter_table = soup_songwriter.find('div', {'class': 'lf-list js-sort-table'})\n",
    "    \n",
    "    songwriter_songs = []\n",
    "    \n",
    "    for row in songwriter_table.find_all('a'):\n",
    "        try:\n",
    "            songs = {\n",
    "                'song_writer': song_writer,\n",
    "                'song_title': row.attrs['title'],\n",
    "                'href': row.attrs['href']\n",
    "            }\n",
    "            songwriter_songs.append(songs)\n",
    "        except:\n",
    "            pass\n",
    "    return songwriter_songs"
   ]
  },
  {
   "cell_type": "code",
   "execution_count": 36,
   "metadata": {},
   "outputs": [],
   "source": [
    "# This function is to gather all the lyrics from the list of songs\n",
    "def gathering_lyrics(song_list, url):\n",
    "    songwriter_lyrics = []\n",
    "\n",
    "    # Loop through each lyric \n",
    "    for lyric in song_list:\n",
    "        print('Scraping {}'.format(lyric['song_title']))\n",
    "\n",
    "        href = lyric['href']\n",
    "        lyric_url = f'{url} + {href}'\n",
    "\n",
    "        # Use requests library to get the content from each lyric page\n",
    "        lyric_res = requests.get(lyric_url)\n",
    "\n",
    "        # Create soup object from lyrics html\n",
    "        lyric_soup = BeautifulSoup(lyric_res.content, 'lxml')\n",
    "        lyrics = {}\n",
    "\n",
    "        # Songwriter \n",
    "        lyrics['song_writer'] = lyric['song_writer']\n",
    "\n",
    "        # Song name\n",
    "        lyrics['song_name'] = lyric['song_title']\n",
    "\n",
    "        # Creating a lyrics key\n",
    "        lyrics['lyrics'] = lyric_soup.find('div', {'class': 'lyrictxt js-lyrics js-share-text-content'}).text\n",
    "\n",
    "        # Song link\n",
    "        lyrics['song_link'] = lyric_url\n",
    "        songwriter_lyrics.append(lyrics)\n",
    "\n",
    "        # Putting a sleep timer on the scraping\n",
    "        time.sleep(10)\n",
    "    return songwriter_lyrics"
   ]
  },
  {
   "cell_type": "code",
   "execution_count": 37,
   "metadata": {},
   "outputs": [],
   "source": [
    "# This function is combining the two functions above into one succinct function.\n",
    "def grabbing_songs_and_lyrics(url, songwriter):\n",
    "    songs_list = gathering_songs(url, songwriter)\n",
    "    \n",
    "    print(\"Songs have been gathered\")\n",
    "    print(\"Now to grab lyrics\")\n",
    "    \n",
    "    all_lyrics =  gathering_lyrics(songs_list, url)\n",
    "    \n",
    "    return all_lyrics"
   ]
  },
  {
   "cell_type": "markdown",
   "metadata": {},
   "source": [
    "## Grabbing all the lyrics!!"
   ]
  },
  {
   "cell_type": "markdown",
   "metadata": {},
   "source": [
    "#### Oscar Hammerstein"
   ]
  },
  {
   "cell_type": "code",
   "execution_count": 109,
   "metadata": {},
   "outputs": [],
   "source": [
    "oscar_hammerstein_songs = gathering_songs('https://www.lyricsfreak.com/o/oscar+hammerstein/', \"Oscar Hammerstein\")"
   ]
  },
  {
   "cell_type": "code",
   "execution_count": 121,
   "metadata": {},
   "outputs": [
    {
     "name": "stdout",
     "output_type": "stream",
     "text": [
      "Songs have been gathered\n",
      "Now to grab lyrics\n",
      "Scraping A Puzzlement Lyrics\n",
      "Scraping A Puzzlement (Reprise) Lyrics\n",
      "Scraping All Er Nothin' Lyrics\n",
      "Scraping Finale-Oh What A Beautiful Mornin' Lyrics\n",
      "Scraping Getting To Know You Lyrics\n",
      "Scraping Happy Land Lyrics\n",
      "Scraping Hello Young Lovers Lyrics\n",
      "Scraping Home Lyrics\n",
      "Scraping I Cain't Say No Lyrics\n",
      "Scraping I Have Dreamed Lyrics\n",
      "Scraping I Whistle A Happy Tune Lyrics\n",
      "Scraping I Whistle A Happy Tune (Reprise) Lyrics\n",
      "Scraping If I Loved You Lyrics\n",
      "Scraping If I Loved You (Reprise) Lyrics\n",
      "Scraping Indian Love Call Lyrics\n",
      "Scraping Kansas City Lyrics\n",
      "Scraping Let People Say We're In Love Lyrics\n",
      "Scraping Many A New Day Lyrics\n",
      "Scraping My Lord And Master Lyrics\n",
      "Scraping Oh What A Beautiful Mornin' Lyrics\n",
      "Scraping Oklahoma Lyrics\n",
      "Scraping Out Of My Dreams Lyrics\n",
      "Scraping People Will Say We're In Love Lyrics\n",
      "Scraping Poor Jud Is Daid Lyrics\n",
      "Scraping School Song Lyrics\n",
      "Scraping Shall I Tell You What I Think Of You? Lyrics\n",
      "Scraping Shall We Dance Lyrics\n",
      "Scraping Something Wonderful Lyrics\n",
      "Scraping Song Of The King Lyrics\n",
      "Scraping The Farmer And The Cowman Lyrics\n",
      "Scraping The Surrey With The Fringe On Top Lyrics\n",
      "Scraping We Kiss In A Shadow Lyrics\n",
      "Scraping Western People Funny Lyrics\n",
      "Scraping You'll Never Walk Alone Lyrics\n"
     ]
    }
   ],
   "source": [
    "oscar_hammerstein = grabbing_songs_and_lyrics('https://www.lyricsfreak.com/o/oscar+hammerstein/', \"Oscar Hammerstein\")"
   ]
  },
  {
   "cell_type": "code",
   "execution_count": 124,
   "metadata": {},
   "outputs": [],
   "source": [
    "oscar_hammerstein_df = pd.DataFrame(oscar_hammerstein)"
   ]
  },
  {
   "cell_type": "markdown",
   "metadata": {},
   "source": [
    "#### Hoagy Carmichael"
   ]
  },
  {
   "cell_type": "code",
   "execution_count": 125,
   "metadata": {
    "scrolled": false
   },
   "outputs": [
    {
     "name": "stdout",
     "output_type": "stream",
     "text": [
      "Songs have been gathered\n",
      "Now to grab lyrics\n",
      "Scraping Am I Blue Lyrics\n",
      "Scraping And Old Piano Plays The Blues Lyrics\n",
      "Scraping April In My Heart Lyrics\n",
      "Scraping Bessie Couldn't Help It Lyrics\n",
      "Scraping Casanova Cricket Lyrics\n",
      "Scraping Doctor, Lawyer, Indian Chief Lyrics\n",
      "Scraping For Every Man There's A Woman Lyrics\n",
      "Scraping Georgia On My Mind Lyrics\n",
      "Scraping Hong Kong Blues Lyrics\n",
      "Scraping Huggin' And Chalkin' Lyrics\n",
      "Scraping I May Be Wrong Lyrics\n",
      "Scraping I Never Knew I Could Love Anybody Lyrics\n",
      "Scraping I Want To Be Happy Lyrics\n",
      "Scraping I'm Waiting Just For You Lyrics\n",
      "Scraping In The Cool, Cool, Cool Of The Evening Lyrics\n",
      "Scraping In The Still Of The Night Lyrics\n",
      "Scraping It's A Good Day Lyrics\n",
      "Scraping Judy Lyrics\n",
      "Scraping Lazy River Lyrics\n",
      "Scraping Little Old Lady Lyrics\n",
      "Scraping Moon Country Lyrics\n",
      "Scraping My Resistance Is Low Lyrics\n",
      "Scraping New Orleans Lyrics\n",
      "Scraping Ole Buttermilk Sky Lyrics\n",
      "Scraping One Morning In May Lyrics\n",
      "Scraping Riverboat Shuffle Lyrics\n",
      "Scraping Rockin' Chair Lyrics\n",
      "Scraping Skylark Lyrics\n",
      "Scraping Small Fry Lyrics\n",
      "Scraping Snowball Lyrics\n",
      "Scraping Stardust Lyrics\n",
      "Scraping Sweet Lorraine Lyrics\n",
      "Scraping The ABA Daba Honeymoon Lyrics\n",
      "Scraping The Darktown Strutter's Ball Lyrics\n",
      "Scraping The Golden Rocket Lyrics\n",
      "Scraping The Lamplighter's Serenade Lyrics\n",
      "Scraping The Nearness Of You Lyrics\n",
      "Scraping The Old Music Master Lyrics\n",
      "Scraping The Whiffenpoof Song Lyrics\n",
      "Scraping Two Sleepy People Lyrics\n"
     ]
    }
   ],
   "source": [
    "hoagy_carmichael = grabbing_songs_and_lyrics('https://www.lyricsfreak.com/h/hoagy+carmichael/', 'Hoagy Carmichael')"
   ]
  },
  {
   "cell_type": "code",
   "execution_count": 126,
   "metadata": {},
   "outputs": [],
   "source": [
    "hoagy_carmichael_df = pd.DataFrame(hoagy_carmichael)"
   ]
  },
  {
   "cell_type": "code",
   "execution_count": 128,
   "metadata": {},
   "outputs": [
    {
     "data": {
      "text/html": [
       "<div>\n",
       "<style scoped>\n",
       "    .dataframe tbody tr th:only-of-type {\n",
       "        vertical-align: middle;\n",
       "    }\n",
       "\n",
       "    .dataframe tbody tr th {\n",
       "        vertical-align: top;\n",
       "    }\n",
       "\n",
       "    .dataframe thead th {\n",
       "        text-align: right;\n",
       "    }\n",
       "</style>\n",
       "<table border=\"1\" class=\"dataframe\">\n",
       "  <thead>\n",
       "    <tr style=\"text-align: right;\">\n",
       "      <th></th>\n",
       "      <th>song_writer</th>\n",
       "      <th>song_name</th>\n",
       "      <th>lyrics</th>\n",
       "      <th>song_link</th>\n",
       "    </tr>\n",
       "  </thead>\n",
       "  <tbody>\n",
       "    <tr>\n",
       "      <th>0</th>\n",
       "      <td>Hoagy Carmichael</td>\n",
       "      <td>Am I Blue Lyrics</td>\n",
       "      <td>\\n                    I'm just a man, a lonely...</td>\n",
       "      <td>https://www.lyricsfreak.com/h/hoagy+carmichael...</td>\n",
       "    </tr>\n",
       "    <tr>\n",
       "      <th>1</th>\n",
       "      <td>Hoagy Carmichael</td>\n",
       "      <td>And Old Piano Plays The Blues Lyrics</td>\n",
       "      <td>\\n                    The clock is striking, g...</td>\n",
       "      <td>https://www.lyricsfreak.com/h/hoagy+carmichael...</td>\n",
       "    </tr>\n",
       "    <tr>\n",
       "      <th>2</th>\n",
       "      <td>Hoagy Carmichael</td>\n",
       "      <td>April In My Heart Lyrics</td>\n",
       "      <td>\\n                    There's snowflakes in th...</td>\n",
       "      <td>https://www.lyricsfreak.com/h/hoagy+carmichael...</td>\n",
       "    </tr>\n",
       "    <tr>\n",
       "      <th>3</th>\n",
       "      <td>Hoagy Carmichael</td>\n",
       "      <td>Bessie Couldn't Help It Lyrics</td>\n",
       "      <td>\\n                    Bessie couldn't help it,...</td>\n",
       "      <td>https://www.lyricsfreak.com/h/hoagy+carmichael...</td>\n",
       "    </tr>\n",
       "    <tr>\n",
       "      <th>4</th>\n",
       "      <td>Hoagy Carmichael</td>\n",
       "      <td>Casanova Cricket Lyrics</td>\n",
       "      <td>\\n                    Someone’s in the meadow ...</td>\n",
       "      <td>https://www.lyricsfreak.com/h/hoagy+carmichael...</td>\n",
       "    </tr>\n",
       "  </tbody>\n",
       "</table>\n",
       "</div>"
      ],
      "text/plain": [
       "        song_writer                             song_name  \\\n",
       "0  Hoagy Carmichael                      Am I Blue Lyrics   \n",
       "1  Hoagy Carmichael  And Old Piano Plays The Blues Lyrics   \n",
       "2  Hoagy Carmichael              April In My Heart Lyrics   \n",
       "3  Hoagy Carmichael        Bessie Couldn't Help It Lyrics   \n",
       "4  Hoagy Carmichael               Casanova Cricket Lyrics   \n",
       "\n",
       "                                              lyrics  \\\n",
       "0  \\n                    I'm just a man, a lonely...   \n",
       "1  \\n                    The clock is striking, g...   \n",
       "2  \\n                    There's snowflakes in th...   \n",
       "3  \\n                    Bessie couldn't help it,...   \n",
       "4  \\n                    Someone’s in the meadow ...   \n",
       "\n",
       "                                           song_link  \n",
       "0  https://www.lyricsfreak.com/h/hoagy+carmichael...  \n",
       "1  https://www.lyricsfreak.com/h/hoagy+carmichael...  \n",
       "2  https://www.lyricsfreak.com/h/hoagy+carmichael...  \n",
       "3  https://www.lyricsfreak.com/h/hoagy+carmichael...  \n",
       "4  https://www.lyricsfreak.com/h/hoagy+carmichael...  "
      ]
     },
     "execution_count": 128,
     "metadata": {},
     "output_type": "execute_result"
    }
   ],
   "source": [
    "hoagy_carmichael_df.head()"
   ]
  },
  {
   "cell_type": "markdown",
   "metadata": {},
   "source": [
    "#### Harold Arlen"
   ]
  },
  {
   "cell_type": "code",
   "execution_count": 129,
   "metadata": {
    "scrolled": false
   },
   "outputs": [
    {
     "name": "stdout",
     "output_type": "stream",
     "text": [
      "Songs have been gathered\n",
      "Now to grab lyrics\n",
      "Scraping Ac-Cent-Tchu-Ate The Positive Lyrics\n",
      "Scraping As Long As I Live Lyrics\n",
      "Scraping Between The Devil And The Deep Blue Sea Lyrics\n",
      "Scraping Blues In The Night Lyrics\n",
      "Scraping Come Rain Or Come Shine Lyrics\n",
      "Scraping Ding Dong The Witch Is Dead(From The Wizard Of Oz) Lyrics\n",
      "Scraping Ding-Dong! The Witch Is Dead Lyrics\n",
      "Scraping Don't Like Goodbyes Lyrics\n",
      "Scraping Down With Love Lyrics\n",
      "Scraping For Every Man There's A Woman Lyrics\n",
      "Scraping Get Happy Lyrics\n",
      "Scraping Get Happy, Song (used In \"9:15 Revue\") Lyrics\n",
      "Scraping Happiness Is A Thing Called Joe Lyrics\n",
      "Scraping Hooray For Love Lyrics\n",
      "Scraping I Gotta Right To Sing The Blues Lyrics\n",
      "Scraping I've Got The World On A String Lyrics\n",
      "Scraping Ill Wind Lyrics\n",
      "Scraping Ill Wind (You're Blowing Me No Good) Lyrics\n",
      "Scraping It's Only A Paper Moon Lyrics\n",
      "Scraping Kickin' The Gong Around Lyrics\n",
      "Scraping Last Night When We Were Young Lyrics\n",
      "Scraping Let's Fall In Love Lyrics\n",
      "Scraping Let's Take A Walk Around The Block Lyrics\n",
      "Scraping My Shining Hour Lyrics\n",
      "Scraping One For My Baby Lyrics\n",
      "Scraping Optimistic Voices Lyrics\n",
      "Scraping Out Of This World Lyrics\n",
      "Scraping Over The Rainbow Lyrics\n",
      "Scraping Sing My Heart Lyrics\n",
      "Scraping Smoke Rings Lyrics\n",
      "Scraping Stormy Weather Lyrics\n",
      "Scraping Stormy Weather, Song (from The Cotton Club Parade Of 1933) Lyrics\n",
      "Scraping That Old Black Magic Lyrics\n",
      "Scraping The Man That Got Away Lyrics\n",
      "Scraping This Time The Dream's On Me Lyrics\n",
      "Scraping When The Sun Comes Out Lyrics\n",
      "Scraping You're A Builder Upper Lyrics\n"
     ]
    }
   ],
   "source": [
    "harold_arlen = grabbing_songs_and_lyrics('https://www.lyricsfreak.com/h/harold+arlen/', 'Harold Arlen')"
   ]
  },
  {
   "cell_type": "code",
   "execution_count": 131,
   "metadata": {},
   "outputs": [],
   "source": [
    "harold_arlen_df = pd.DataFrame(harold_arlen)"
   ]
  },
  {
   "cell_type": "code",
   "execution_count": 132,
   "metadata": {},
   "outputs": [
    {
     "data": {
      "text/html": [
       "<div>\n",
       "<style scoped>\n",
       "    .dataframe tbody tr th:only-of-type {\n",
       "        vertical-align: middle;\n",
       "    }\n",
       "\n",
       "    .dataframe tbody tr th {\n",
       "        vertical-align: top;\n",
       "    }\n",
       "\n",
       "    .dataframe thead th {\n",
       "        text-align: right;\n",
       "    }\n",
       "</style>\n",
       "<table border=\"1\" class=\"dataframe\">\n",
       "  <thead>\n",
       "    <tr style=\"text-align: right;\">\n",
       "      <th></th>\n",
       "      <th>song_writer</th>\n",
       "      <th>song_name</th>\n",
       "      <th>lyrics</th>\n",
       "      <th>song_link</th>\n",
       "    </tr>\n",
       "  </thead>\n",
       "  <tbody>\n",
       "    <tr>\n",
       "      <th>0</th>\n",
       "      <td>Harold Arlen</td>\n",
       "      <td>Ac-Cent-Tchu-Ate The Positive Lyrics</td>\n",
       "      <td>\\n                    Gather 'round me, everyb...</td>\n",
       "      <td>https://www.lyricsfreak.com/h/harold+arlen/ + ...</td>\n",
       "    </tr>\n",
       "    <tr>\n",
       "      <th>1</th>\n",
       "      <td>Harold Arlen</td>\n",
       "      <td>As Long As I Live Lyrics</td>\n",
       "      <td>\\n                    Maybe I can't live to lo...</td>\n",
       "      <td>https://www.lyricsfreak.com/h/harold+arlen/ + ...</td>\n",
       "    </tr>\n",
       "    <tr>\n",
       "      <th>2</th>\n",
       "      <td>Harold Arlen</td>\n",
       "      <td>Between The Devil And The Deep Blue Sea Lyrics</td>\n",
       "      <td>\\n                    I don't want you\\nBut I ...</td>\n",
       "      <td>https://www.lyricsfreak.com/h/harold+arlen/ + ...</td>\n",
       "    </tr>\n",
       "    <tr>\n",
       "      <th>3</th>\n",
       "      <td>Harold Arlen</td>\n",
       "      <td>Blues In The Night Lyrics</td>\n",
       "      <td>\\n                    My mama done tol' me, wh...</td>\n",
       "      <td>https://www.lyricsfreak.com/h/harold+arlen/ + ...</td>\n",
       "    </tr>\n",
       "    <tr>\n",
       "      <th>4</th>\n",
       "      <td>Harold Arlen</td>\n",
       "      <td>Come Rain Or Come Shine Lyrics</td>\n",
       "      <td>\\n                    I'm gonna love you, like...</td>\n",
       "      <td>https://www.lyricsfreak.com/h/harold+arlen/ + ...</td>\n",
       "    </tr>\n",
       "  </tbody>\n",
       "</table>\n",
       "</div>"
      ],
      "text/plain": [
       "    song_writer                                       song_name  \\\n",
       "0  Harold Arlen            Ac-Cent-Tchu-Ate The Positive Lyrics   \n",
       "1  Harold Arlen                        As Long As I Live Lyrics   \n",
       "2  Harold Arlen  Between The Devil And The Deep Blue Sea Lyrics   \n",
       "3  Harold Arlen                       Blues In The Night Lyrics   \n",
       "4  Harold Arlen                  Come Rain Or Come Shine Lyrics   \n",
       "\n",
       "                                              lyrics  \\\n",
       "0  \\n                    Gather 'round me, everyb...   \n",
       "1  \\n                    Maybe I can't live to lo...   \n",
       "2  \\n                    I don't want you\\nBut I ...   \n",
       "3  \\n                    My mama done tol' me, wh...   \n",
       "4  \\n                    I'm gonna love you, like...   \n",
       "\n",
       "                                           song_link  \n",
       "0  https://www.lyricsfreak.com/h/harold+arlen/ + ...  \n",
       "1  https://www.lyricsfreak.com/h/harold+arlen/ + ...  \n",
       "2  https://www.lyricsfreak.com/h/harold+arlen/ + ...  \n",
       "3  https://www.lyricsfreak.com/h/harold+arlen/ + ...  \n",
       "4  https://www.lyricsfreak.com/h/harold+arlen/ + ...  "
      ]
     },
     "execution_count": 132,
     "metadata": {},
     "output_type": "execute_result"
    }
   ],
   "source": [
    "harold_arlen_df.head()"
   ]
  },
  {
   "cell_type": "markdown",
   "metadata": {},
   "source": [
    "### Concating some of the lyrics into a CSV"
   ]
  },
  {
   "cell_type": "code",
   "execution_count": 134,
   "metadata": {},
   "outputs": [],
   "source": [
    "some_composer_df = pd.concat([harold_arlen_df,\n",
    "           hoagy_carmichael_df,\n",
    "           oscar_hammerstein_df,\n",
    "           cole_porter_df], axis = 0)"
   ]
  },
  {
   "cell_type": "code",
   "execution_count": 135,
   "metadata": {},
   "outputs": [],
   "source": [
    "some_composer_df.to_csv('datasets/arlen_carmichael_hammerstein_porter.csv', index=False)"
   ]
  },
  {
   "cell_type": "markdown",
   "metadata": {},
   "source": [
    "#### Fats Waller"
   ]
  },
  {
   "cell_type": "code",
   "execution_count": 8,
   "metadata": {
    "scrolled": false
   },
   "outputs": [
    {
     "name": "stdout",
     "output_type": "stream",
     "text": [
      "Songs have been gathered\n",
      "Now to grab lyrics\n",
      "Scraping A Lyrics\n",
      "Scraping A Little Bit Independent Lyrics\n",
      "Scraping After You've Gone Lyrics\n",
      "Scraping Ain't Misbehavin Lyrics\n",
      "Scraping All God's Chillun Got Wings Lyrics\n",
      "Scraping All My Life Lyrics\n",
      "Scraping Basin Street Blues Lyrics\n",
      "Scraping Beale Street Blues Lyrics\n",
      "Scraping Black And Blue Lyrics\n",
      "Scraping Blue, Turning Grey Over You Lyrics\n",
      "Scraping Blues Lyrics\n",
      "Scraping But Not For Me Lyrics\n",
      "Scraping By The Light Of The Silvery Moon Lyrics\n",
      "Scraping Cross Patch Lyrics\n",
      "Scraping Darktown Strutters' Ball Lyrics\n",
      "Scraping Dinah Lyrics\n",
      "Scraping Do Me A Favor Lyrics\n",
      "Scraping Everybody Loves My Baby Lyrics\n",
      "Scraping Handful Of Keys Lyrics\n",
      "Scraping Hold Tight (Want Some Sea Food, Mama) Lyrics\n",
      "Scraping Honeysuckle Rose (A Jam Session At Victor) Lyrics\n",
      "Scraping I Can't Give You Anything But Love (Feat.&hellip; Lyrics\n",
      "Scraping I Got Rhythm Lyrics\n",
      "Scraping I Love To Whistle Lyrics\n",
      "Scraping I'll Never Smile Again Lyrics\n",
      "Scraping I'm Crazy 'Bout My Baby (And My Baby's Crazy 'Bout Me) Lyrics\n",
      "Scraping I've Got A Crush On You Lyrics\n",
      "Scraping I've Got A Feeling I'm Falling Lyrics\n",
      "Scraping In My Solitude Lyrics\n",
      "Scraping It's A Sin To Tell A Lie Lyrics\n",
      "Scraping Keepin' Out Of Mischief Now Lyrics\n",
      "Scraping Let's Sing Again Lyrics\n",
      "Scraping Little Curly Hair In A High Chair Lyrics\n",
      "Scraping Lonesome Road Lyrics\n",
      "Scraping Lookin' Good But Feelin' Bad Lyrics\n",
      "Scraping Lulu's Back In Town Lyrics\n",
      "Scraping Smarty Lyrics\n",
      "Scraping Solitude Lyrics\n",
      "Scraping Someone To Watch Over Me Lyrics\n",
      "Scraping St. Louis Blues Lyrics\n",
      "Scraping Take It Easy Lyrics\n",
      "Scraping That Old Feeling Lyrics\n",
      "Scraping The Flat Foot Floogie Lyrics\n",
      "Scraping Then I'll Be Tired Of You Lyrics\n",
      "Scraping Then I'll Be Tried Of You Lyrics\n",
      "Scraping Tiger Rag Lyrics\n",
      "Scraping Truckin' Lyrics\n",
      "Scraping Two Sleepy People Lyrics\n",
      "Scraping Until The Real Thing Comes Along Lyrics\n",
      "Scraping Willow Tree Lyrics\n",
      "Scraping You're Not The Kind Lyrics\n",
      "Scraping Your Feet's Too Big Lyrics\n"
     ]
    }
   ],
   "source": [
    "fats_waller = grabbing_songs_and_lyrics('https://www.lyricsfreak.com/f/fats+waller/', 'Fats Waller')"
   ]
  },
  {
   "cell_type": "code",
   "execution_count": 9,
   "metadata": {},
   "outputs": [],
   "source": [
    "fats_waller_df = pd.DataFrame(fats_waller)"
   ]
  },
  {
   "cell_type": "code",
   "execution_count": 10,
   "metadata": {},
   "outputs": [
    {
     "data": {
      "text/plain": [
       "(52, 4)"
      ]
     },
     "execution_count": 10,
     "metadata": {},
     "output_type": "execute_result"
    }
   ],
   "source": [
    "fats_waller_df.shape"
   ]
  },
  {
   "cell_type": "code",
   "execution_count": 11,
   "metadata": {},
   "outputs": [
    {
     "data": {
      "text/plain": [
       "\"\\n                    A-Tisket A-Tasket\\r\\nA green and yellow basket\\r\\nI bought a basket for my mommie\\r\\nOn the way I dropped it\\r\\nI dropped it, I dropped it\\r\\nYes on the way I dropped it\\r\\nA little girlie picked it up\\r\\nAnd took it to the market\\r\\nShe was truckin' on down the \\r\\nAvenue without a single thing to do\\r\\nShe was peck, peck, peckin' all around\\r\\nWhen she spied it on the ground\\r\\nA-Tisket A-Tasket\\r\\nShe took my yellow basket \\r\\nAnd if she doesn't bring it back\\r\\nI think that I shall die\\r\\n(Was it red?)\\r\\nNo, no, no, no\\r\\n(Was it brown?)\\r\\nNo, no, no, no\\r\\n(Was it blue)\\r\\nNo, no, no, no\\r\\nJust a little yellow basket                \""
      ]
     },
     "execution_count": 11,
     "metadata": {},
     "output_type": "execute_result"
    }
   ],
   "source": [
    "fats_waller_df['lyrics'][0]"
   ]
  },
  {
   "cell_type": "markdown",
   "metadata": {},
   "source": [
    "#### George Gershwin"
   ]
  },
  {
   "cell_type": "markdown",
   "metadata": {},
   "source": [
    "The George Gershwin list of lyrics were set up differently. So I had to create slightly different code to work with the different errors that were popping up. There were songs on the webpage that didn't have a hyperlink and it was throwing an error in my code. I resolved it, by skipping those empty lyrics. "
   ]
  },
  {
   "cell_type": "code",
   "execution_count": 12,
   "metadata": {},
   "outputs": [],
   "source": [
    "# https://www.lyricsfreak.com/g/george+gershwin/\n",
    "url = 'https://www.lyricsfreak.com/g/george+gershwin/'\n",
    "res = requests.get(url)\n",
    "soup = BeautifulSoup(res.content, 'lxml')\n",
    "george_gershwin_table = soup.find('div', {'class': 'lf-list js-sort-table'})"
   ]
  },
  {
   "cell_type": "code",
   "execution_count": 34,
   "metadata": {},
   "outputs": [
    {
     "data": {
      "text/plain": [
       "[{'song_title': \"'s Wonderful Lyrics\",\n",
       "  'href': '/g/george+gershwin/s+wonderful_20344866.html'},\n",
       " {'song_title': \"(I've Got) Beginner's Luck Lyrics\",\n",
       "  'href': '/g/george+gershwin/ive+got+beginners+luck_21365799.html'},\n",
       " {'song_title': 'A Foggy Day Lyrics',\n",
       "  'href': '/g/george+gershwin/a+foggy+day_21361499.html'},\n",
       " {'song_title': 'A Foggy Day (In London Town) Lyrics',\n",
       "  'href': '/g/george+gershwin/a+foggy+day+in+london+town_21365803.html'},\n",
       " {'song_title': 'A Woman Is A Sometime Thing Lyrics',\n",
       "  'href': '/g/george+gershwin/a+woman+is+a+sometime+thing_20344488.html'},\n",
       " {'song_title': \"Aren't You Kind Of Glad We Did? Lyrics\",\n",
       "  'href': '/g/george+gershwin/arent+you+kind+of+glad+we+did_21362061.html'},\n",
       " {'song_title': 'Begin The Beguine Lyrics',\n",
       "  'href': '/g/george+gershwin/begin+the+beguine_21362575.html'},\n",
       " {'song_title': 'But Not For Me Lyrics',\n",
       "  'href': '/g/george+gershwin/but+not+for+me_20162546.html'},\n",
       " {'song_title': \"Clap Yo' Hands Lyrics\",\n",
       "  'href': '/g/george+gershwin/clap+yo+hands_21361347.html'},\n",
       " {'song_title': 'Crazy For You Lyrics',\n",
       "  'href': '/g/george+gershwin/crazy+for+you_20631812.html'},\n",
       " {'song_title': 'Do, Do, Do Lyrics',\n",
       "  'href': '/g/george+gershwin/do+do+do_20742858.html'},\n",
       " {'song_title': 'Embraceable You Lyrics',\n",
       "  'href': '/g/george+gershwin/embraceable+you_20251923.html'},\n",
       " {'song_title': \"Ev'ry Time We Say Goodbye Lyrics\",\n",
       "  'href': '/g/george+gershwin/evry+time+we+say+goodbye_21362579.html'},\n",
       " {'song_title': 'Fascinating Rhythm/Liza Lyrics',\n",
       "  'href': '/g/george+gershwin/fascinating+rhythmliza_21364099.html'},\n",
       " {'song_title': 'From This Moment On Lyrics',\n",
       "  'href': '/g/george+gershwin/from+this+moment+on_21362573.html'},\n",
       " {'song_title': 'How Long Has This Been Going On? Lyrics',\n",
       "  'href': '/g/george+gershwin/how+long+has+this+been+going+on_20631811.html'},\n",
       " {'song_title': \"I Got Plenty O' Nuttin' Lyrics\",\n",
       "  'href': '/g/george+gershwin/i+got+plenty+o+nuttin_21361497.html'},\n",
       " {'song_title': 'I Got Rhythm Lyrics',\n",
       "  'href': '/g/george+gershwin/i+got+rhythm_20209963.html'},\n",
       " {'song_title': \"I'll Build A Stairway To Paradise Lyrics\",\n",
       "  'href': '/g/george+gershwin/ill+build+a+stairway+to+paradise_20236646.html'},\n",
       " {'song_title': \"I'm Forever Blowing Bubbles (interpolated Into The Passing Show Of 1918 Lyrics\",\n",
       "  'href': '/g/george+gershwin/im+forever+blowing+bubbles+interpolated+into+the+passing+show+of+1918_21362645.html'},\n",
       " {'song_title': \"I've Got A Crush On You Lyrics\",\n",
       "  'href': '/g/george+gershwin/ive+got+a+crush+on+you_20332681.html'},\n",
       " {'song_title': \"Isn't It A Pity? Lyrics\",\n",
       "  'href': '/g/george+gershwin/isnt+it+a+pity_21362513.html'},\n",
       " {'song_title': \"It Ain't Necessarily So Lyrics\",\n",
       "  'href': '/g/george+gershwin/it+aint+necessarily+so_20631810.html'},\n",
       " {'song_title': \"It's De-Lovely Lyrics\",\n",
       "  'href': '/g/george+gershwin/its+de+lovely_21362583.html'},\n",
       " {'song_title': \"Let's Call The Whole Thing Off Lyrics\",\n",
       "  'href': '/g/george+gershwin/lets+call+the+whole+thing+off_21361501.html'},\n",
       " {'song_title': 'Life Is Just A Bowl Of Cherries Lyrics',\n",
       "  'href': '/g/george+gershwin/life+is+just+a+bowl+of+cherries_20631809.html'},\n",
       " {'song_title': \"Liza (All The Clouds'll Roll Away) Lyrics\",\n",
       "  'href': '/g/george+gershwin/liza+all+the+cloudsll+roll+away_21362179.html'},\n",
       " {'song_title': 'Long Ago (And Far Away) Lyrics',\n",
       "  'href': '/g/george+gershwin/long+ago+and+far+away_21362005.html'},\n",
       " {'song_title': 'Looking For A Boy Lyrics',\n",
       "  'href': '/g/george+gershwin/looking+for+a+boy_21360875.html'},\n",
       " {'song_title': 'Love Walked In Lyrics',\n",
       "  'href': '/g/george+gershwin/love+walked+in_20250286.html'},\n",
       " {'song_title': 'My Heart Belongs To Daddy Lyrics',\n",
       "  'href': '/g/george+gershwin/my+heart+belongs+to+daddy_21362577.html'},\n",
       " {'song_title': 'My One And Only Lyrics',\n",
       "  'href': '/g/george+gershwin/my+one+and+only_21361451.html'},\n",
       " {'song_title': 'Nice Work If You Can Get It Lyrics',\n",
       "  'href': '/g/george+gershwin/nice+work+if+you+can+get+it_20271028.html'},\n",
       " {'song_title': 'Oh Lady Be Good Lyrics',\n",
       "  'href': '/g/george+gershwin/oh+lady+be+good_20213757.html'},\n",
       " {'song_title': 'Oh, Lady Be Good, Song (from Lady, Be Good!, Musical) Lyrics',\n",
       "  'href': '/g/george+gershwin/oh+lady+be+good+song+from+lady+be+good+musical_21362569.html'},\n",
       " {'song_title': 'Somebody Loves Me Lyrics',\n",
       "  'href': '/g/george+gershwin/somebody+loves+me_20631808.html'},\n",
       " {'song_title': 'Someone To Watch Over Me Lyrics',\n",
       "  'href': '/g/george+gershwin/someone+to+watch+over+me_20260554.html'},\n",
       " {'song_title': 'Soon Lyrics',\n",
       "  'href': '/g/george+gershwin/soon_21362629.html'},\n",
       " {'song_title': 'Strike Up The Band Lyrics',\n",
       "  'href': '/g/george+gershwin/strike+up+the+band_21360871.html'},\n",
       " {'song_title': 'Summertime Lyrics',\n",
       "  'href': '/g/george+gershwin/summertime_20631807.html'},\n",
       " {'song_title': 'Swanee Lyrics',\n",
       "  'href': '/g/george+gershwin/swanee_20345203.html'},\n",
       " {'song_title': 'Swanee / Sign-off, February 19, 1934 Lyrics',\n",
       "  'href': '/g/george+gershwin/swanee+sign+off+february+19+1934_21361011.html'},\n",
       " {'song_title': 'The Babbitt And The Bromide Lyrics',\n",
       "  'href': '/g/george+gershwin/the+babbitt+and+the+bromide_21365801.html'},\n",
       " {'song_title': 'The Half Of It, Dearie, Blues Lyrics',\n",
       "  'href': '/g/george+gershwin/the+half+of+it+dearie+blues_21361987.html'},\n",
       " {'song_title': 'The Man I Love Lyrics',\n",
       "  'href': '/g/george+gershwin/the+man+i+love_20259385.html'},\n",
       " {'song_title': 'The Moon Is On The Sea Lyrics',\n",
       "  'href': '/g/george+gershwin/the+moon+is+on+the+sea_21361463.html'},\n",
       " {'song_title': 'The Physician Lyrics',\n",
       "  'href': '/g/george+gershwin/the+physician_21362581.html'},\n",
       " {'song_title': 'They All Laughed Lyrics',\n",
       "  'href': '/g/george+gershwin/they+all+laughed_20352632.html'},\n",
       " {'song_title': \"They Can't Take That Away From Me Lyrics\",\n",
       "  'href': '/g/george+gershwin/they+cant+take+that+away+from+me_20351631.html'},\n",
       " {'song_title': 'Whispering Lyrics',\n",
       "  'href': '/g/george+gershwin/whispering_21361141.html'},\n",
       " {'song_title': 'Who Cares? Lyrics',\n",
       "  'href': '/g/george+gershwin/who+cares_21360845.html'}]"
      ]
     },
     "execution_count": 34,
     "metadata": {},
     "output_type": "execute_result"
    }
   ],
   "source": [
    "george_gershwin_songs = []\n",
    "\n",
    "for row in george_gershwin_table.find_all('a'):\n",
    "    try:\n",
    "        gg_song = {\n",
    "            'song_title': row.attrs['title'],\n",
    "            'href': row.attrs['href']             \n",
    "        }\n",
    "        george_gershwin_songs.append(gg_song)\n",
    "    except:\n",
    "        pass\n",
    "#     george_gershwin_songs.append(gg_song)\n",
    "# pd.DataFrame(cole_porter_songs)\n",
    "george_gershwin_songs"
   ]
  },
  {
   "cell_type": "code",
   "execution_count": 38,
   "metadata": {},
   "outputs": [
    {
     "name": "stdout",
     "output_type": "stream",
     "text": [
      "Songs have been gathered\n",
      "Now to grab lyrics\n",
      "Scraping 's Wonderful Lyrics\n",
      "Scraping (I've Got) Beginner's Luck Lyrics\n",
      "Scraping A Foggy Day Lyrics\n",
      "Scraping A Foggy Day (In London Town) Lyrics\n",
      "Scraping A Woman Is A Sometime Thing Lyrics\n",
      "Scraping Aren't You Kind Of Glad We Did? Lyrics\n",
      "Scraping Begin The Beguine Lyrics\n",
      "Scraping But Not For Me Lyrics\n",
      "Scraping Clap Yo' Hands Lyrics\n",
      "Scraping Crazy For You Lyrics\n",
      "Scraping Do, Do, Do Lyrics\n",
      "Scraping Embraceable You Lyrics\n",
      "Scraping Ev'ry Time We Say Goodbye Lyrics\n",
      "Scraping Fascinating Rhythm/Liza Lyrics\n",
      "Scraping From This Moment On Lyrics\n",
      "Scraping How Long Has This Been Going On? Lyrics\n",
      "Scraping I Got Plenty O' Nuttin' Lyrics\n",
      "Scraping I Got Rhythm Lyrics\n",
      "Scraping I'll Build A Stairway To Paradise Lyrics\n",
      "Scraping I'm Forever Blowing Bubbles (interpolated Into The Passing Show Of 1918 Lyrics\n",
      "Scraping I've Got A Crush On You Lyrics\n",
      "Scraping Isn't It A Pity? Lyrics\n",
      "Scraping It Ain't Necessarily So Lyrics\n",
      "Scraping It's De-Lovely Lyrics\n",
      "Scraping Let's Call The Whole Thing Off Lyrics\n",
      "Scraping Life Is Just A Bowl Of Cherries Lyrics\n",
      "Scraping Liza (All The Clouds'll Roll Away) Lyrics\n",
      "Scraping Long Ago (And Far Away) Lyrics\n",
      "Scraping Looking For A Boy Lyrics\n",
      "Scraping Love Walked In Lyrics\n",
      "Scraping My Heart Belongs To Daddy Lyrics\n",
      "Scraping My One And Only Lyrics\n",
      "Scraping Nice Work If You Can Get It Lyrics\n",
      "Scraping Oh Lady Be Good Lyrics\n",
      "Scraping Oh, Lady Be Good, Song (from Lady, Be Good!, Musical) Lyrics\n",
      "Scraping Somebody Loves Me Lyrics\n",
      "Scraping Someone To Watch Over Me Lyrics\n",
      "Scraping Soon Lyrics\n",
      "Scraping Strike Up The Band Lyrics\n",
      "Scraping Summertime Lyrics\n",
      "Scraping Swanee Lyrics\n",
      "Scraping Swanee / Sign-off, February 19, 1934 Lyrics\n",
      "Scraping The Babbitt And The Bromide Lyrics\n",
      "Scraping The Half Of It, Dearie, Blues Lyrics\n",
      "Scraping The Man I Love Lyrics\n",
      "Scraping The Moon Is On The Sea Lyrics\n",
      "Scraping The Physician Lyrics\n",
      "Scraping They All Laughed Lyrics\n",
      "Scraping They Can't Take That Away From Me Lyrics\n",
      "Scraping Whispering Lyrics\n",
      "Scraping Who Cares? Lyrics\n"
     ]
    }
   ],
   "source": [
    "george_gershwin = grabbing_songs_and_lyrics('https://www.lyricsfreak.com/g/george+gershwin/', 'George Gershwin')"
   ]
  },
  {
   "cell_type": "code",
   "execution_count": 39,
   "metadata": {},
   "outputs": [],
   "source": [
    "george_gershwin_df = pd.DataFrame(george_gershwin)"
   ]
  },
  {
   "cell_type": "code",
   "execution_count": 43,
   "metadata": {},
   "outputs": [
    {
     "data": {
      "text/html": [
       "<div>\n",
       "<style scoped>\n",
       "    .dataframe tbody tr th:only-of-type {\n",
       "        vertical-align: middle;\n",
       "    }\n",
       "\n",
       "    .dataframe tbody tr th {\n",
       "        vertical-align: top;\n",
       "    }\n",
       "\n",
       "    .dataframe thead th {\n",
       "        text-align: right;\n",
       "    }\n",
       "</style>\n",
       "<table border=\"1\" class=\"dataframe\">\n",
       "  <thead>\n",
       "    <tr style=\"text-align: right;\">\n",
       "      <th></th>\n",
       "      <th>song_writer</th>\n",
       "      <th>song_name</th>\n",
       "      <th>lyrics</th>\n",
       "      <th>song_link</th>\n",
       "    </tr>\n",
       "  </thead>\n",
       "  <tbody>\n",
       "    <tr>\n",
       "      <th>0</th>\n",
       "      <td>George Gershwin</td>\n",
       "      <td>'s Wonderful Lyrics</td>\n",
       "      <td>\\n                    Life has just begun,\\nJa...</td>\n",
       "      <td>https://www.lyricsfreak.com/g/george+gershwin/...</td>\n",
       "    </tr>\n",
       "    <tr>\n",
       "      <th>1</th>\n",
       "      <td>George Gershwin</td>\n",
       "      <td>(I've Got) Beginner's Luck Lyrics</td>\n",
       "      <td>\\n                    At any gambling casino\\r...</td>\n",
       "      <td>https://www.lyricsfreak.com/g/george+gershwin/...</td>\n",
       "    </tr>\n",
       "    <tr>\n",
       "      <th>2</th>\n",
       "      <td>George Gershwin</td>\n",
       "      <td>A Foggy Day Lyrics</td>\n",
       "      <td>\\n                    I was a stranger in the ...</td>\n",
       "      <td>https://www.lyricsfreak.com/g/george+gershwin/...</td>\n",
       "    </tr>\n",
       "    <tr>\n",
       "      <th>3</th>\n",
       "      <td>George Gershwin</td>\n",
       "      <td>A Foggy Day (In London Town) Lyrics</td>\n",
       "      <td>\\n                    I was a stranger in the ...</td>\n",
       "      <td>https://www.lyricsfreak.com/g/george+gershwin/...</td>\n",
       "    </tr>\n",
       "    <tr>\n",
       "      <th>4</th>\n",
       "      <td>George Gershwin</td>\n",
       "      <td>A Woman Is A Sometime Thing Lyrics</td>\n",
       "      <td>\\n                    Listen to yo' daddy warn...</td>\n",
       "      <td>https://www.lyricsfreak.com/g/george+gershwin/...</td>\n",
       "    </tr>\n",
       "    <tr>\n",
       "      <th>5</th>\n",
       "      <td>George Gershwin</td>\n",
       "      <td>Aren't You Kind Of Glad We Did? Lyrics</td>\n",
       "      <td>\\n                    Oh, it really wasn't my ...</td>\n",
       "      <td>https://www.lyricsfreak.com/g/george+gershwin/...</td>\n",
       "    </tr>\n",
       "    <tr>\n",
       "      <th>6</th>\n",
       "      <td>George Gershwin</td>\n",
       "      <td>Begin The Beguine Lyrics</td>\n",
       "      <td>\\n                    When they begin the begu...</td>\n",
       "      <td>https://www.lyricsfreak.com/g/george+gershwin/...</td>\n",
       "    </tr>\n",
       "    <tr>\n",
       "      <th>7</th>\n",
       "      <td>George Gershwin</td>\n",
       "      <td>But Not For Me Lyrics</td>\n",
       "      <td>\\n                    Old Man Sunshine, listen...</td>\n",
       "      <td>https://www.lyricsfreak.com/g/george+gershwin/...</td>\n",
       "    </tr>\n",
       "    <tr>\n",
       "      <th>8</th>\n",
       "      <td>George Gershwin</td>\n",
       "      <td>Clap Yo' Hands Lyrics</td>\n",
       "      <td>\\n                    Come on, you children, g...</td>\n",
       "      <td>https://www.lyricsfreak.com/g/george+gershwin/...</td>\n",
       "    </tr>\n",
       "    <tr>\n",
       "      <th>9</th>\n",
       "      <td>George Gershwin</td>\n",
       "      <td>Crazy For You Lyrics</td>\n",
       "      <td>\\n                    Swaying room as the musi...</td>\n",
       "      <td>https://www.lyricsfreak.com/g/george+gershwin/...</td>\n",
       "    </tr>\n",
       "    <tr>\n",
       "      <th>10</th>\n",
       "      <td>George Gershwin</td>\n",
       "      <td>Do, Do, Do Lyrics</td>\n",
       "      <td>\\n                    Oh, do, do, do\\nWhat you...</td>\n",
       "      <td>https://www.lyricsfreak.com/g/george+gershwin/...</td>\n",
       "    </tr>\n",
       "    <tr>\n",
       "      <th>11</th>\n",
       "      <td>George Gershwin</td>\n",
       "      <td>Embraceable You Lyrics</td>\n",
       "      <td>\\n                    Dozens of girls would st...</td>\n",
       "      <td>https://www.lyricsfreak.com/g/george+gershwin/...</td>\n",
       "    </tr>\n",
       "    <tr>\n",
       "      <th>12</th>\n",
       "      <td>George Gershwin</td>\n",
       "      <td>Ev'ry Time We Say Goodbye Lyrics</td>\n",
       "      <td>\\n                    Every time we say goodby...</td>\n",
       "      <td>https://www.lyricsfreak.com/g/george+gershwin/...</td>\n",
       "    </tr>\n",
       "    <tr>\n",
       "      <th>13</th>\n",
       "      <td>George Gershwin</td>\n",
       "      <td>Fascinating Rhythm/Liza Lyrics</td>\n",
       "      <td>\\n                    Got a little rhythm, a r...</td>\n",
       "      <td>https://www.lyricsfreak.com/g/george+gershwin/...</td>\n",
       "    </tr>\n",
       "    <tr>\n",
       "      <th>14</th>\n",
       "      <td>George Gershwin</td>\n",
       "      <td>From This Moment On Lyrics</td>\n",
       "      <td>\\n                    From this moment on,\\r\\n...</td>\n",
       "      <td>https://www.lyricsfreak.com/g/george+gershwin/...</td>\n",
       "    </tr>\n",
       "    <tr>\n",
       "      <th>15</th>\n",
       "      <td>George Gershwin</td>\n",
       "      <td>How Long Has This Been Going On? Lyrics</td>\n",
       "      <td>\\n                    As a tot, when I trotted...</td>\n",
       "      <td>https://www.lyricsfreak.com/g/george+gershwin/...</td>\n",
       "    </tr>\n",
       "    <tr>\n",
       "      <th>16</th>\n",
       "      <td>George Gershwin</td>\n",
       "      <td>I Got Plenty O' Nuttin' Lyrics</td>\n",
       "      <td>\\n                    Oh, I got plenty o' nutt...</td>\n",
       "      <td>https://www.lyricsfreak.com/g/george+gershwin/...</td>\n",
       "    </tr>\n",
       "    <tr>\n",
       "      <th>17</th>\n",
       "      <td>George Gershwin</td>\n",
       "      <td>I Got Rhythm Lyrics</td>\n",
       "      <td>\\n                    Days can be sunny,\\nWith...</td>\n",
       "      <td>https://www.lyricsfreak.com/g/george+gershwin/...</td>\n",
       "    </tr>\n",
       "    <tr>\n",
       "      <th>18</th>\n",
       "      <td>George Gershwin</td>\n",
       "      <td>I'll Build A Stairway To Paradise Lyrics</td>\n",
       "      <td>\\n                    Verse One\\nAll you preac...</td>\n",
       "      <td>https://www.lyricsfreak.com/g/george+gershwin/...</td>\n",
       "    </tr>\n",
       "    <tr>\n",
       "      <th>19</th>\n",
       "      <td>George Gershwin</td>\n",
       "      <td>I'm Forever Blowing Bubbles (interpolated Into...</td>\n",
       "      <td>\\n                    I'm dreaming dreams, I'm...</td>\n",
       "      <td>https://www.lyricsfreak.com/g/george+gershwin/...</td>\n",
       "    </tr>\n",
       "    <tr>\n",
       "      <th>20</th>\n",
       "      <td>George Gershwin</td>\n",
       "      <td>I've Got A Crush On You Lyrics</td>\n",
       "      <td>\\n                    How glad a million laddi...</td>\n",
       "      <td>https://www.lyricsfreak.com/g/george+gershwin/...</td>\n",
       "    </tr>\n",
       "    <tr>\n",
       "      <th>21</th>\n",
       "      <td>George Gershwin</td>\n",
       "      <td>Isn't It A Pity? Lyrics</td>\n",
       "      <td>\\n                    Why did I wander\\r\\nHere...</td>\n",
       "      <td>https://www.lyricsfreak.com/g/george+gershwin/...</td>\n",
       "    </tr>\n",
       "    <tr>\n",
       "      <th>22</th>\n",
       "      <td>George Gershwin</td>\n",
       "      <td>It Ain't Necessarily So Lyrics</td>\n",
       "      <td>\\n                    It ain't necessarily so\\...</td>\n",
       "      <td>https://www.lyricsfreak.com/g/george+gershwin/...</td>\n",
       "    </tr>\n",
       "    <tr>\n",
       "      <th>23</th>\n",
       "      <td>George Gershwin</td>\n",
       "      <td>It's De-Lovely Lyrics</td>\n",
       "      <td>\\n                    The night is young, the ...</td>\n",
       "      <td>https://www.lyricsfreak.com/g/george+gershwin/...</td>\n",
       "    </tr>\n",
       "    <tr>\n",
       "      <th>24</th>\n",
       "      <td>George Gershwin</td>\n",
       "      <td>Let's Call The Whole Thing Off Lyrics</td>\n",
       "      <td>\\n                    Things have come to a pr...</td>\n",
       "      <td>https://www.lyricsfreak.com/g/george+gershwin/...</td>\n",
       "    </tr>\n",
       "    <tr>\n",
       "      <th>25</th>\n",
       "      <td>George Gershwin</td>\n",
       "      <td>Life Is Just A Bowl Of Cherries Lyrics</td>\n",
       "      <td>\\n                    People are queer, they'r...</td>\n",
       "      <td>https://www.lyricsfreak.com/g/george+gershwin/...</td>\n",
       "    </tr>\n",
       "    <tr>\n",
       "      <th>26</th>\n",
       "      <td>George Gershwin</td>\n",
       "      <td>Liza (All The Clouds'll Roll Away) Lyrics</td>\n",
       "      <td>\\n                    Liza, Liza, skies are gr...</td>\n",
       "      <td>https://www.lyricsfreak.com/g/george+gershwin/...</td>\n",
       "    </tr>\n",
       "    <tr>\n",
       "      <th>27</th>\n",
       "      <td>George Gershwin</td>\n",
       "      <td>Long Ago (And Far Away) Lyrics</td>\n",
       "      <td>\\n                    Dreary days are over\\r\\n...</td>\n",
       "      <td>https://www.lyricsfreak.com/g/george+gershwin/...</td>\n",
       "    </tr>\n",
       "    <tr>\n",
       "      <th>28</th>\n",
       "      <td>George Gershwin</td>\n",
       "      <td>Looking For A Boy Lyrics</td>\n",
       "      <td>\\n                    I am just a little girl\\...</td>\n",
       "      <td>https://www.lyricsfreak.com/g/george+gershwin/...</td>\n",
       "    </tr>\n",
       "    <tr>\n",
       "      <th>29</th>\n",
       "      <td>George Gershwin</td>\n",
       "      <td>Love Walked In Lyrics</td>\n",
       "      <td>\\n                    Nothing seemed to matter...</td>\n",
       "      <td>https://www.lyricsfreak.com/g/george+gershwin/...</td>\n",
       "    </tr>\n",
       "    <tr>\n",
       "      <th>30</th>\n",
       "      <td>George Gershwin</td>\n",
       "      <td>My Heart Belongs To Daddy Lyrics</td>\n",
       "      <td>\\n                    I used to fall in love w...</td>\n",
       "      <td>https://www.lyricsfreak.com/g/george+gershwin/...</td>\n",
       "    </tr>\n",
       "    <tr>\n",
       "      <th>31</th>\n",
       "      <td>George Gershwin</td>\n",
       "      <td>My One And Only Lyrics</td>\n",
       "      <td>\\n                    My one and only,\\r\\nWhat...</td>\n",
       "      <td>https://www.lyricsfreak.com/g/george+gershwin/...</td>\n",
       "    </tr>\n",
       "    <tr>\n",
       "      <th>32</th>\n",
       "      <td>George Gershwin</td>\n",
       "      <td>Nice Work If You Can Get It Lyrics</td>\n",
       "      <td>\\n                    The man who only live fo...</td>\n",
       "      <td>https://www.lyricsfreak.com/g/george+gershwin/...</td>\n",
       "    </tr>\n",
       "    <tr>\n",
       "      <th>33</th>\n",
       "      <td>George Gershwin</td>\n",
       "      <td>Oh Lady Be Good Lyrics</td>\n",
       "      <td>\\n                    Listen to my tale of woe...</td>\n",
       "      <td>https://www.lyricsfreak.com/g/george+gershwin/...</td>\n",
       "    </tr>\n",
       "    <tr>\n",
       "      <th>34</th>\n",
       "      <td>George Gershwin</td>\n",
       "      <td>Oh, Lady Be Good, Song (from Lady, Be Good!, M...</td>\n",
       "      <td>\\n                    Listen to my tale of woe...</td>\n",
       "      <td>https://www.lyricsfreak.com/g/george+gershwin/...</td>\n",
       "    </tr>\n",
       "    <tr>\n",
       "      <th>35</th>\n",
       "      <td>George Gershwin</td>\n",
       "      <td>Somebody Loves Me Lyrics</td>\n",
       "      <td>\\n                    When this world began\\nI...</td>\n",
       "      <td>https://www.lyricsfreak.com/g/george+gershwin/...</td>\n",
       "    </tr>\n",
       "    <tr>\n",
       "      <th>36</th>\n",
       "      <td>George Gershwin</td>\n",
       "      <td>Someone To Watch Over Me Lyrics</td>\n",
       "      <td>\\n                    There's a saying old say...</td>\n",
       "      <td>https://www.lyricsfreak.com/g/george+gershwin/...</td>\n",
       "    </tr>\n",
       "    <tr>\n",
       "      <th>37</th>\n",
       "      <td>George Gershwin</td>\n",
       "      <td>Soon Lyrics</td>\n",
       "      <td>\\n                    Soon, my dear, you'll ne...</td>\n",
       "      <td>https://www.lyricsfreak.com/g/george+gershwin/...</td>\n",
       "    </tr>\n",
       "    <tr>\n",
       "      <th>38</th>\n",
       "      <td>George Gershwin</td>\n",
       "      <td>Strike Up The Band Lyrics</td>\n",
       "      <td>\\n                    Let the drums roll out\\r...</td>\n",
       "      <td>https://www.lyricsfreak.com/g/george+gershwin/...</td>\n",
       "    </tr>\n",
       "    <tr>\n",
       "      <th>39</th>\n",
       "      <td>George Gershwin</td>\n",
       "      <td>Summertime Lyrics</td>\n",
       "      <td>\\n                    Summertime,\\nAnd the liv...</td>\n",
       "      <td>https://www.lyricsfreak.com/g/george+gershwin/...</td>\n",
       "    </tr>\n",
       "    <tr>\n",
       "      <th>40</th>\n",
       "      <td>George Gershwin</td>\n",
       "      <td>Swanee Lyrics</td>\n",
       "      <td>\\n                    Intro verse:\\nI've been ...</td>\n",
       "      <td>https://www.lyricsfreak.com/g/george+gershwin/...</td>\n",
       "    </tr>\n",
       "    <tr>\n",
       "      <th>41</th>\n",
       "      <td>George Gershwin</td>\n",
       "      <td>Swanee / Sign-off, February 19, 1934 Lyrics</td>\n",
       "      <td>\\n                    I've been away from you ...</td>\n",
       "      <td>https://www.lyricsfreak.com/g/george+gershwin/...</td>\n",
       "    </tr>\n",
       "    <tr>\n",
       "      <th>42</th>\n",
       "      <td>George Gershwin</td>\n",
       "      <td>The Babbitt And The Bromide Lyrics</td>\n",
       "      <td>\\n                    A babbitt met a bromide ...</td>\n",
       "      <td>https://www.lyricsfreak.com/g/george+gershwin/...</td>\n",
       "    </tr>\n",
       "    <tr>\n",
       "      <th>43</th>\n",
       "      <td>George Gershwin</td>\n",
       "      <td>The Half Of It, Dearie, Blues Lyrics</td>\n",
       "      <td>\\n                    Each time you trill a so...</td>\n",
       "      <td>https://www.lyricsfreak.com/g/george+gershwin/...</td>\n",
       "    </tr>\n",
       "    <tr>\n",
       "      <th>44</th>\n",
       "      <td>George Gershwin</td>\n",
       "      <td>The Man I Love Lyrics</td>\n",
       "      <td>\\n                    When the mellow moon beg...</td>\n",
       "      <td>https://www.lyricsfreak.com/g/george+gershwin/...</td>\n",
       "    </tr>\n",
       "    <tr>\n",
       "      <th>45</th>\n",
       "      <td>George Gershwin</td>\n",
       "      <td>The Moon Is On The Sea Lyrics</td>\n",
       "      <td>\\n                    A woman's touch, a woman...</td>\n",
       "      <td>https://www.lyricsfreak.com/g/george+gershwin/...</td>\n",
       "    </tr>\n",
       "    <tr>\n",
       "      <th>46</th>\n",
       "      <td>George Gershwin</td>\n",
       "      <td>The Physician Lyrics</td>\n",
       "      <td>\\n                    Once I loved such a shat...</td>\n",
       "      <td>https://www.lyricsfreak.com/g/george+gershwin/...</td>\n",
       "    </tr>\n",
       "    <tr>\n",
       "      <th>47</th>\n",
       "      <td>George Gershwin</td>\n",
       "      <td>They All Laughed Lyrics</td>\n",
       "      <td>\\n                    The odds were a hundred ...</td>\n",
       "      <td>https://www.lyricsfreak.com/g/george+gershwin/...</td>\n",
       "    </tr>\n",
       "    <tr>\n",
       "      <th>48</th>\n",
       "      <td>George Gershwin</td>\n",
       "      <td>They Can't Take That Away From Me Lyrics</td>\n",
       "      <td>\\n                    The way you wear your ha...</td>\n",
       "      <td>https://www.lyricsfreak.com/g/george+gershwin/...</td>\n",
       "    </tr>\n",
       "    <tr>\n",
       "      <th>49</th>\n",
       "      <td>George Gershwin</td>\n",
       "      <td>Whispering Lyrics</td>\n",
       "      <td>\\n                    Don't worry I'm not look...</td>\n",
       "      <td>https://www.lyricsfreak.com/g/george+gershwin/...</td>\n",
       "    </tr>\n",
       "    <tr>\n",
       "      <th>50</th>\n",
       "      <td>George Gershwin</td>\n",
       "      <td>Who Cares? Lyrics</td>\n",
       "      <td>\\n                    Who cares if the sky car...</td>\n",
       "      <td>https://www.lyricsfreak.com/g/george+gershwin/...</td>\n",
       "    </tr>\n",
       "  </tbody>\n",
       "</table>\n",
       "</div>"
      ],
      "text/plain": [
       "        song_writer                                          song_name  \\\n",
       "0   George Gershwin                                's Wonderful Lyrics   \n",
       "1   George Gershwin                  (I've Got) Beginner's Luck Lyrics   \n",
       "2   George Gershwin                                 A Foggy Day Lyrics   \n",
       "3   George Gershwin                A Foggy Day (In London Town) Lyrics   \n",
       "4   George Gershwin                 A Woman Is A Sometime Thing Lyrics   \n",
       "5   George Gershwin             Aren't You Kind Of Glad We Did? Lyrics   \n",
       "6   George Gershwin                           Begin The Beguine Lyrics   \n",
       "7   George Gershwin                              But Not For Me Lyrics   \n",
       "8   George Gershwin                              Clap Yo' Hands Lyrics   \n",
       "9   George Gershwin                               Crazy For You Lyrics   \n",
       "10  George Gershwin                                  Do, Do, Do Lyrics   \n",
       "11  George Gershwin                             Embraceable You Lyrics   \n",
       "12  George Gershwin                   Ev'ry Time We Say Goodbye Lyrics   \n",
       "13  George Gershwin                     Fascinating Rhythm/Liza Lyrics   \n",
       "14  George Gershwin                         From This Moment On Lyrics   \n",
       "15  George Gershwin            How Long Has This Been Going On? Lyrics   \n",
       "16  George Gershwin                     I Got Plenty O' Nuttin' Lyrics   \n",
       "17  George Gershwin                                I Got Rhythm Lyrics   \n",
       "18  George Gershwin           I'll Build A Stairway To Paradise Lyrics   \n",
       "19  George Gershwin  I'm Forever Blowing Bubbles (interpolated Into...   \n",
       "20  George Gershwin                     I've Got A Crush On You Lyrics   \n",
       "21  George Gershwin                            Isn't It A Pity? Lyrics   \n",
       "22  George Gershwin                     It Ain't Necessarily So Lyrics   \n",
       "23  George Gershwin                              It's De-Lovely Lyrics   \n",
       "24  George Gershwin              Let's Call The Whole Thing Off Lyrics   \n",
       "25  George Gershwin             Life Is Just A Bowl Of Cherries Lyrics   \n",
       "26  George Gershwin          Liza (All The Clouds'll Roll Away) Lyrics   \n",
       "27  George Gershwin                     Long Ago (And Far Away) Lyrics   \n",
       "28  George Gershwin                           Looking For A Boy Lyrics   \n",
       "29  George Gershwin                              Love Walked In Lyrics   \n",
       "30  George Gershwin                   My Heart Belongs To Daddy Lyrics   \n",
       "31  George Gershwin                             My One And Only Lyrics   \n",
       "32  George Gershwin                 Nice Work If You Can Get It Lyrics   \n",
       "33  George Gershwin                             Oh Lady Be Good Lyrics   \n",
       "34  George Gershwin  Oh, Lady Be Good, Song (from Lady, Be Good!, M...   \n",
       "35  George Gershwin                           Somebody Loves Me Lyrics   \n",
       "36  George Gershwin                    Someone To Watch Over Me Lyrics   \n",
       "37  George Gershwin                                        Soon Lyrics   \n",
       "38  George Gershwin                          Strike Up The Band Lyrics   \n",
       "39  George Gershwin                                  Summertime Lyrics   \n",
       "40  George Gershwin                                      Swanee Lyrics   \n",
       "41  George Gershwin        Swanee / Sign-off, February 19, 1934 Lyrics   \n",
       "42  George Gershwin                 The Babbitt And The Bromide Lyrics   \n",
       "43  George Gershwin               The Half Of It, Dearie, Blues Lyrics   \n",
       "44  George Gershwin                              The Man I Love Lyrics   \n",
       "45  George Gershwin                      The Moon Is On The Sea Lyrics   \n",
       "46  George Gershwin                               The Physician Lyrics   \n",
       "47  George Gershwin                            They All Laughed Lyrics   \n",
       "48  George Gershwin           They Can't Take That Away From Me Lyrics   \n",
       "49  George Gershwin                                  Whispering Lyrics   \n",
       "50  George Gershwin                                  Who Cares? Lyrics   \n",
       "\n",
       "                                               lyrics  \\\n",
       "0   \\n                    Life has just begun,\\nJa...   \n",
       "1   \\n                    At any gambling casino\\r...   \n",
       "2   \\n                    I was a stranger in the ...   \n",
       "3   \\n                    I was a stranger in the ...   \n",
       "4   \\n                    Listen to yo' daddy warn...   \n",
       "5   \\n                    Oh, it really wasn't my ...   \n",
       "6   \\n                    When they begin the begu...   \n",
       "7   \\n                    Old Man Sunshine, listen...   \n",
       "8   \\n                    Come on, you children, g...   \n",
       "9   \\n                    Swaying room as the musi...   \n",
       "10  \\n                    Oh, do, do, do\\nWhat you...   \n",
       "11  \\n                    Dozens of girls would st...   \n",
       "12  \\n                    Every time we say goodby...   \n",
       "13  \\n                    Got a little rhythm, a r...   \n",
       "14  \\n                    From this moment on,\\r\\n...   \n",
       "15  \\n                    As a tot, when I trotted...   \n",
       "16  \\n                    Oh, I got plenty o' nutt...   \n",
       "17  \\n                    Days can be sunny,\\nWith...   \n",
       "18  \\n                    Verse One\\nAll you preac...   \n",
       "19  \\n                    I'm dreaming dreams, I'm...   \n",
       "20  \\n                    How glad a million laddi...   \n",
       "21  \\n                    Why did I wander\\r\\nHere...   \n",
       "22  \\n                    It ain't necessarily so\\...   \n",
       "23  \\n                    The night is young, the ...   \n",
       "24  \\n                    Things have come to a pr...   \n",
       "25  \\n                    People are queer, they'r...   \n",
       "26  \\n                    Liza, Liza, skies are gr...   \n",
       "27  \\n                    Dreary days are over\\r\\n...   \n",
       "28  \\n                    I am just a little girl\\...   \n",
       "29  \\n                    Nothing seemed to matter...   \n",
       "30  \\n                    I used to fall in love w...   \n",
       "31  \\n                    My one and only,\\r\\nWhat...   \n",
       "32  \\n                    The man who only live fo...   \n",
       "33  \\n                    Listen to my tale of woe...   \n",
       "34  \\n                    Listen to my tale of woe...   \n",
       "35  \\n                    When this world began\\nI...   \n",
       "36  \\n                    There's a saying old say...   \n",
       "37  \\n                    Soon, my dear, you'll ne...   \n",
       "38  \\n                    Let the drums roll out\\r...   \n",
       "39  \\n                    Summertime,\\nAnd the liv...   \n",
       "40  \\n                    Intro verse:\\nI've been ...   \n",
       "41  \\n                    I've been away from you ...   \n",
       "42  \\n                    A babbitt met a bromide ...   \n",
       "43  \\n                    Each time you trill a so...   \n",
       "44  \\n                    When the mellow moon beg...   \n",
       "45  \\n                    A woman's touch, a woman...   \n",
       "46  \\n                    Once I loved such a shat...   \n",
       "47  \\n                    The odds were a hundred ...   \n",
       "48  \\n                    The way you wear your ha...   \n",
       "49  \\n                    Don't worry I'm not look...   \n",
       "50  \\n                    Who cares if the sky car...   \n",
       "\n",
       "                                            song_link  \n",
       "0   https://www.lyricsfreak.com/g/george+gershwin/...  \n",
       "1   https://www.lyricsfreak.com/g/george+gershwin/...  \n",
       "2   https://www.lyricsfreak.com/g/george+gershwin/...  \n",
       "3   https://www.lyricsfreak.com/g/george+gershwin/...  \n",
       "4   https://www.lyricsfreak.com/g/george+gershwin/...  \n",
       "5   https://www.lyricsfreak.com/g/george+gershwin/...  \n",
       "6   https://www.lyricsfreak.com/g/george+gershwin/...  \n",
       "7   https://www.lyricsfreak.com/g/george+gershwin/...  \n",
       "8   https://www.lyricsfreak.com/g/george+gershwin/...  \n",
       "9   https://www.lyricsfreak.com/g/george+gershwin/...  \n",
       "10  https://www.lyricsfreak.com/g/george+gershwin/...  \n",
       "11  https://www.lyricsfreak.com/g/george+gershwin/...  \n",
       "12  https://www.lyricsfreak.com/g/george+gershwin/...  \n",
       "13  https://www.lyricsfreak.com/g/george+gershwin/...  \n",
       "14  https://www.lyricsfreak.com/g/george+gershwin/...  \n",
       "15  https://www.lyricsfreak.com/g/george+gershwin/...  \n",
       "16  https://www.lyricsfreak.com/g/george+gershwin/...  \n",
       "17  https://www.lyricsfreak.com/g/george+gershwin/...  \n",
       "18  https://www.lyricsfreak.com/g/george+gershwin/...  \n",
       "19  https://www.lyricsfreak.com/g/george+gershwin/...  \n",
       "20  https://www.lyricsfreak.com/g/george+gershwin/...  \n",
       "21  https://www.lyricsfreak.com/g/george+gershwin/...  \n",
       "22  https://www.lyricsfreak.com/g/george+gershwin/...  \n",
       "23  https://www.lyricsfreak.com/g/george+gershwin/...  \n",
       "24  https://www.lyricsfreak.com/g/george+gershwin/...  \n",
       "25  https://www.lyricsfreak.com/g/george+gershwin/...  \n",
       "26  https://www.lyricsfreak.com/g/george+gershwin/...  \n",
       "27  https://www.lyricsfreak.com/g/george+gershwin/...  \n",
       "28  https://www.lyricsfreak.com/g/george+gershwin/...  \n",
       "29  https://www.lyricsfreak.com/g/george+gershwin/...  \n",
       "30  https://www.lyricsfreak.com/g/george+gershwin/...  \n",
       "31  https://www.lyricsfreak.com/g/george+gershwin/...  \n",
       "32  https://www.lyricsfreak.com/g/george+gershwin/...  \n",
       "33  https://www.lyricsfreak.com/g/george+gershwin/...  \n",
       "34  https://www.lyricsfreak.com/g/george+gershwin/...  \n",
       "35  https://www.lyricsfreak.com/g/george+gershwin/...  \n",
       "36  https://www.lyricsfreak.com/g/george+gershwin/...  \n",
       "37  https://www.lyricsfreak.com/g/george+gershwin/...  \n",
       "38  https://www.lyricsfreak.com/g/george+gershwin/...  \n",
       "39  https://www.lyricsfreak.com/g/george+gershwin/...  \n",
       "40  https://www.lyricsfreak.com/g/george+gershwin/...  \n",
       "41  https://www.lyricsfreak.com/g/george+gershwin/...  \n",
       "42  https://www.lyricsfreak.com/g/george+gershwin/...  \n",
       "43  https://www.lyricsfreak.com/g/george+gershwin/...  \n",
       "44  https://www.lyricsfreak.com/g/george+gershwin/...  \n",
       "45  https://www.lyricsfreak.com/g/george+gershwin/...  \n",
       "46  https://www.lyricsfreak.com/g/george+gershwin/...  \n",
       "47  https://www.lyricsfreak.com/g/george+gershwin/...  \n",
       "48  https://www.lyricsfreak.com/g/george+gershwin/...  \n",
       "49  https://www.lyricsfreak.com/g/george+gershwin/...  \n",
       "50  https://www.lyricsfreak.com/g/george+gershwin/...  "
      ]
     },
     "execution_count": 43,
     "metadata": {},
     "output_type": "execute_result"
    }
   ],
   "source": [
    "george_gershwin_df"
   ]
  },
  {
   "cell_type": "markdown",
   "metadata": {},
   "source": [
    "#### Irving Berlin"
   ]
  },
  {
   "cell_type": "code",
   "execution_count": 44,
   "metadata": {
    "scrolled": true
   },
   "outputs": [
    {
     "name": "stdout",
     "output_type": "stream",
     "text": [
      "Songs have been gathered\n",
      "Now to grab lyrics\n",
      "Scraping A Fella With An Umbrella Lyrics\n",
      "Scraping A Pretty Girl Is Like A Melody Lyrics\n",
      "Scraping Alexander's Ragtime Band Lyrics\n",
      "Scraping All Alone Lyrics\n",
      "Scraping All By Myself Lyrics\n",
      "Scraping Always Lyrics\n",
      "Scraping An Old Fashioned Wedding Lyrics\n",
      "Scraping An Orange Grove In California Lyrics\n",
      "Scraping Anything You Can Do Lyrics\n",
      "Scraping Be Careful, It's My Heart Lyrics\n",
      "Scraping Blue Skies Lyrics\n",
      "Scraping Blue Skies, Song (originally Interpolated Into The R.Rodgers Musical \"B Lyrics\n",
      "Scraping Can You Use Any Money Today? Lyrics\n",
      "Scraping Change Partners Lyrics\n",
      "Scraping Cheek To Cheek Lyrics\n",
      "Scraping Colonel Buffalo Bill Lyrics\n",
      "Scraping Doin' What Comes Natur'lly Lyrics\n",
      "Scraping Easter Parade Lyrics\n",
      "Scraping Everybody Step Lyrics\n",
      "Scraping Everybody's Doin' It Now Lyrics\n",
      "Scraping Finale Lyrics\n",
      "Scraping Get Thee Behind Me Satan Lyrics\n",
      "Scraping Give Me Your Tired, Your Poor Lyrics\n",
      "Scraping God Bless America Lyrics\n",
      "Scraping Harlem On My Mind Lyrics\n",
      "Scraping Heat Wave Lyrics\n",
      "Scraping How About Me? Lyrics\n",
      "Scraping How Deep Is The Ocean Lyrics\n",
      "Scraping How's Chances? Lyrics\n",
      "Scraping I Got Lost In His Arms Lyrics\n",
      "Scraping I Got The Sun In The Morning Lyrics\n",
      "Scraping I Love A Piano Lyrics\n",
      "Scraping I Never Had A Chance Lyrics\n",
      "Scraping I Used To Be Color Blind Lyrics\n",
      "Scraping I'll Share It All With You Lyrics\n",
      "Scraping I'm A Bad Bad Man Lyrics\n",
      "Scraping I'm An Indian Too Lyrics\n",
      "Scraping I'm Putting All My Eggs In One Basket Lyrics\n",
      "Scraping I've Got My Love To Keep Me Warm Lyrics\n",
      "Scraping Isn't This A Lovely Day Lyrics\n",
      "Scraping It Only Happens When I Dance With You Lyrics\n",
      "Scraping It's A Lovely Day Today Lyrics\n",
      "Scraping It's A Lovely Day Tomorrow Lyrics\n",
      "Scraping Just One Way To Say I Love You Lyrics\n",
      "Scraping Lady Of The Evening Lyrics\n",
      "Scraping Lazy Lyrics\n",
      "Scraping Let Yourself Go Lyrics\n",
      "Scraping Let's Face The Music And Dance Lyrics\n",
      "Scraping Let's Take An Old Fashioned Walk Lyrics\n",
      "Scraping Louisiana Purchase Lyrics\n",
      "Scraping Marie Lyrics\n",
      "Scraping Maybe It's Because Lyrics\n",
      "Scraping Moonshine Lullaby Lyrics\n",
      "Scraping My Defenses Are Down Lyrics\n",
      "Scraping No Strings Lyrics\n",
      "Scraping Now It Can Be Told Lyrics\n",
      "Scraping Oh How That German Could Love! Lyrics\n",
      "Scraping Oh, How I Hate To Get Up In The Morning Lyrics\n",
      "Scraping Outside Of That I Love You Lyrics\n",
      "Scraping Overture Lyrics\n",
      "Scraping Pack Up Your Sins And Go To The Devil Lyrics\n",
      "Scraping Play A Simple Melody Lyrics\n",
      "Scraping Puttin' On The Ritz Lyrics\n",
      "Scraping Reaching For The Moon Lyrics\n",
      "Scraping Remember Lyrics\n",
      "Scraping Russian Lullaby Lyrics\n",
      "Scraping Say It Isn't So Lyrics\n",
      "Scraping Sisters, Sisters Lyrics\n",
      "Scraping Slumming On Park Avenue Lyrics\n",
      "Scraping Something To Dance About Lyrics\n",
      "Scraping Steppin' Out With My Baby Lyrics\n",
      "Scraping Suppertime Lyrics\n",
      "Scraping The Girl That I Marry Lyrics\n",
      "Scraping The Hostess With The Mostes' On The Ball Lyrics\n",
      "Scraping The Little Things In Life Lyrics\n",
      "Scraping The Piccolino Lyrics\n",
      "Scraping The Song Is Ended Lyrics\n",
      "Scraping There's No Business Like Show Business Lyrics\n",
      "Scraping They Say It's Wonderful Lyrics\n",
      "Scraping This Is The Army Mister Jones Lyrics\n",
      "Scraping Top Hat, White Tie, And Tails Lyrics\n",
      "Scraping What Chance Have I With Love? Lyrics\n",
      "Scraping What The Well Dressed Man In Harlem Will Wear Lyrics\n",
      "Scraping What'll I Do Lyrics\n",
      "Scraping When I Lost You Lyrics\n",
      "Scraping White Christmas Lyrics\n",
      "Scraping Who Do You Love, I Hope Lyrics\n",
      "Scraping You Can Have Him Lyrics\n",
      "Scraping You Can't Brush Me Off Lyrics\n",
      "Scraping You Can't Get A Man With A Gun Lyrics\n",
      "Scraping You Keep Coming Back Like A Song Lyrics\n",
      "Scraping You'd Be Surprised, Song (from \"Ziegfeld Follies Of 1919\") Lyrics\n",
      "Scraping You're Easy To Dance With Lyrics\n",
      "Scraping You're Laughing At Me Lyrics\n",
      "Scraping You're Lonely And I'm Lonely Lyrics\n"
     ]
    }
   ],
   "source": [
    "# https://www.lyricsfreak.com/i/irving+berlin/\n",
    "irving_berlin = grabbing_songs_and_lyrics('https://www.lyricsfreak.com/i/irving+berlin/', 'Irving Berlin')"
   ]
  },
  {
   "cell_type": "code",
   "execution_count": 45,
   "metadata": {},
   "outputs": [],
   "source": [
    "irving_berlin_df = pd.DataFrame(irving_berlin)"
   ]
  },
  {
   "cell_type": "code",
   "execution_count": 46,
   "metadata": {},
   "outputs": [
    {
     "data": {
      "text/html": [
       "<div>\n",
       "<style scoped>\n",
       "    .dataframe tbody tr th:only-of-type {\n",
       "        vertical-align: middle;\n",
       "    }\n",
       "\n",
       "    .dataframe tbody tr th {\n",
       "        vertical-align: top;\n",
       "    }\n",
       "\n",
       "    .dataframe thead th {\n",
       "        text-align: right;\n",
       "    }\n",
       "</style>\n",
       "<table border=\"1\" class=\"dataframe\">\n",
       "  <thead>\n",
       "    <tr style=\"text-align: right;\">\n",
       "      <th></th>\n",
       "      <th>song_writer</th>\n",
       "      <th>song_name</th>\n",
       "      <th>lyrics</th>\n",
       "      <th>song_link</th>\n",
       "    </tr>\n",
       "  </thead>\n",
       "  <tbody>\n",
       "    <tr>\n",
       "      <th>0</th>\n",
       "      <td>Irving Berlin</td>\n",
       "      <td>A Fella With An Umbrella Lyrics</td>\n",
       "      <td>\\n                    I'm just a fella, a fell...</td>\n",
       "      <td>https://www.lyricsfreak.com/i/irving+berlin/ +...</td>\n",
       "    </tr>\n",
       "    <tr>\n",
       "      <th>1</th>\n",
       "      <td>Irving Berlin</td>\n",
       "      <td>A Pretty Girl Is Like A Melody Lyrics</td>\n",
       "      <td>\\n                    [Verse]\\nI have an ear f...</td>\n",
       "      <td>https://www.lyricsfreak.com/i/irving+berlin/ +...</td>\n",
       "    </tr>\n",
       "    <tr>\n",
       "      <th>2</th>\n",
       "      <td>Irving Berlin</td>\n",
       "      <td>Alexander's Ragtime Band Lyrics</td>\n",
       "      <td>\\n                    By Irving Berlin\\nCopyri...</td>\n",
       "      <td>https://www.lyricsfreak.com/i/irving+berlin/ +...</td>\n",
       "    </tr>\n",
       "    <tr>\n",
       "      <th>3</th>\n",
       "      <td>Irving Berlin</td>\n",
       "      <td>All Alone Lyrics</td>\n",
       "      <td>\\n                    All alone, I'm so all al...</td>\n",
       "      <td>https://www.lyricsfreak.com/i/irving+berlin/ +...</td>\n",
       "    </tr>\n",
       "    <tr>\n",
       "      <th>4</th>\n",
       "      <td>Irving Berlin</td>\n",
       "      <td>All By Myself Lyrics</td>\n",
       "      <td>\\n                    I'm so unhappy\\nWhat'll ...</td>\n",
       "      <td>https://www.lyricsfreak.com/i/irving+berlin/ +...</td>\n",
       "    </tr>\n",
       "    <tr>\n",
       "      <th>...</th>\n",
       "      <td>...</td>\n",
       "      <td>...</td>\n",
       "      <td>...</td>\n",
       "      <td>...</td>\n",
       "    </tr>\n",
       "    <tr>\n",
       "      <th>90</th>\n",
       "      <td>Irving Berlin</td>\n",
       "      <td>You Keep Coming Back Like A Song Lyrics</td>\n",
       "      <td>\\n                    Can't run away from you,...</td>\n",
       "      <td>https://www.lyricsfreak.com/i/irving+berlin/ +...</td>\n",
       "    </tr>\n",
       "    <tr>\n",
       "      <th>91</th>\n",
       "      <td>Irving Berlin</td>\n",
       "      <td>You'd Be Surprised, Song (from \"Ziegfeld Folli...</td>\n",
       "      <td>\\n                    [1st verse:]\\r\\nJohnny w...</td>\n",
       "      <td>https://www.lyricsfreak.com/i/irving+berlin/ +...</td>\n",
       "    </tr>\n",
       "    <tr>\n",
       "      <th>92</th>\n",
       "      <td>Irving Berlin</td>\n",
       "      <td>You're Easy To Dance With Lyrics</td>\n",
       "      <td>\\n                    I could dance nightly\\nJ...</td>\n",
       "      <td>https://www.lyricsfreak.com/i/irving+berlin/ +...</td>\n",
       "    </tr>\n",
       "    <tr>\n",
       "      <th>93</th>\n",
       "      <td>Irving Berlin</td>\n",
       "      <td>You're Laughing At Me Lyrics</td>\n",
       "      <td>\\n                    I love you which is easy...</td>\n",
       "      <td>https://www.lyricsfreak.com/i/irving+berlin/ +...</td>\n",
       "    </tr>\n",
       "    <tr>\n",
       "      <th>94</th>\n",
       "      <td>Irving Berlin</td>\n",
       "      <td>You're Lonely And I'm Lonely Lyrics</td>\n",
       "      <td>\\n                    You're lonely and I'm lo...</td>\n",
       "      <td>https://www.lyricsfreak.com/i/irving+berlin/ +...</td>\n",
       "    </tr>\n",
       "  </tbody>\n",
       "</table>\n",
       "<p>95 rows × 4 columns</p>\n",
       "</div>"
      ],
      "text/plain": [
       "      song_writer                                          song_name  \\\n",
       "0   Irving Berlin                    A Fella With An Umbrella Lyrics   \n",
       "1   Irving Berlin              A Pretty Girl Is Like A Melody Lyrics   \n",
       "2   Irving Berlin                    Alexander's Ragtime Band Lyrics   \n",
       "3   Irving Berlin                                   All Alone Lyrics   \n",
       "4   Irving Berlin                               All By Myself Lyrics   \n",
       "..            ...                                                ...   \n",
       "90  Irving Berlin            You Keep Coming Back Like A Song Lyrics   \n",
       "91  Irving Berlin  You'd Be Surprised, Song (from \"Ziegfeld Folli...   \n",
       "92  Irving Berlin                   You're Easy To Dance With Lyrics   \n",
       "93  Irving Berlin                       You're Laughing At Me Lyrics   \n",
       "94  Irving Berlin                You're Lonely And I'm Lonely Lyrics   \n",
       "\n",
       "                                               lyrics  \\\n",
       "0   \\n                    I'm just a fella, a fell...   \n",
       "1   \\n                    [Verse]\\nI have an ear f...   \n",
       "2   \\n                    By Irving Berlin\\nCopyri...   \n",
       "3   \\n                    All alone, I'm so all al...   \n",
       "4   \\n                    I'm so unhappy\\nWhat'll ...   \n",
       "..                                                ...   \n",
       "90  \\n                    Can't run away from you,...   \n",
       "91  \\n                    [1st verse:]\\r\\nJohnny w...   \n",
       "92  \\n                    I could dance nightly\\nJ...   \n",
       "93  \\n                    I love you which is easy...   \n",
       "94  \\n                    You're lonely and I'm lo...   \n",
       "\n",
       "                                            song_link  \n",
       "0   https://www.lyricsfreak.com/i/irving+berlin/ +...  \n",
       "1   https://www.lyricsfreak.com/i/irving+berlin/ +...  \n",
       "2   https://www.lyricsfreak.com/i/irving+berlin/ +...  \n",
       "3   https://www.lyricsfreak.com/i/irving+berlin/ +...  \n",
       "4   https://www.lyricsfreak.com/i/irving+berlin/ +...  \n",
       "..                                                ...  \n",
       "90  https://www.lyricsfreak.com/i/irving+berlin/ +...  \n",
       "91  https://www.lyricsfreak.com/i/irving+berlin/ +...  \n",
       "92  https://www.lyricsfreak.com/i/irving+berlin/ +...  \n",
       "93  https://www.lyricsfreak.com/i/irving+berlin/ +...  \n",
       "94  https://www.lyricsfreak.com/i/irving+berlin/ +...  \n",
       "\n",
       "[95 rows x 4 columns]"
      ]
     },
     "execution_count": 46,
     "metadata": {},
     "output_type": "execute_result"
    }
   ],
   "source": [
    "irving_berlin_df"
   ]
  },
  {
   "cell_type": "markdown",
   "metadata": {},
   "source": [
    "#### Johnny Mercer"
   ]
  },
  {
   "cell_type": "code",
   "execution_count": 48,
   "metadata": {
    "scrolled": false
   },
   "outputs": [
    {
     "name": "stdout",
     "output_type": "stream",
     "text": [
      "Songs have been gathered\n",
      "Now to grab lyrics\n",
      "Scraping A Huggin' And A Chalkin' Lyrics\n",
      "Scraping Ac-Cent-Tchu-Ate The Positive Lyrics\n",
      "Scraping Ace In The Hole Lyrics\n",
      "Scraping Any Place I Hang My Hat Is Home Lyrics\n",
      "Scraping Autumn Leaves Lyrics\n",
      "Scraping Blues In The Night Lyrics\n",
      "Scraping Bob White Lyrics\n",
      "Scraping Bob White (Whatcha Gonna Swing Tonight?) Lyrics\n",
      "Scraping Button Up Your Overcoat Lyrics\n",
      "Scraping Camptown Races Lyrics\n",
      "Scraping Candy Lyrics\n",
      "Scraping Come Rain Or Come Shine Lyrics\n",
      "Scraping Crazy Rhythm Lyrics\n",
      "Scraping Days Of Wine And Roses Lyrics\n",
      "Scraping Dearly Beloved Lyrics\n",
      "Scraping Dream Lyrics\n",
      "Scraping Emily Lyrics\n",
      "Scraping Fools Rush In Lyrics\n",
      "Scraping G.I. Jive Lyrics\n",
      "Scraping Gee Baby, Ain't I Good To You Lyrics\n",
      "Scraping Goody Goody Lyrics\n",
      "Scraping Goofus Lyrics\n",
      "Scraping Hooray For Hollywood Lyrics\n",
      "Scraping Hooray For Love Lyrics\n",
      "Scraping I Lost My Sugar In Salt Lake City Lyrics\n",
      "Scraping I May Be Wrong Lyrics\n",
      "Scraping I Remember You Lyrics\n",
      "Scraping I Thought About You Lyrics\n",
      "Scraping I Wanna Be Around Lyrics\n",
      "Scraping I'm Old Fashioned Lyrics\n",
      "Scraping In The Cool, Cool, Cool Of The Evening Lyrics\n",
      "Scraping Indiana Lyrics\n",
      "Scraping It Ain't Necessarily So Lyrics\n",
      "Scraping It's Great To Be Alive Lyrics\n",
      "Scraping Jamboree Jones Lyrics\n",
      "Scraping Jeepers Creepers Lyrics\n",
      "Scraping Jingle Bells Lyrics\n",
      "Scraping Knock Me A Kiss Lyrics\n",
      "Scraping Laura Lyrics\n",
      "Scraping Lazy Bones Lyrics\n",
      "Scraping Limehouse Blues Lyrics\n",
      "Scraping Little Ol' Tune Lyrics\n",
      "Scraping Love Is Just Around The Corner Lyrics\n",
      "Scraping Lulu's Back In Town Lyrics\n",
      "Scraping Mister Meadowlark Lyrics\n",
      "Scraping Moon River Lyrics\n",
      "Scraping On The Atchison, Topeka And The Santa Fe Lyrics\n",
      "Scraping One For My Baby (And One More For The Road) Lyrics\n",
      "Scraping Out Of This World Lyrics\n",
      "Scraping Personality Lyrics\n",
      "Scraping Royal Garden Blues Lyrics\n",
      "Scraping School Days Lyrics\n",
      "Scraping Skylark Lyrics\n",
      "Scraping Small Fry Lyrics\n",
      "Scraping Something's Gotta Give Lyrics\n",
      "Scraping Strip Polka Lyrics\n",
      "Scraping Summer Wind Lyrics\n",
      "Scraping Sweet Georgia Brown Lyrics\n",
      "Scraping Sweet Lorraine Lyrics\n",
      "Scraping Talk To Me Baby Lyrics\n",
      "Scraping That Old Black Magic Lyrics\n",
      "Scraping The Girl Friend Of The Whirling Dervish Lyrics\n",
      "Scraping Too Marvelous For Words Lyrics\n",
      "Scraping Ugly Chile Lyrics\n",
      "Scraping Why Should I Cry Over You? Lyrics\n",
      "Scraping Winter Wonderland Lyrics\n",
      "Scraping You Must Have Been A Beautiful Baby Lyrics\n",
      "Scraping You've Got Me Where You Want Me Lyrics\n",
      "Scraping Zip-A-Dee-Doo-Dah Lyrics\n"
     ]
    }
   ],
   "source": [
    "# https://www.lyricsfreak.com/j/johnny+mercer/\n",
    "johnny_mercer = grabbing_songs_and_lyrics('https://www.lyricsfreak.com/j/johnny+mercer/', 'Johnny Mercer')"
   ]
  },
  {
   "cell_type": "code",
   "execution_count": 49,
   "metadata": {},
   "outputs": [],
   "source": [
    "johnny_mercer_df = pd.DataFrame(johnny_mercer)"
   ]
  },
  {
   "cell_type": "markdown",
   "metadata": {},
   "source": [
    "#### Jerome Kern"
   ]
  },
  {
   "cell_type": "code",
   "execution_count": 50,
   "metadata": {
    "scrolled": true
   },
   "outputs": [
    {
     "name": "stdout",
     "output_type": "stream",
     "text": [
      "Songs have been gathered\n",
      "Now to grab lyrics\n",
      "Scraping Can't Help Lovin' Dat Man Lyrics\n",
      "Scraping Cotton Blossom Lyrics\n",
      "Scraping I'm Old Fashioned Lyrics\n",
      "Scraping Leave It To Jane Lyrics\n",
      "Scraping Make Believe Lyrics\n",
      "Scraping Ol' Man River Lyrics\n",
      "Scraping Smoke Gets In Your Eyes Lyrics\n"
     ]
    }
   ],
   "source": [
    "# https://www.lyricsfreak.com/j/jerome+kern/\n",
    "jerome_kern = grabbing_songs_and_lyrics('https://www.lyricsfreak.com/j/jerome+kern/', 'Jerome Kern')"
   ]
  },
  {
   "cell_type": "code",
   "execution_count": 51,
   "metadata": {},
   "outputs": [],
   "source": [
    "jerome_kern_df = pd.DataFrame(jerome_kern)"
   ]
  },
  {
   "cell_type": "code",
   "execution_count": 52,
   "metadata": {},
   "outputs": [
    {
     "data": {
      "text/html": [
       "<div>\n",
       "<style scoped>\n",
       "    .dataframe tbody tr th:only-of-type {\n",
       "        vertical-align: middle;\n",
       "    }\n",
       "\n",
       "    .dataframe tbody tr th {\n",
       "        vertical-align: top;\n",
       "    }\n",
       "\n",
       "    .dataframe thead th {\n",
       "        text-align: right;\n",
       "    }\n",
       "</style>\n",
       "<table border=\"1\" class=\"dataframe\">\n",
       "  <thead>\n",
       "    <tr style=\"text-align: right;\">\n",
       "      <th></th>\n",
       "      <th>song_writer</th>\n",
       "      <th>song_name</th>\n",
       "      <th>lyrics</th>\n",
       "      <th>song_link</th>\n",
       "    </tr>\n",
       "  </thead>\n",
       "  <tbody>\n",
       "    <tr>\n",
       "      <th>0</th>\n",
       "      <td>Jerome Kern</td>\n",
       "      <td>Can't Help Lovin' Dat Man Lyrics</td>\n",
       "      <td>\\n                    Performed Lena Horne) \\n...</td>\n",
       "      <td>https://www.lyricsfreak.com/j/jerome+kern/ + /...</td>\n",
       "    </tr>\n",
       "    <tr>\n",
       "      <th>1</th>\n",
       "      <td>Jerome Kern</td>\n",
       "      <td>Cotton Blossom Lyrics</td>\n",
       "      <td>\\n                    Performed by Chorus) \\n\\...</td>\n",
       "      <td>https://www.lyricsfreak.com/j/jerome+kern/ + /...</td>\n",
       "    </tr>\n",
       "    <tr>\n",
       "      <th>2</th>\n",
       "      <td>Jerome Kern</td>\n",
       "      <td>I'm Old Fashioned Lyrics</td>\n",
       "      <td>\\n                    I am not such a clever o...</td>\n",
       "      <td>https://www.lyricsfreak.com/j/jerome+kern/ + /...</td>\n",
       "    </tr>\n",
       "    <tr>\n",
       "      <th>3</th>\n",
       "      <td>Jerome Kern</td>\n",
       "      <td>Leave It To Jane Lyrics</td>\n",
       "      <td>\\n                    Performed by June Allyso...</td>\n",
       "      <td>https://www.lyricsfreak.com/j/jerome+kern/ + /...</td>\n",
       "    </tr>\n",
       "    <tr>\n",
       "      <th>4</th>\n",
       "      <td>Jerome Kern</td>\n",
       "      <td>Make Believe Lyrics</td>\n",
       "      <td>\\n                    Perfromed by Tony Martin...</td>\n",
       "      <td>https://www.lyricsfreak.com/j/jerome+kern/ + /...</td>\n",
       "    </tr>\n",
       "    <tr>\n",
       "      <th>5</th>\n",
       "      <td>Jerome Kern</td>\n",
       "      <td>Ol' Man River Lyrics</td>\n",
       "      <td>\\n                    Performed by Frank Sinat...</td>\n",
       "      <td>https://www.lyricsfreak.com/j/jerome+kern/ + /...</td>\n",
       "    </tr>\n",
       "    <tr>\n",
       "      <th>6</th>\n",
       "      <td>Jerome Kern</td>\n",
       "      <td>Smoke Gets In Your Eyes Lyrics</td>\n",
       "      <td>\\n                    They asked me how I knew...</td>\n",
       "      <td>https://www.lyricsfreak.com/j/jerome+kern/ + /...</td>\n",
       "    </tr>\n",
       "  </tbody>\n",
       "</table>\n",
       "</div>"
      ],
      "text/plain": [
       "   song_writer                         song_name  \\\n",
       "0  Jerome Kern  Can't Help Lovin' Dat Man Lyrics   \n",
       "1  Jerome Kern             Cotton Blossom Lyrics   \n",
       "2  Jerome Kern          I'm Old Fashioned Lyrics   \n",
       "3  Jerome Kern           Leave It To Jane Lyrics   \n",
       "4  Jerome Kern               Make Believe Lyrics   \n",
       "5  Jerome Kern              Ol' Man River Lyrics   \n",
       "6  Jerome Kern    Smoke Gets In Your Eyes Lyrics   \n",
       "\n",
       "                                              lyrics  \\\n",
       "0  \\n                    Performed Lena Horne) \\n...   \n",
       "1  \\n                    Performed by Chorus) \\n\\...   \n",
       "2  \\n                    I am not such a clever o...   \n",
       "3  \\n                    Performed by June Allyso...   \n",
       "4  \\n                    Perfromed by Tony Martin...   \n",
       "5  \\n                    Performed by Frank Sinat...   \n",
       "6  \\n                    They asked me how I knew...   \n",
       "\n",
       "                                           song_link  \n",
       "0  https://www.lyricsfreak.com/j/jerome+kern/ + /...  \n",
       "1  https://www.lyricsfreak.com/j/jerome+kern/ + /...  \n",
       "2  https://www.lyricsfreak.com/j/jerome+kern/ + /...  \n",
       "3  https://www.lyricsfreak.com/j/jerome+kern/ + /...  \n",
       "4  https://www.lyricsfreak.com/j/jerome+kern/ + /...  \n",
       "5  https://www.lyricsfreak.com/j/jerome+kern/ + /...  \n",
       "6  https://www.lyricsfreak.com/j/jerome+kern/ + /...  "
      ]
     },
     "execution_count": 52,
     "metadata": {},
     "output_type": "execute_result"
    }
   ],
   "source": [
    "jerome_kern_df"
   ]
  },
  {
   "cell_type": "markdown",
   "metadata": {},
   "source": [
    "#### Richard Rodgers"
   ]
  },
  {
   "cell_type": "code",
   "execution_count": 101,
   "metadata": {
    "scrolled": true
   },
   "outputs": [
    {
     "name": "stdout",
     "output_type": "stream",
     "text": [
      "Songs have been gathered\n",
      "Now to grab lyrics\n",
      "Scraping Dancing On The Ceiling Lyrics\n",
      "Scraping Favorite Things Lyrics\n",
      "Scraping It Never Entered My Mind Lyrics\n",
      "Scraping Oh, What A Beautiful Mornin', Song (from \"Oklahoma\") Lyrics\n",
      "Scraping Oklahoma! Lyrics\n",
      "Scraping People Will Say We're In Love Lyrics\n",
      "Scraping Some Enchanted Evening Lyrics\n",
      "Scraping Some Enchanted Evening, Song (from \"South Pacific\") [From South Pacific Lyrics\n",
      "Scraping Spring Is Here Lyrics\n",
      "Scraping There's A Small Hotel Lyrics\n",
      "Scraping Younger Than Springtime, Song (from \"South Pacific\") [From South Pacifi Lyrics\n"
     ]
    }
   ],
   "source": [
    "richard_rodgers = grabbing_songs_and_lyrics('https://www.lyricsfreak.com/r/richard+rodgers/', 'Richard Rodgers')"
   ]
  },
  {
   "cell_type": "code",
   "execution_count": 102,
   "metadata": {},
   "outputs": [],
   "source": [
    "richard_rodgers_df = pd.DataFrame(richard_rodgers)"
   ]
  },
  {
   "cell_type": "markdown",
   "metadata": {},
   "source": [
    "### Concating all the second round of composers onto a CSV"
   ]
  },
  {
   "cell_type": "code",
   "execution_count": 103,
   "metadata": {},
   "outputs": [],
   "source": [
    "more_composer_df = pd.concat([fats_waller_df,\n",
    "                              george_gershwin_df,\n",
    "                              irving_berlin_df,\n",
    "                              johnny_mercer_df,\n",
    "                              jerome_kern_df,\n",
    "                              richard_rodgers_df], axis = 0)"
   ]
  },
  {
   "cell_type": "code",
   "execution_count": 104,
   "metadata": {},
   "outputs": [],
   "source": [
    "more_composer_df.to_csv('datasets/berlin_gershwin_kern_mercer_rodgers_waller.csv', index=False)"
   ]
  },
  {
   "cell_type": "markdown",
   "metadata": {},
   "source": [
    "# Scraping Disney Renaissance songs"
   ]
  },
  {
   "cell_type": "markdown",
   "metadata": {},
   "source": [
    "#### Little Mermaid"
   ]
  },
  {
   "cell_type": "code",
   "execution_count": 105,
   "metadata": {
    "scrolled": true
   },
   "outputs": [
    {
     "name": "stdout",
     "output_type": "stream",
     "text": [
      "Songs have been gathered\n",
      "Now to grab lyrics\n",
      "Scraping At The Mermaid's Ball Lyrics\n",
      "Scraping Beddie-Bye Blues Lyrics\n",
      "Scraping Daring To Dance Lyrics\n",
      "Scraping Daughters Of Triton Lyrics\n",
      "Scraping Dis Is De Life Lyrics\n",
      "Scraping Down To The Sea Lyrics\n",
      "Scraping Edge Of The Sea Lyrics\n",
      "Scraping Fathoms Below Lyrics\n",
      "Scraping For A Moment Lyrics\n",
      "Scraping Happy Ending Lyrics\n",
      "Scraping Here On The Land And Sea Lyrics\n",
      "Scraping Home Is Lyrics\n",
      "Scraping In Harmony Lyrics\n",
      "Scraping In My Blue Backyard Lyrics\n",
      "Scraping Just A Little Love Lyrics\n",
      "Scraping Kiss The Girl Lyrics\n",
      "Scraping Les Poissons Lyrics\n",
      "Scraping Let's Play Princess Lyrics\n",
      "Scraping Lobster Mobster's Mob Lyrics\n",
      "Scraping Love Me Lyrics\n",
      "Scraping Mysterious Fathoms Below Lyrics\n",
      "Scraping Part Of That World Lyrics\n",
      "Scraping Part Of Your World (Finnish) Lyrics\n",
      "Scraping Part Of Your World (Reprise) Lyrics\n",
      "Scraping Please Don't Wake The Whale Lyrics\n",
      "Scraping Poor Unfortunate Souls Lyrics\n",
      "Scraping Silence Is Golden Lyrics\n",
      "Scraping Sing A New Song Lyrics\n",
      "Scraping The Sound Of Laughter Lyrics\n",
      "Scraping Tip And Dash Lyrics\n",
      "Scraping Under The Sea Lyrics\n",
      "Scraping Where Mermaids Dwell Lyrics\n",
      "Scraping You Got To Be You Lyrics\n",
      "Scraping You Wouldn't Want To Mess With Me Lyrics\n"
     ]
    }
   ],
   "source": [
    "little_mermaid = grabbing_songs_and_lyrics('https://www.lyricsfreak.com/t/the+little+mermaid/', 'Little Mermaid')"
   ]
  },
  {
   "cell_type": "code",
   "execution_count": 106,
   "metadata": {},
   "outputs": [],
   "source": [
    "little_mermaid_df = pd.DataFrame(little_mermaid)"
   ]
  },
  {
   "cell_type": "markdown",
   "metadata": {},
   "source": [
    "#### Beauty and the Beast"
   ]
  },
  {
   "cell_type": "code",
   "execution_count": 107,
   "metadata": {
    "scrolled": true
   },
   "outputs": [
    {
     "name": "stdout",
     "output_type": "stream",
     "text": [
      "Songs have been gathered\n",
      "Now to grab lyrics\n",
      "Scraping A Cut Above The Rest (Beauty And The Beast - The E Lyrics\n",
      "Scraping A Gift To You (Beauty And The Beast - One Magical Lyrics\n",
      "Scraping As Long As There's Christmas Lyrics\n",
      "Scraping Be Our Guest Lyrics\n",
      "Scraping Belle Lyrics\n",
      "Scraping Belle (Reprise) Lyrics\n",
      "Scraping Gaston Lyrics\n",
      "Scraping Gaston (Reprise) Lyrics\n",
      "Scraping Home Lyrics\n",
      "Scraping Home (Reprise) Lyrics\n",
      "Scraping How Long Must This Go On? Lyrics\n",
      "Scraping Human Again Lyrics\n",
      "Scraping If I Can't Love Her Lyrics\n",
      "Scraping Me Lyrics\n",
      "Scraping No Matter What Lyrics\n",
      "Scraping No Matter What (Reprise) Lyrics\n",
      "Scraping Prologue (The Enchantress) Lyrics\n",
      "Scraping Something There Lyrics\n",
      "Scraping Tale As Old As Time Lyrics\n",
      "Scraping The Mob Song Lyrics\n",
      "Scraping Theres Something There Lyrics\n"
     ]
    }
   ],
   "source": [
    "beauty_beast = grabbing_songs_and_lyrics('https://www.lyricsfreak.com/b/beauty+and+the+beast/', 'Beauty and the Beast')"
   ]
  },
  {
   "cell_type": "code",
   "execution_count": 108,
   "metadata": {},
   "outputs": [],
   "source": [
    "beauty_beast_df = pd.DataFrame(beauty_beast)"
   ]
  },
  {
   "cell_type": "markdown",
   "metadata": {},
   "source": [
    "#### Aladdin"
   ]
  },
  {
   "cell_type": "code",
   "execution_count": 109,
   "metadata": {
    "scrolled": true
   },
   "outputs": [
    {
     "name": "stdout",
     "output_type": "stream",
     "text": [
      "Songs have been gathered\n",
      "Now to grab lyrics\n",
      "Scraping A Friend Like Me (Danish - En Ven Som Mig ) Lyrics\n",
      "Scraping A Whole New World Lyrics\n",
      "Scraping Arabian Nights Lyrics\n",
      "Scraping Are You In Or Out? Lyrics\n",
      "Scraping Babkak, Omar, Aladdin, Kassim Lyrics\n",
      "Scraping Father And Son Lyrics\n",
      "Scraping Forget About Love Lyrics\n",
      "Scraping Friend Like Me Lyrics\n",
      "Scraping High Adventure Lyrics\n",
      "Scraping I'm Looking Out For Me Lyrics\n",
      "Scraping Jafar Lyrics\n",
      "Scraping My Love Is Not A Game Lyrics\n",
      "Scraping Noite Da Arábia (Arabian Nights) Lyrics\n",
      "Scraping Nothing Like A Friend Lyrics\n",
      "Scraping One Jump Ahead Lyrics\n",
      "Scraping One Jump Ahead (Reprise) Lyrics\n",
      "Scraping Out Of Thin Air Lyrics\n",
      "Scraping Prince Ali Lyrics\n",
      "Scraping Proud Of Your Boy Lyrics\n",
      "Scraping There's A Party Here In Agrabah 1 Lyrics\n",
      "Scraping There's A Party Here In Agrabah 2 Lyrics\n",
      "Scraping Vän Som Jag Lyrics\n",
      "Scraping Welcome To The Forty Thieves Lyrics\n",
      "Scraping You're Only Second Rate Lyrics\n"
     ]
    }
   ],
   "source": [
    "aladdin = grabbing_songs_and_lyrics('https://www.lyricsfreak.com/a/aladdin/', 'Aladdin')"
   ]
  },
  {
   "cell_type": "code",
   "execution_count": 110,
   "metadata": {},
   "outputs": [],
   "source": [
    "aladdin_df = pd.DataFrame(aladdin)"
   ]
  },
  {
   "cell_type": "markdown",
   "metadata": {},
   "source": [
    "#### The Lion King"
   ]
  },
  {
   "cell_type": "code",
   "execution_count": 111,
   "metadata": {
    "scrolled": true
   },
   "outputs": [
    {
     "name": "stdout",
     "output_type": "stream",
     "text": [
      "Songs have been gathered\n",
      "Now to grab lyrics\n",
      "Scraping Be Prepared Lyrics\n",
      "Scraping Can You Feel The Love Tonight Lyrics\n",
      "Scraping Can You Feel The Love Tonite Lyrics\n",
      "Scraping Chow Down Lyrics\n",
      "Scraping Circle Of Life Lyrics\n",
      "Scraping Endless Night Lyrics\n",
      "Scraping Hakuna Matata Lyrics\n",
      "Scraping I Cant Wait To Be King Lyrics\n",
      "Scraping I've Got A Lovely Bunch Of Coconuts Lyrics\n",
      "Scraping King Of Pride Rock / Circle Of Life (reprise) Lyrics\n",
      "Scraping Love Will Find A Way Lyrics\n",
      "Scraping Not One Of Us Lyrics\n",
      "Scraping One By One Lyrics\n",
      "Scraping Rafiki Mourns Lyrics\n",
      "Scraping Shadowland Lyrics\n",
      "Scraping The Lion Sleeps Tonight Lyrics\n",
      "Scraping The Lioness Hunt Lyrics\n",
      "Scraping The Madness Of King Scar Lyrics\n",
      "Scraping The Morning Report Lyrics\n",
      "Scraping They Live In You Lyrics\n",
      "Scraping Timone Hula Lyrics\n",
      "Scraping Timons Dream (Lion King 1 1/2) Lyrics\n",
      "Scraping We Are One Lyrics\n"
     ]
    }
   ],
   "source": [
    "lion_king = grabbing_songs_and_lyrics('https://www.lyricsfreak.com/l/lion+king/', 'Lion King')"
   ]
  },
  {
   "cell_type": "code",
   "execution_count": 112,
   "metadata": {},
   "outputs": [],
   "source": [
    "lion_king_df = pd.DataFrame(lion_king)"
   ]
  },
  {
   "cell_type": "markdown",
   "metadata": {},
   "source": [
    "#### Pocahontas"
   ]
  },
  {
   "cell_type": "code",
   "execution_count": 113,
   "metadata": {
    "scrolled": true
   },
   "outputs": [
    {
     "name": "stdout",
     "output_type": "stream",
     "text": [
      "Songs have been gathered\n",
      "Now to grab lyrics\n",
      "Scraping Colors Of The Wind Lyrics\n",
      "Scraping If I Never Knew You Lyrics\n",
      "Scraping Just Around The Riverbend Lyrics\n",
      "Scraping Kleuren Van De Wind Lyrics\n",
      "Scraping Listen With Your Heart Lyrics\n",
      "Scraping Mine, Mine, Mine Lyrics\n",
      "Scraping Overdosed Lyrics\n",
      "Scraping Pocahontas Lyrics\n",
      "Scraping Savages (Part 1) Lyrics\n",
      "Scraping Savages (Part 2) Lyrics\n",
      "Scraping Steady As The Beating Drum Lyrics\n",
      "Scraping Steady As The Beating Drum (Reprise) Lyrics\n",
      "Scraping The Virginia Company Lyrics\n",
      "Scraping Where Do I Go From Here Lyrics\n"
     ]
    }
   ],
   "source": [
    "pocahontas = grabbing_songs_and_lyrics('https://www.lyricsfreak.com/p/pocahontas/', 'Pocahontas')"
   ]
  },
  {
   "cell_type": "code",
   "execution_count": 114,
   "metadata": {},
   "outputs": [],
   "source": [
    "pocahontas_df = pd.DataFrame(pocahontas)"
   ]
  },
  {
   "cell_type": "markdown",
   "metadata": {},
   "source": [
    "#### Hercules"
   ]
  },
  {
   "cell_type": "code",
   "execution_count": 115,
   "metadata": {
    "scrolled": true
   },
   "outputs": [
    {
     "name": "stdout",
     "output_type": "stream",
     "text": [
      "Songs have been gathered\n",
      "Now to grab lyrics\n",
      "Scraping A Star Is Born Lyrics\n",
      "Scraping Go The Distance [Michael Bolton] Lyrics\n",
      "Scraping I Won't Say I'm In Love Lyrics\n",
      "Scraping One Last Hope Lyrics\n",
      "Scraping Zero To Hero Lyrics\n"
     ]
    }
   ],
   "source": [
    "hercules = grabbing_songs_and_lyrics('https://www.lyricsfreak.com/d/disneys+hercules/', 'Hercules')"
   ]
  },
  {
   "cell_type": "code",
   "execution_count": 116,
   "metadata": {},
   "outputs": [],
   "source": [
    "hercules_df = pd.DataFrame(hercules)"
   ]
  },
  {
   "cell_type": "markdown",
   "metadata": {},
   "source": [
    "#### Mulan"
   ]
  },
  {
   "cell_type": "code",
   "execution_count": 117,
   "metadata": {
    "scrolled": true
   },
   "outputs": [
    {
     "name": "stdout",
     "output_type": "stream",
     "text": [
      "Songs have been gathered\n",
      "Now to grab lyrics\n",
      "Scraping A Girl Worth Fighting For Lyrics\n",
      "Scraping Make A Man Out Of You Lyrics\n",
      "Scraping Reflection Lyrics\n"
     ]
    }
   ],
   "source": [
    "mulan = grabbing_songs_and_lyrics('https://www.lyricsfreak.com/m/mulan/', 'Mulan')"
   ]
  },
  {
   "cell_type": "code",
   "execution_count": 118,
   "metadata": {},
   "outputs": [],
   "source": [
    "mulan_df = pd.DataFrame(mulan)"
   ]
  },
  {
   "cell_type": "markdown",
   "metadata": {},
   "source": [
    "#### Tarzan"
   ]
  },
  {
   "cell_type": "code",
   "execution_count": 119,
   "metadata": {
    "scrolled": true
   },
   "outputs": [
    {
     "name": "stdout",
     "output_type": "stream",
     "text": [
      "Songs have been gathered\n",
      "Now to grab lyrics\n",
      "Scraping Son Of Man Lyrics\n",
      "Scraping Strangers Like Me Lyrics\n",
      "Scraping Two Worlds Lyrics\n",
      "Scraping Two Worlds Finale Lyrics\n",
      "Scraping Two Worlds Reprise Lyrics\n",
      "Scraping You'll Be In My Heart Lyrics\n"
     ]
    }
   ],
   "source": [
    "tarzan = grabbing_songs_and_lyrics('https://www.lyricsfreak.com/d/disneys+tarzan/', 'Tarzan')"
   ]
  },
  {
   "cell_type": "code",
   "execution_count": 120,
   "metadata": {},
   "outputs": [],
   "source": [
    "tarzan_df = pd.DataFrame(tarzan)"
   ]
  },
  {
   "cell_type": "markdown",
   "metadata": {},
   "source": [
    "## Concating Disney Renaissance songs to CSV"
   ]
  },
  {
   "cell_type": "code",
   "execution_count": 122,
   "metadata": {},
   "outputs": [],
   "source": [
    "disney_renaissance = pd.concat([tarzan_df,\n",
    "           mulan_df,\n",
    "           hercules_df,\n",
    "           pocahontas_df,\n",
    "           lion_king_df,\n",
    "           aladdin_df,\n",
    "           beauty_beast_df,\n",
    "           little_mermaid_df], axis=0)"
   ]
  },
  {
   "cell_type": "code",
   "execution_count": 123,
   "metadata": {},
   "outputs": [],
   "source": [
    "disney_renaissance.to_csv('datasets/disney_renaissance.csv', index=False)"
   ]
  }
 ],
 "metadata": {
  "kernelspec": {
   "display_name": "Python 3",
   "language": "python",
   "name": "python3"
  },
  "language_info": {
   "codemirror_mode": {
    "name": "ipython",
    "version": 3
   },
   "file_extension": ".py",
   "mimetype": "text/x-python",
   "name": "python",
   "nbconvert_exporter": "python",
   "pygments_lexer": "ipython3",
   "version": "3.7.6"
  }
 },
 "nbformat": 4,
 "nbformat_minor": 4
}
