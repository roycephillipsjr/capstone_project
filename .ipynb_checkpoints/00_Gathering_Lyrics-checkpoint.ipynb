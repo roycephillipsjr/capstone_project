{
 "cells": [
  {
   "cell_type": "code",
   "execution_count": 27,
   "metadata": {},
   "outputs": [],
   "source": [
    "import pandas as pd\n",
    "import requests\n",
    "from bs4 import BeautifulSoup\n",
    "import time"
   ]
  },
  {
   "cell_type": "code",
   "execution_count": 2,
   "metadata": {},
   "outputs": [],
   "source": [
    "url = 'https://www.lyricsfreak.com/c/cole+porter/'\n",
    "res = requests.get(url)"
   ]
  },
  {
   "cell_type": "code",
   "execution_count": 3,
   "metadata": {},
   "outputs": [
    {
     "data": {
      "text/plain": [
       "200"
      ]
     },
     "execution_count": 3,
     "metadata": {},
     "output_type": "execute_result"
    }
   ],
   "source": [
    "res.status_code"
   ]
  },
  {
   "cell_type": "code",
   "execution_count": 4,
   "metadata": {},
   "outputs": [],
   "source": [
    "soup = BeautifulSoup(res.content, 'lxml')"
   ]
  },
  {
   "cell_type": "code",
   "execution_count": 12,
   "metadata": {},
   "outputs": [
    {
     "data": {
      "text/plain": [
       "<a class=\"lf-link lf-link--primary\" href=\"/c/cole+porter/all+of+you_20816177.html\" title=\"All Of You Lyrics\">\n",
       "            All Of You Lyrics\n",
       "        </a>"
      ]
     },
     "execution_count": 12,
     "metadata": {},
     "output_type": "execute_result"
    }
   ],
   "source": [
    "soup.find('a', {'class': 'lf-link lf-link--primary'})"
   ]
  },
  {
   "cell_type": "code",
   "execution_count": 13,
   "metadata": {},
   "outputs": [],
   "source": [
    "cole_porter_table = soup.find('div', {'class': 'lf-list js-sort-table'})"
   ]
  },
  {
   "cell_type": "code",
   "execution_count": 26,
   "metadata": {},
   "outputs": [
    {
     "data": {
      "text/plain": [
       "[{'song_title': 'All Of You Lyrics',\n",
       "  'href': '/c/cole+porter/all+of+you_20816177.html'},\n",
       " {'song_title': 'All Through The Night Lyrics',\n",
       "  'href': '/c/cole+porter/all+through+the+night_21150965.html'},\n",
       " {'song_title': 'Anything Goes Lyrics',\n",
       "  'href': '/c/cole+porter/anything+goes_20289240.html'},\n",
       " {'song_title': 'Begin The Beguine Lyrics',\n",
       "  'href': '/c/cole+porter/begin+the+beguine_20153583.html'},\n",
       " {'song_title': 'Blow, Gabriel, Blow Lyrics',\n",
       "  'href': '/c/cole+porter/blow+gabriel+blow_20157407.html'}]"
      ]
     },
     "execution_count": 26,
     "metadata": {},
     "output_type": "execute_result"
    }
   ],
   "source": [
    "cole_porter_songs = []\n",
    "\n",
    "for row in cole_porter_table.find_all('a'):\n",
    "    cp_song = {\n",
    "        'song_title': row.attrs['title'],\n",
    "        'href': row.attrs['href']\n",
    "    }\n",
    "    cole_porter_songs.append(cp_song)\n",
    "# pd.DataFrame(cole_porter_songs)\n",
    "cole_porter_songs[:5]"
   ]
  },
  {
   "cell_type": "code",
   "execution_count": null,
   "metadata": {},
   "outputs": [],
   "source": []
  }
 ],
 "metadata": {
  "kernelspec": {
   "display_name": "Python 3",
   "language": "python",
   "name": "python3"
  },
  "language_info": {
   "codemirror_mode": {
    "name": "ipython",
    "version": 3
   },
   "file_extension": ".py",
   "mimetype": "text/x-python",
   "name": "python",
   "nbconvert_exporter": "python",
   "pygments_lexer": "ipython3",
   "version": "3.7.6"
  }
 },
 "nbformat": 4,
 "nbformat_minor": 4
}
