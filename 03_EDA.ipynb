{
 "cells": [
  {
   "cell_type": "code",
   "execution_count": 84,
   "metadata": {},
   "outputs": [],
   "source": [
    "# Importing libraries\n",
    "import pandas as pd\n",
    "import matplotlib.pyplot as plt \n",
    "import seaborn as sns\n",
    "\n",
    "from sklearn.feature_extraction.text import CountVectorizer\n",
    "from sklearn.linear_model import LogisticRegression\n",
    "from sklearn.model_selection import train_test_split, GridSearchCV\n",
    "from sklearn.pipeline import Pipeline\n",
    "\n",
    "%matplotlib inline"
   ]
  },
  {
   "cell_type": "code",
   "execution_count": 85,
   "metadata": {},
   "outputs": [],
   "source": [
    "songs = pd.read_csv('datasets/all_lyrics_add_clean_lyrics_col')"
   ]
  },
  {
   "cell_type": "code",
   "execution_count": 87,
   "metadata": {},
   "outputs": [
    {
     "data": {
      "text/html": [
       "<div>\n",
       "<style scoped>\n",
       "    .dataframe tbody tr th:only-of-type {\n",
       "        vertical-align: middle;\n",
       "    }\n",
       "\n",
       "    .dataframe tbody tr th {\n",
       "        vertical-align: top;\n",
       "    }\n",
       "\n",
       "    .dataframe thead th {\n",
       "        text-align: right;\n",
       "    }\n",
       "</style>\n",
       "<table border=\"1\" class=\"dataframe\">\n",
       "  <thead>\n",
       "    <tr style=\"text-align: right;\">\n",
       "      <th></th>\n",
       "      <th>song_writer</th>\n",
       "      <th>song_name</th>\n",
       "      <th>lyrics</th>\n",
       "      <th>song_link</th>\n",
       "      <th>american_songbook</th>\n",
       "      <th>disney_renaissance</th>\n",
       "      <th>clean_lyrics</th>\n",
       "      <th>clean_lyrics_with_stopwords</th>\n",
       "    </tr>\n",
       "  </thead>\n",
       "  <tbody>\n",
       "    <tr>\n",
       "      <th>0</th>\n",
       "      <td>101 Dalmations</td>\n",
       "      <td>Kanine Krunchies</td>\n",
       "      <td>Kanine Krunchies can't be beat They make each ...</td>\n",
       "      <td>http://www.disneyclips.com/lyrics/lyricsdalmat...</td>\n",
       "      <td>0</td>\n",
       "      <td>0</td>\n",
       "      <td>kanine krunchies can't be beat they make each ...</td>\n",
       "      <td>kanine krunchies can t be beat they make each ...</td>\n",
       "    </tr>\n",
       "    <tr>\n",
       "      <th>1</th>\n",
       "      <td>101 Dalmations</td>\n",
       "      <td>Cruella De Vil</td>\n",
       "      <td>Cruella De Vil Cruella De Vil If she doesn't s...</td>\n",
       "      <td>http://www.disneyclips.com/lyrics/lyrics23.html</td>\n",
       "      <td>0</td>\n",
       "      <td>0</td>\n",
       "      <td>cruella de vil cruella de vil if she doesn't s...</td>\n",
       "      <td>cruella de vil cruella de vil if she doesn t s...</td>\n",
       "    </tr>\n",
       "    <tr>\n",
       "      <th>2</th>\n",
       "      <td>101 Dalmations</td>\n",
       "      <td>Dalmatian Plantation</td>\n",
       "      <td>We'll have a dalmatian plantation Where our po...</td>\n",
       "      <td>http://www.disneyclips.com/lyrics/lyrics88.html</td>\n",
       "      <td>0</td>\n",
       "      <td>0</td>\n",
       "      <td>we'll have a dalmatian plantation where our po...</td>\n",
       "      <td>we ll have a dalmatian plantation where our po...</td>\n",
       "    </tr>\n",
       "    <tr>\n",
       "      <th>3</th>\n",
       "      <td>A Goofy Movie</td>\n",
       "      <td>Stand Out</td>\n",
       "      <td>Open up your eyes, take a look at me Get the p...</td>\n",
       "      <td>http://www.disneyclips.com/lyrics/lyricsgoofy....</td>\n",
       "      <td>0</td>\n",
       "      <td>0</td>\n",
       "      <td>open up your eyes take a look at me get the pi...</td>\n",
       "      <td>open up your eyes take a look at me get the pi...</td>\n",
       "    </tr>\n",
       "    <tr>\n",
       "      <th>4</th>\n",
       "      <td>A Goofy Movie</td>\n",
       "      <td>On the Open Road</td>\n",
       "      <td>[Goofy:] Do ya need a break from modern livin'...</td>\n",
       "      <td>http://www.disneyclips.com/lyrics/lyricsgoofy3...</td>\n",
       "      <td>0</td>\n",
       "      <td>0</td>\n",
       "      <td>goofy do ya need a break from modern livin' do...</td>\n",
       "      <td>goofy do ya need a break from modern livin do ...</td>\n",
       "    </tr>\n",
       "  </tbody>\n",
       "</table>\n",
       "</div>"
      ],
      "text/plain": [
       "      song_writer             song_name  \\\n",
       "0  101 Dalmations      Kanine Krunchies   \n",
       "1  101 Dalmations        Cruella De Vil   \n",
       "2  101 Dalmations  Dalmatian Plantation   \n",
       "3   A Goofy Movie             Stand Out   \n",
       "4   A Goofy Movie      On the Open Road   \n",
       "\n",
       "                                              lyrics  \\\n",
       "0  Kanine Krunchies can't be beat They make each ...   \n",
       "1  Cruella De Vil Cruella De Vil If she doesn't s...   \n",
       "2  We'll have a dalmatian plantation Where our po...   \n",
       "3  Open up your eyes, take a look at me Get the p...   \n",
       "4  [Goofy:] Do ya need a break from modern livin'...   \n",
       "\n",
       "                                           song_link  american_songbook  \\\n",
       "0  http://www.disneyclips.com/lyrics/lyricsdalmat...                  0   \n",
       "1    http://www.disneyclips.com/lyrics/lyrics23.html                  0   \n",
       "2    http://www.disneyclips.com/lyrics/lyrics88.html                  0   \n",
       "3  http://www.disneyclips.com/lyrics/lyricsgoofy....                  0   \n",
       "4  http://www.disneyclips.com/lyrics/lyricsgoofy3...                  0   \n",
       "\n",
       "   disney_renaissance                                       clean_lyrics  \\\n",
       "0                   0  kanine krunchies can't be beat they make each ...   \n",
       "1                   0  cruella de vil cruella de vil if she doesn't s...   \n",
       "2                   0  we'll have a dalmatian plantation where our po...   \n",
       "3                   0  open up your eyes take a look at me get the pi...   \n",
       "4                   0  goofy do ya need a break from modern livin' do...   \n",
       "\n",
       "                         clean_lyrics_with_stopwords  \n",
       "0  kanine krunchies can t be beat they make each ...  \n",
       "1  cruella de vil cruella de vil if she doesn t s...  \n",
       "2  we ll have a dalmatian plantation where our po...  \n",
       "3  open up your eyes take a look at me get the pi...  \n",
       "4  goofy do ya need a break from modern livin do ...  "
      ]
     },
     "execution_count": 87,
     "metadata": {},
     "output_type": "execute_result"
    }
   ],
   "source": [
    "songs.head()"
   ]
  },
  {
   "cell_type": "code",
   "execution_count": 88,
   "metadata": {},
   "outputs": [
    {
     "data": {
      "text/plain": [
       "(816, 8)"
      ]
     },
     "execution_count": 88,
     "metadata": {},
     "output_type": "execute_result"
    }
   ],
   "source": [
    "songs.shape"
   ]
  },
  {
   "cell_type": "code",
   "execution_count": 89,
   "metadata": {},
   "outputs": [
    {
     "data": {
      "text/plain": [
       "song_writer                    0\n",
       "song_name                      0\n",
       "lyrics                         0\n",
       "song_link                      0\n",
       "american_songbook              0\n",
       "disney_renaissance             0\n",
       "clean_lyrics                   0\n",
       "clean_lyrics_with_stopwords    0\n",
       "dtype: int64"
      ]
     },
     "execution_count": 89,
     "metadata": {},
     "output_type": "execute_result"
    }
   ],
   "source": [
    "songs.isnull().sum()"
   ]
  },
  {
   "cell_type": "code",
   "execution_count": 90,
   "metadata": {},
   "outputs": [
    {
     "data": {
      "text/plain": [
       "1    0.542892\n",
       "0    0.457108\n",
       "Name: american_songbook, dtype: float64"
      ]
     },
     "execution_count": 90,
     "metadata": {},
     "output_type": "execute_result"
    }
   ],
   "source": [
    "songs['american_songbook'].value_counts(normalize=True)"
   ]
  },
  {
   "cell_type": "code",
   "execution_count": 91,
   "metadata": {},
   "outputs": [
    {
     "data": {
      "text/plain": [
       "0    0.840686\n",
       "1    0.159314\n",
       "Name: disney_renaissance, dtype: float64"
      ]
     },
     "execution_count": 91,
     "metadata": {},
     "output_type": "execute_result"
    }
   ],
   "source": [
    "songs['disney_renaissance'].value_counts(normalize=True)"
   ]
  },
  {
   "cell_type": "code",
   "execution_count": 92,
   "metadata": {},
   "outputs": [],
   "source": [
    "# Creating columns with Character and Word counts to see if there is any difference between the two\n",
    "songs['char_count'] = songs['clean_lyrics'].map(len)\n",
    "songs['word_count'] = songs['clean_lyrics'].map(lambda x:len(x.split()))"
   ]
  },
  {
   "cell_type": "code",
   "execution_count": 93,
   "metadata": {},
   "outputs": [
    {
     "data": {
      "text/html": [
       "<div>\n",
       "<style scoped>\n",
       "    .dataframe tbody tr th:only-of-type {\n",
       "        vertical-align: middle;\n",
       "    }\n",
       "\n",
       "    .dataframe tbody tr th {\n",
       "        vertical-align: top;\n",
       "    }\n",
       "\n",
       "    .dataframe thead th {\n",
       "        text-align: right;\n",
       "    }\n",
       "</style>\n",
       "<table border=\"1\" class=\"dataframe\">\n",
       "  <thead>\n",
       "    <tr style=\"text-align: right;\">\n",
       "      <th></th>\n",
       "      <th>song_writer</th>\n",
       "      <th>song_name</th>\n",
       "      <th>lyrics</th>\n",
       "      <th>song_link</th>\n",
       "      <th>american_songbook</th>\n",
       "      <th>disney_renaissance</th>\n",
       "      <th>clean_lyrics</th>\n",
       "      <th>clean_lyrics_with_stopwords</th>\n",
       "      <th>char_count</th>\n",
       "      <th>word_count</th>\n",
       "    </tr>\n",
       "  </thead>\n",
       "  <tbody>\n",
       "    <tr>\n",
       "      <th>0</th>\n",
       "      <td>101 Dalmations</td>\n",
       "      <td>Kanine Krunchies</td>\n",
       "      <td>Kanine Krunchies can't be beat They make each ...</td>\n",
       "      <td>http://www.disneyclips.com/lyrics/lyricsdalmat...</td>\n",
       "      <td>0</td>\n",
       "      <td>0</td>\n",
       "      <td>kanine krunchies can't be beat they make each ...</td>\n",
       "      <td>kanine krunchies can t be beat they make each ...</td>\n",
       "      <td>371</td>\n",
       "      <td>66</td>\n",
       "    </tr>\n",
       "    <tr>\n",
       "      <th>1</th>\n",
       "      <td>101 Dalmations</td>\n",
       "      <td>Cruella De Vil</td>\n",
       "      <td>Cruella De Vil Cruella De Vil If she doesn't s...</td>\n",
       "      <td>http://www.disneyclips.com/lyrics/lyrics23.html</td>\n",
       "      <td>0</td>\n",
       "      <td>0</td>\n",
       "      <td>cruella de vil cruella de vil if she doesn't s...</td>\n",
       "      <td>cruella de vil cruella de vil if she doesn t s...</td>\n",
       "      <td>504</td>\n",
       "      <td>99</td>\n",
       "    </tr>\n",
       "    <tr>\n",
       "      <th>2</th>\n",
       "      <td>101 Dalmations</td>\n",
       "      <td>Dalmatian Plantation</td>\n",
       "      <td>We'll have a dalmatian plantation Where our po...</td>\n",
       "      <td>http://www.disneyclips.com/lyrics/lyrics88.html</td>\n",
       "      <td>0</td>\n",
       "      <td>0</td>\n",
       "      <td>we'll have a dalmatian plantation where our po...</td>\n",
       "      <td>we ll have a dalmatian plantation where our po...</td>\n",
       "      <td>162</td>\n",
       "      <td>25</td>\n",
       "    </tr>\n",
       "    <tr>\n",
       "      <th>3</th>\n",
       "      <td>A Goofy Movie</td>\n",
       "      <td>Stand Out</td>\n",
       "      <td>Open up your eyes, take a look at me Get the p...</td>\n",
       "      <td>http://www.disneyclips.com/lyrics/lyricsgoofy....</td>\n",
       "      <td>0</td>\n",
       "      <td>0</td>\n",
       "      <td>open up your eyes take a look at me get the pi...</td>\n",
       "      <td>open up your eyes take a look at me get the pi...</td>\n",
       "      <td>1668</td>\n",
       "      <td>348</td>\n",
       "    </tr>\n",
       "    <tr>\n",
       "      <th>4</th>\n",
       "      <td>A Goofy Movie</td>\n",
       "      <td>On the Open Road</td>\n",
       "      <td>[Goofy:] Do ya need a break from modern livin'...</td>\n",
       "      <td>http://www.disneyclips.com/lyrics/lyricsgoofy3...</td>\n",
       "      <td>0</td>\n",
       "      <td>0</td>\n",
       "      <td>goofy do ya need a break from modern livin' do...</td>\n",
       "      <td>goofy do ya need a break from modern livin do ...</td>\n",
       "      <td>1768</td>\n",
       "      <td>353</td>\n",
       "    </tr>\n",
       "  </tbody>\n",
       "</table>\n",
       "</div>"
      ],
      "text/plain": [
       "      song_writer             song_name  \\\n",
       "0  101 Dalmations      Kanine Krunchies   \n",
       "1  101 Dalmations        Cruella De Vil   \n",
       "2  101 Dalmations  Dalmatian Plantation   \n",
       "3   A Goofy Movie             Stand Out   \n",
       "4   A Goofy Movie      On the Open Road   \n",
       "\n",
       "                                              lyrics  \\\n",
       "0  Kanine Krunchies can't be beat They make each ...   \n",
       "1  Cruella De Vil Cruella De Vil If she doesn't s...   \n",
       "2  We'll have a dalmatian plantation Where our po...   \n",
       "3  Open up your eyes, take a look at me Get the p...   \n",
       "4  [Goofy:] Do ya need a break from modern livin'...   \n",
       "\n",
       "                                           song_link  american_songbook  \\\n",
       "0  http://www.disneyclips.com/lyrics/lyricsdalmat...                  0   \n",
       "1    http://www.disneyclips.com/lyrics/lyrics23.html                  0   \n",
       "2    http://www.disneyclips.com/lyrics/lyrics88.html                  0   \n",
       "3  http://www.disneyclips.com/lyrics/lyricsgoofy....                  0   \n",
       "4  http://www.disneyclips.com/lyrics/lyricsgoofy3...                  0   \n",
       "\n",
       "   disney_renaissance                                       clean_lyrics  \\\n",
       "0                   0  kanine krunchies can't be beat they make each ...   \n",
       "1                   0  cruella de vil cruella de vil if she doesn't s...   \n",
       "2                   0  we'll have a dalmatian plantation where our po...   \n",
       "3                   0  open up your eyes take a look at me get the pi...   \n",
       "4                   0  goofy do ya need a break from modern livin' do...   \n",
       "\n",
       "                         clean_lyrics_with_stopwords  char_count  word_count  \n",
       "0  kanine krunchies can t be beat they make each ...         371          66  \n",
       "1  cruella de vil cruella de vil if she doesn t s...         504          99  \n",
       "2  we ll have a dalmatian plantation where our po...         162          25  \n",
       "3  open up your eyes take a look at me get the pi...        1668         348  \n",
       "4  goofy do ya need a break from modern livin do ...        1768         353  "
      ]
     },
     "execution_count": 93,
     "metadata": {},
     "output_type": "execute_result"
    }
   ],
   "source": [
    "songs.head()"
   ]
  },
  {
   "cell_type": "code",
   "execution_count": 94,
   "metadata": {},
   "outputs": [
    {
     "data": {
      "text/html": [
       "<div>\n",
       "<style scoped>\n",
       "    .dataframe tbody tr th:only-of-type {\n",
       "        vertical-align: middle;\n",
       "    }\n",
       "\n",
       "    .dataframe tbody tr th {\n",
       "        vertical-align: top;\n",
       "    }\n",
       "\n",
       "    .dataframe thead th {\n",
       "        text-align: right;\n",
       "    }\n",
       "</style>\n",
       "<table border=\"1\" class=\"dataframe\">\n",
       "  <thead>\n",
       "    <tr style=\"text-align: right;\">\n",
       "      <th></th>\n",
       "      <th>disney_renaissance</th>\n",
       "      <th>char_count</th>\n",
       "      <th>word_count</th>\n",
       "    </tr>\n",
       "    <tr>\n",
       "      <th>american_songbook</th>\n",
       "      <th></th>\n",
       "      <th></th>\n",
       "      <th></th>\n",
       "    </tr>\n",
       "  </thead>\n",
       "  <tbody>\n",
       "    <tr>\n",
       "      <th>0</th>\n",
       "      <td>0.348525</td>\n",
       "      <td>963.479893</td>\n",
       "      <td>190.997319</td>\n",
       "    </tr>\n",
       "    <tr>\n",
       "      <th>1</th>\n",
       "      <td>0.000000</td>\n",
       "      <td>831.920993</td>\n",
       "      <td>167.647856</td>\n",
       "    </tr>\n",
       "  </tbody>\n",
       "</table>\n",
       "</div>"
      ],
      "text/plain": [
       "                   disney_renaissance  char_count  word_count\n",
       "american_songbook                                            \n",
       "0                            0.348525  963.479893  190.997319\n",
       "1                            0.000000  831.920993  167.647856"
      ]
     },
     "execution_count": 94,
     "metadata": {},
     "output_type": "execute_result"
    }
   ],
   "source": [
    "# Dinsey has got more words on average!!\n",
    "songs.groupby('american_songbook').mean()"
   ]
  },
  {
   "cell_type": "code",
   "execution_count": 95,
   "metadata": {},
   "outputs": [
    {
     "data": {
      "text/html": [
       "<div>\n",
       "<style scoped>\n",
       "    .dataframe tbody tr th:only-of-type {\n",
       "        vertical-align: middle;\n",
       "    }\n",
       "\n",
       "    .dataframe tbody tr th {\n",
       "        vertical-align: top;\n",
       "    }\n",
       "\n",
       "    .dataframe thead th {\n",
       "        text-align: right;\n",
       "    }\n",
       "</style>\n",
       "<table border=\"1\" class=\"dataframe\">\n",
       "  <thead>\n",
       "    <tr style=\"text-align: right;\">\n",
       "      <th></th>\n",
       "      <th>song_writer</th>\n",
       "      <th>song_name</th>\n",
       "      <th>lyrics</th>\n",
       "      <th>song_link</th>\n",
       "      <th>american_songbook</th>\n",
       "      <th>disney_renaissance</th>\n",
       "      <th>clean_lyrics</th>\n",
       "      <th>clean_lyrics_with_stopwords</th>\n",
       "      <th>char_count</th>\n",
       "      <th>word_count</th>\n",
       "    </tr>\n",
       "  </thead>\n",
       "  <tbody>\n",
       "    <tr>\n",
       "      <th>61</th>\n",
       "      <td>Beauty and the Beast</td>\n",
       "      <td>Belle Lyrics</td>\n",
       "      <td>\\n                    BELLE\\n\\nLittle town It'...</td>\n",
       "      <td>https://www.lyricsfreak.com/b/beauty+and+the+b...</td>\n",
       "      <td>0</td>\n",
       "      <td>1</td>\n",
       "      <td>belle little town it's a quiet village ev'ry d...</td>\n",
       "      <td>belle little town it s a quiet village ev ry d...</td>\n",
       "      <td>3738</td>\n",
       "      <td>703</td>\n",
       "    </tr>\n",
       "    <tr>\n",
       "      <th>573</th>\n",
       "      <td>Lion King</td>\n",
       "      <td>The Madness Of King Scar Lyrics</td>\n",
       "      <td>\\n                    Zazu, why am I not loved...</td>\n",
       "      <td>https://www.lyricsfreak.com/l/lion+king/ + /l/...</td>\n",
       "      <td>0</td>\n",
       "      <td>1</td>\n",
       "      <td>zazu why am i not loved i am that rare and awe...</td>\n",
       "      <td>zazu why am i not loved i am that rare and awe...</td>\n",
       "      <td>2989</td>\n",
       "      <td>612</td>\n",
       "    </tr>\n",
       "    <tr>\n",
       "      <th>53</th>\n",
       "      <td>Beauty and the Beast</td>\n",
       "      <td>The Mob Song Lyrics</td>\n",
       "      <td>\\n                    [Gaston:]       The Beas...</td>\n",
       "      <td>https://www.lyricsfreak.com/b/beauty+and+the+b...</td>\n",
       "      <td>0</td>\n",
       "      <td>1</td>\n",
       "      <td>gaston the beast will make off with your child...</td>\n",
       "      <td>gaston the beast will make off with your child...</td>\n",
       "      <td>2997</td>\n",
       "      <td>581</td>\n",
       "    </tr>\n",
       "    <tr>\n",
       "      <th>55</th>\n",
       "      <td>Beauty and the Beast</td>\n",
       "      <td>Human Again Lyrics</td>\n",
       "      <td>\\n                    Lumiere\\n\\r\\nHa ha, oui,...</td>\n",
       "      <td>https://www.lyricsfreak.com/b/beauty+and+the+b...</td>\n",
       "      <td>0</td>\n",
       "      <td>1</td>\n",
       "      <td>lumiere ha ha oui my friends the day we have w...</td>\n",
       "      <td>lumiere ha ha oui my friends the day we have w...</td>\n",
       "      <td>2930</td>\n",
       "      <td>558</td>\n",
       "    </tr>\n",
       "    <tr>\n",
       "      <th>423</th>\n",
       "      <td>Irving Berlin</td>\n",
       "      <td>Anything You Can Do Lyrics</td>\n",
       "      <td>\\n                    Annie: Anything you can ...</td>\n",
       "      <td>https://www.lyricsfreak.com/i/irving+berlin/ +...</td>\n",
       "      <td>1</td>\n",
       "      <td>0</td>\n",
       "      <td>annie anything you can do i can do better i ca...</td>\n",
       "      <td>annie anything you can do i can do better i ca...</td>\n",
       "      <td>2600</td>\n",
       "      <td>552</td>\n",
       "    </tr>\n",
       "    <tr>\n",
       "      <th>811</th>\n",
       "      <td>Winnie the Pooh</td>\n",
       "      <td>The Backson Song</td>\n",
       "      <td>[Owl:] It's a giant creature with a tail Here,...</td>\n",
       "      <td>http://www.disneyclips.com/lyrics/lyricswinnie...</td>\n",
       "      <td>0</td>\n",
       "      <td>0</td>\n",
       "      <td>owl it's a giant creature with a tail here i'l...</td>\n",
       "      <td>owl it s a giant creature with a tail here i l...</td>\n",
       "      <td>2814</td>\n",
       "      <td>550</td>\n",
       "    </tr>\n",
       "    <tr>\n",
       "      <th>656</th>\n",
       "      <td>Oscar Hammerstein</td>\n",
       "      <td>The Farmer And The Cowman Lyrics</td>\n",
       "      <td>\\n                    Oh the farmer and the co...</td>\n",
       "      <td>https://www.lyricsfreak.com/o/oscar+hammerstei...</td>\n",
       "      <td>1</td>\n",
       "      <td>0</td>\n",
       "      <td>oh the farmer and the cowman should be friends...</td>\n",
       "      <td>oh the farmer and the cowman should be friends...</td>\n",
       "      <td>2879</td>\n",
       "      <td>546</td>\n",
       "    </tr>\n",
       "    <tr>\n",
       "      <th>583</th>\n",
       "      <td>Little Mermaid</td>\n",
       "      <td>Poor Unfortunate Souls Lyrics</td>\n",
       "      <td>\\n                    URSULA\\nThe only way to ...</td>\n",
       "      <td>https://www.lyricsfreak.com/t/the+little+merma...</td>\n",
       "      <td>0</td>\n",
       "      <td>1</td>\n",
       "      <td>ursula the only way to get what you want is to...</td>\n",
       "      <td>ursula the only way to get what you want is to...</td>\n",
       "      <td>2775</td>\n",
       "      <td>542</td>\n",
       "    </tr>\n",
       "    <tr>\n",
       "      <th>675</th>\n",
       "      <td>Oscar Hammerstein</td>\n",
       "      <td>If I Loved You Lyrics</td>\n",
       "      <td>\\n                    Julie*But*\\nsomehow I ca...</td>\n",
       "      <td>https://www.lyricsfreak.com/o/oscar+hammerstei...</td>\n",
       "      <td>1</td>\n",
       "      <td>0</td>\n",
       "      <td>julie but somehow i can see just exactly how i...</td>\n",
       "      <td>julie but somehow i can see just exactly how i...</td>\n",
       "      <td>2463</td>\n",
       "      <td>524</td>\n",
       "    </tr>\n",
       "    <tr>\n",
       "      <th>652</th>\n",
       "      <td>Oscar Hammerstein</td>\n",
       "      <td>Shall I Tell You What I Think Of You? Lyrics</td>\n",
       "      <td>\\n                    Your servant! Your serva...</td>\n",
       "      <td>https://www.lyricsfreak.com/o/oscar+hammerstei...</td>\n",
       "      <td>1</td>\n",
       "      <td>0</td>\n",
       "      <td>your servant your servant indeed i'm not your ...</td>\n",
       "      <td>your servant your servant indeed i m not your ...</td>\n",
       "      <td>2685</td>\n",
       "      <td>512</td>\n",
       "    </tr>\n",
       "    <tr>\n",
       "      <th>634</th>\n",
       "      <td>Moana</td>\n",
       "      <td>Where You Are</td>\n",
       "      <td>[Chief Tui]: Moana, make way, make way! Moana,...</td>\n",
       "      <td>http://www.disneyclips.com/lyrics/moana-where-...</td>\n",
       "      <td>0</td>\n",
       "      <td>0</td>\n",
       "      <td>chief tui moana make way make way moana it's t...</td>\n",
       "      <td>chief tui moana make way make way moana it s t...</td>\n",
       "      <td>2537</td>\n",
       "      <td>503</td>\n",
       "    </tr>\n",
       "    <tr>\n",
       "      <th>62</th>\n",
       "      <td>Beauty and the Beast</td>\n",
       "      <td>Be Our Guest Lyrics</td>\n",
       "      <td>\\n                    LUMIERE\\n\\nMa chere, Mad...</td>\n",
       "      <td>https://www.lyricsfreak.com/b/beauty+and+the+b...</td>\n",
       "      <td>0</td>\n",
       "      <td>1</td>\n",
       "      <td>lumiere ma chere mademoiselle it is with deepe...</td>\n",
       "      <td>lumiere ma chere mademoiselle it is with deepe...</td>\n",
       "      <td>2606</td>\n",
       "      <td>501</td>\n",
       "    </tr>\n",
       "    <tr>\n",
       "      <th>663</th>\n",
       "      <td>Oscar Hammerstein</td>\n",
       "      <td>A Puzzlement Lyrics</td>\n",
       "      <td>\\n                    When I was a boy\\nWorld ...</td>\n",
       "      <td>https://www.lyricsfreak.com/o/oscar+hammerstei...</td>\n",
       "      <td>1</td>\n",
       "      <td>0</td>\n",
       "      <td>when i was a boy world was better spot what wa...</td>\n",
       "      <td>when i was a boy world was better spot what wa...</td>\n",
       "      <td>2222</td>\n",
       "      <td>457</td>\n",
       "    </tr>\n",
       "    <tr>\n",
       "      <th>740</th>\n",
       "      <td>Tangled</td>\n",
       "      <td>I've Got a Dream</td>\n",
       "      <td>[Hook Hand:] I'm malicious, mean and scary My ...</td>\n",
       "      <td>http://www.disneyclips.com/lyrics/lyricstangle...</td>\n",
       "      <td>0</td>\n",
       "      <td>0</td>\n",
       "      <td>hook hand i'm malicious mean and scary my snee...</td>\n",
       "      <td>hook hand i m malicious mean and scary my snee...</td>\n",
       "      <td>2358</td>\n",
       "      <td>452</td>\n",
       "    </tr>\n",
       "    <tr>\n",
       "      <th>447</th>\n",
       "      <td>Irving Berlin</td>\n",
       "      <td>The Hostess With The Mostes' On The Ball Lyrics</td>\n",
       "      <td>\\n                    I was born on a thousand...</td>\n",
       "      <td>https://www.lyricsfreak.com/i/irving+berlin/ +...</td>\n",
       "      <td>1</td>\n",
       "      <td>0</td>\n",
       "      <td>i was born on a thousand acres of oklahoma lan...</td>\n",
       "      <td>i was born on a thousand acres of oklahoma lan...</td>\n",
       "      <td>2282</td>\n",
       "      <td>443</td>\n",
       "    </tr>\n",
       "    <tr>\n",
       "      <th>784</th>\n",
       "      <td>The Nightmare Before Christmas</td>\n",
       "      <td>Kidnap the Sandy Claws</td>\n",
       "      <td>Kidnap Mr. Sandy Claws I wanna do it Let's dra...</td>\n",
       "      <td>http://www.disneyclips.com/lyrics/kidnap-the-s...</td>\n",
       "      <td>0</td>\n",
       "      <td>0</td>\n",
       "      <td>kidnap mr sandy claws i wanna do it let's draw...</td>\n",
       "      <td>kidnap mr sandy claws i wanna do it let s draw...</td>\n",
       "      <td>2059</td>\n",
       "      <td>439</td>\n",
       "    </tr>\n",
       "    <tr>\n",
       "      <th>156</th>\n",
       "      <td>Enchanted</td>\n",
       "      <td>That's How You Know</td>\n",
       "      <td>[Giselle:] How does she know you love her? How...</td>\n",
       "      <td>http://www.disneyclips.com/lyrics/lyricsenchan...</td>\n",
       "      <td>0</td>\n",
       "      <td>0</td>\n",
       "      <td>giselle how does she know you love her how doe...</td>\n",
       "      <td>giselle how does she know you love her how doe...</td>\n",
       "      <td>2052</td>\n",
       "      <td>435</td>\n",
       "    </tr>\n",
       "    <tr>\n",
       "      <th>116</th>\n",
       "      <td>Cole Porter</td>\n",
       "      <td>You're The Top Lyrics</td>\n",
       "      <td>\\n                    At words poetic, I'm so ...</td>\n",
       "      <td>https://www.lyricsfreak.com/c/cole+porter//c/c...</td>\n",
       "      <td>1</td>\n",
       "      <td>0</td>\n",
       "      <td>at words poetic i'm so pathetic that i always ...</td>\n",
       "      <td>at words poetic i m so pathetic that i always ...</td>\n",
       "      <td>2292</td>\n",
       "      <td>435</td>\n",
       "    </tr>\n",
       "    <tr>\n",
       "      <th>233</th>\n",
       "      <td>Frozen 2</td>\n",
       "      <td>Get This Right</td>\n",
       "      <td>[Kristoff:] It's not you, it's me The timing a...</td>\n",
       "      <td>http://www.disneyclips.com/lyrics/frozen2-get-...</td>\n",
       "      <td>0</td>\n",
       "      <td>0</td>\n",
       "      <td>kristoff it's not you it's me the timing and t...</td>\n",
       "      <td>kristoff it s not you it s me the timing and t...</td>\n",
       "      <td>2124</td>\n",
       "      <td>433</td>\n",
       "    </tr>\n",
       "    <tr>\n",
       "      <th>546</th>\n",
       "      <td>Johnny Mercer</td>\n",
       "      <td>Bob White Lyrics</td>\n",
       "      <td>\\n                    Just listen to the Bob W...</td>\n",
       "      <td>https://www.lyricsfreak.com/j/johnny+mercer/ +...</td>\n",
       "      <td>1</td>\n",
       "      <td>0</td>\n",
       "      <td>just listen to the bob white he never could si...</td>\n",
       "      <td>just listen to the bob white he never could si...</td>\n",
       "      <td>2163</td>\n",
       "      <td>432</td>\n",
       "    </tr>\n",
       "  </tbody>\n",
       "</table>\n",
       "</div>"
      ],
      "text/plain": [
       "                        song_writer  \\\n",
       "61             Beauty and the Beast   \n",
       "573                       Lion King   \n",
       "53             Beauty and the Beast   \n",
       "55             Beauty and the Beast   \n",
       "423                   Irving Berlin   \n",
       "811                 Winnie the Pooh   \n",
       "656               Oscar Hammerstein   \n",
       "583                  Little Mermaid   \n",
       "675               Oscar Hammerstein   \n",
       "652               Oscar Hammerstein   \n",
       "634                           Moana   \n",
       "62             Beauty and the Beast   \n",
       "663               Oscar Hammerstein   \n",
       "740                         Tangled   \n",
       "447                   Irving Berlin   \n",
       "784  The Nightmare Before Christmas   \n",
       "156                       Enchanted   \n",
       "116                     Cole Porter   \n",
       "233                        Frozen 2   \n",
       "546                   Johnny Mercer   \n",
       "\n",
       "                                           song_name  \\\n",
       "61                                      Belle Lyrics   \n",
       "573                  The Madness Of King Scar Lyrics   \n",
       "53                               The Mob Song Lyrics   \n",
       "55                                Human Again Lyrics   \n",
       "423                       Anything You Can Do Lyrics   \n",
       "811                                 The Backson Song   \n",
       "656                 The Farmer And The Cowman Lyrics   \n",
       "583                    Poor Unfortunate Souls Lyrics   \n",
       "675                            If I Loved You Lyrics   \n",
       "652     Shall I Tell You What I Think Of You? Lyrics   \n",
       "634                                    Where You Are   \n",
       "62                               Be Our Guest Lyrics   \n",
       "663                              A Puzzlement Lyrics   \n",
       "740                                 I've Got a Dream   \n",
       "447  The Hostess With The Mostes' On The Ball Lyrics   \n",
       "784                           Kidnap the Sandy Claws   \n",
       "156                              That's How You Know   \n",
       "116                            You're The Top Lyrics   \n",
       "233                                   Get This Right   \n",
       "546                                 Bob White Lyrics   \n",
       "\n",
       "                                                lyrics  \\\n",
       "61   \\n                    BELLE\\n\\nLittle town It'...   \n",
       "573  \\n                    Zazu, why am I not loved...   \n",
       "53   \\n                    [Gaston:]       The Beas...   \n",
       "55   \\n                    Lumiere\\n\\r\\nHa ha, oui,...   \n",
       "423  \\n                    Annie: Anything you can ...   \n",
       "811  [Owl:] It's a giant creature with a tail Here,...   \n",
       "656  \\n                    Oh the farmer and the co...   \n",
       "583  \\n                    URSULA\\nThe only way to ...   \n",
       "675  \\n                    Julie*But*\\nsomehow I ca...   \n",
       "652  \\n                    Your servant! Your serva...   \n",
       "634  [Chief Tui]: Moana, make way, make way! Moana,...   \n",
       "62   \\n                    LUMIERE\\n\\nMa chere, Mad...   \n",
       "663  \\n                    When I was a boy\\nWorld ...   \n",
       "740  [Hook Hand:] I'm malicious, mean and scary My ...   \n",
       "447  \\n                    I was born on a thousand...   \n",
       "784  Kidnap Mr. Sandy Claws I wanna do it Let's dra...   \n",
       "156  [Giselle:] How does she know you love her? How...   \n",
       "116  \\n                    At words poetic, I'm so ...   \n",
       "233  [Kristoff:] It's not you, it's me The timing a...   \n",
       "546  \\n                    Just listen to the Bob W...   \n",
       "\n",
       "                                             song_link  american_songbook  \\\n",
       "61   https://www.lyricsfreak.com/b/beauty+and+the+b...                  0   \n",
       "573  https://www.lyricsfreak.com/l/lion+king/ + /l/...                  0   \n",
       "53   https://www.lyricsfreak.com/b/beauty+and+the+b...                  0   \n",
       "55   https://www.lyricsfreak.com/b/beauty+and+the+b...                  0   \n",
       "423  https://www.lyricsfreak.com/i/irving+berlin/ +...                  1   \n",
       "811  http://www.disneyclips.com/lyrics/lyricswinnie...                  0   \n",
       "656  https://www.lyricsfreak.com/o/oscar+hammerstei...                  1   \n",
       "583  https://www.lyricsfreak.com/t/the+little+merma...                  0   \n",
       "675  https://www.lyricsfreak.com/o/oscar+hammerstei...                  1   \n",
       "652  https://www.lyricsfreak.com/o/oscar+hammerstei...                  1   \n",
       "634  http://www.disneyclips.com/lyrics/moana-where-...                  0   \n",
       "62   https://www.lyricsfreak.com/b/beauty+and+the+b...                  0   \n",
       "663  https://www.lyricsfreak.com/o/oscar+hammerstei...                  1   \n",
       "740  http://www.disneyclips.com/lyrics/lyricstangle...                  0   \n",
       "447  https://www.lyricsfreak.com/i/irving+berlin/ +...                  1   \n",
       "784  http://www.disneyclips.com/lyrics/kidnap-the-s...                  0   \n",
       "156  http://www.disneyclips.com/lyrics/lyricsenchan...                  0   \n",
       "116  https://www.lyricsfreak.com/c/cole+porter//c/c...                  1   \n",
       "233  http://www.disneyclips.com/lyrics/frozen2-get-...                  0   \n",
       "546  https://www.lyricsfreak.com/j/johnny+mercer/ +...                  1   \n",
       "\n",
       "     disney_renaissance                                       clean_lyrics  \\\n",
       "61                    1  belle little town it's a quiet village ev'ry d...   \n",
       "573                   1  zazu why am i not loved i am that rare and awe...   \n",
       "53                    1  gaston the beast will make off with your child...   \n",
       "55                    1  lumiere ha ha oui my friends the day we have w...   \n",
       "423                   0  annie anything you can do i can do better i ca...   \n",
       "811                   0  owl it's a giant creature with a tail here i'l...   \n",
       "656                   0  oh the farmer and the cowman should be friends...   \n",
       "583                   1  ursula the only way to get what you want is to...   \n",
       "675                   0  julie but somehow i can see just exactly how i...   \n",
       "652                   0  your servant your servant indeed i'm not your ...   \n",
       "634                   0  chief tui moana make way make way moana it's t...   \n",
       "62                    1  lumiere ma chere mademoiselle it is with deepe...   \n",
       "663                   0  when i was a boy world was better spot what wa...   \n",
       "740                   0  hook hand i'm malicious mean and scary my snee...   \n",
       "447                   0  i was born on a thousand acres of oklahoma lan...   \n",
       "784                   0  kidnap mr sandy claws i wanna do it let's draw...   \n",
       "156                   0  giselle how does she know you love her how doe...   \n",
       "116                   0  at words poetic i'm so pathetic that i always ...   \n",
       "233                   0  kristoff it's not you it's me the timing and t...   \n",
       "546                   0  just listen to the bob white he never could si...   \n",
       "\n",
       "                           clean_lyrics_with_stopwords  char_count  word_count  \n",
       "61   belle little town it s a quiet village ev ry d...        3738         703  \n",
       "573  zazu why am i not loved i am that rare and awe...        2989         612  \n",
       "53   gaston the beast will make off with your child...        2997         581  \n",
       "55   lumiere ha ha oui my friends the day we have w...        2930         558  \n",
       "423  annie anything you can do i can do better i ca...        2600         552  \n",
       "811  owl it s a giant creature with a tail here i l...        2814         550  \n",
       "656  oh the farmer and the cowman should be friends...        2879         546  \n",
       "583  ursula the only way to get what you want is to...        2775         542  \n",
       "675  julie but somehow i can see just exactly how i...        2463         524  \n",
       "652  your servant your servant indeed i m not your ...        2685         512  \n",
       "634  chief tui moana make way make way moana it s t...        2537         503  \n",
       "62   lumiere ma chere mademoiselle it is with deepe...        2606         501  \n",
       "663  when i was a boy world was better spot what wa...        2222         457  \n",
       "740  hook hand i m malicious mean and scary my snee...        2358         452  \n",
       "447  i was born on a thousand acres of oklahoma lan...        2282         443  \n",
       "784  kidnap mr sandy claws i wanna do it let s draw...        2059         439  \n",
       "156  giselle how does she know you love her how doe...        2052         435  \n",
       "116  at words poetic i m so pathetic that i always ...        2292         435  \n",
       "233  kristoff it s not you it s me the timing and t...        2124         433  \n",
       "546  just listen to the bob white he never could si...        2163         432  "
      ]
     },
     "execution_count": 95,
     "metadata": {},
     "output_type": "execute_result"
    }
   ],
   "source": [
    "songs.sort_values('word_count', ascending=False).head(20)"
   ]
  },
  {
   "cell_type": "code",
   "execution_count": 96,
   "metadata": {},
   "outputs": [],
   "source": [
    "from vaderSentiment.vaderSentiment import SentimentIntensityAnalyzer"
   ]
  },
  {
   "cell_type": "code",
   "execution_count": 112,
   "metadata": {
    "scrolled": false
   },
   "outputs": [
    {
     "data": {
      "text/html": [
       "<div>\n",
       "<style scoped>\n",
       "    .dataframe tbody tr th:only-of-type {\n",
       "        vertical-align: middle;\n",
       "    }\n",
       "\n",
       "    .dataframe tbody tr th {\n",
       "        vertical-align: top;\n",
       "    }\n",
       "\n",
       "    .dataframe thead th {\n",
       "        text-align: right;\n",
       "    }\n",
       "</style>\n",
       "<table border=\"1\" class=\"dataframe\">\n",
       "  <thead>\n",
       "    <tr style=\"text-align: right;\">\n",
       "      <th></th>\n",
       "      <th>song_writer</th>\n",
       "      <th>song_name</th>\n",
       "      <th>lyrics</th>\n",
       "      <th>song_link</th>\n",
       "      <th>american_songbook</th>\n",
       "      <th>disney_renaissance</th>\n",
       "      <th>clean_lyrics</th>\n",
       "      <th>clean_lyrics_with_stopwords</th>\n",
       "      <th>char_count</th>\n",
       "      <th>word_count</th>\n",
       "      <th>neg</th>\n",
       "      <th>neu</th>\n",
       "      <th>pos</th>\n",
       "      <th>compound</th>\n",
       "    </tr>\n",
       "  </thead>\n",
       "  <tbody>\n",
       "    <tr>\n",
       "      <th>0</th>\n",
       "      <td>101 Dalmations</td>\n",
       "      <td>Kanine Krunchies</td>\n",
       "      <td>Kanine Krunchies can't be beat They make each ...</td>\n",
       "      <td>http://www.disneyclips.com/lyrics/lyricsdalmat...</td>\n",
       "      <td>0</td>\n",
       "      <td>0</td>\n",
       "      <td>kanine krunchies can't be beat they make each ...</td>\n",
       "      <td>kanine krunchies can t be beat they make each ...</td>\n",
       "      <td>371</td>\n",
       "      <td>66</td>\n",
       "      <td>0.000</td>\n",
       "      <td>0.674</td>\n",
       "      <td>0.326</td>\n",
       "      <td>0.9819</td>\n",
       "    </tr>\n",
       "    <tr>\n",
       "      <th>1</th>\n",
       "      <td>101 Dalmations</td>\n",
       "      <td>Cruella De Vil</td>\n",
       "      <td>Cruella De Vil Cruella De Vil If she doesn't s...</td>\n",
       "      <td>http://www.disneyclips.com/lyrics/lyrics23.html</td>\n",
       "      <td>0</td>\n",
       "      <td>0</td>\n",
       "      <td>cruella de vil cruella de vil if she doesn't s...</td>\n",
       "      <td>cruella de vil cruella de vil if she doesn t s...</td>\n",
       "      <td>504</td>\n",
       "      <td>99</td>\n",
       "      <td>0.107</td>\n",
       "      <td>0.840</td>\n",
       "      <td>0.053</td>\n",
       "      <td>-0.7862</td>\n",
       "    </tr>\n",
       "    <tr>\n",
       "      <th>2</th>\n",
       "      <td>101 Dalmations</td>\n",
       "      <td>Dalmatian Plantation</td>\n",
       "      <td>We'll have a dalmatian plantation Where our po...</td>\n",
       "      <td>http://www.disneyclips.com/lyrics/lyrics88.html</td>\n",
       "      <td>0</td>\n",
       "      <td>0</td>\n",
       "      <td>we'll have a dalmatian plantation where our po...</td>\n",
       "      <td>we ll have a dalmatian plantation where our po...</td>\n",
       "      <td>162</td>\n",
       "      <td>25</td>\n",
       "      <td>0.000</td>\n",
       "      <td>0.851</td>\n",
       "      <td>0.149</td>\n",
       "      <td>0.6369</td>\n",
       "    </tr>\n",
       "    <tr>\n",
       "      <th>3</th>\n",
       "      <td>A Goofy Movie</td>\n",
       "      <td>Stand Out</td>\n",
       "      <td>Open up your eyes, take a look at me Get the p...</td>\n",
       "      <td>http://www.disneyclips.com/lyrics/lyricsgoofy....</td>\n",
       "      <td>0</td>\n",
       "      <td>0</td>\n",
       "      <td>open up your eyes take a look at me get the pi...</td>\n",
       "      <td>open up your eyes take a look at me get the pi...</td>\n",
       "      <td>1668</td>\n",
       "      <td>348</td>\n",
       "      <td>0.026</td>\n",
       "      <td>0.883</td>\n",
       "      <td>0.091</td>\n",
       "      <td>0.9544</td>\n",
       "    </tr>\n",
       "    <tr>\n",
       "      <th>4</th>\n",
       "      <td>A Goofy Movie</td>\n",
       "      <td>On the Open Road</td>\n",
       "      <td>[Goofy:] Do ya need a break from modern livin'...</td>\n",
       "      <td>http://www.disneyclips.com/lyrics/lyricsgoofy3...</td>\n",
       "      <td>0</td>\n",
       "      <td>0</td>\n",
       "      <td>goofy do ya need a break from modern livin' do...</td>\n",
       "      <td>goofy do ya need a break from modern livin do ...</td>\n",
       "      <td>1768</td>\n",
       "      <td>353</td>\n",
       "      <td>0.079</td>\n",
       "      <td>0.807</td>\n",
       "      <td>0.114</td>\n",
       "      <td>0.9210</td>\n",
       "    </tr>\n",
       "  </tbody>\n",
       "</table>\n",
       "</div>"
      ],
      "text/plain": [
       "      song_writer             song_name  \\\n",
       "0  101 Dalmations      Kanine Krunchies   \n",
       "1  101 Dalmations        Cruella De Vil   \n",
       "2  101 Dalmations  Dalmatian Plantation   \n",
       "3   A Goofy Movie             Stand Out   \n",
       "4   A Goofy Movie      On the Open Road   \n",
       "\n",
       "                                              lyrics  \\\n",
       "0  Kanine Krunchies can't be beat They make each ...   \n",
       "1  Cruella De Vil Cruella De Vil If she doesn't s...   \n",
       "2  We'll have a dalmatian plantation Where our po...   \n",
       "3  Open up your eyes, take a look at me Get the p...   \n",
       "4  [Goofy:] Do ya need a break from modern livin'...   \n",
       "\n",
       "                                           song_link  american_songbook  \\\n",
       "0  http://www.disneyclips.com/lyrics/lyricsdalmat...                  0   \n",
       "1    http://www.disneyclips.com/lyrics/lyrics23.html                  0   \n",
       "2    http://www.disneyclips.com/lyrics/lyrics88.html                  0   \n",
       "3  http://www.disneyclips.com/lyrics/lyricsgoofy....                  0   \n",
       "4  http://www.disneyclips.com/lyrics/lyricsgoofy3...                  0   \n",
       "\n",
       "   disney_renaissance                                       clean_lyrics  \\\n",
       "0                   0  kanine krunchies can't be beat they make each ...   \n",
       "1                   0  cruella de vil cruella de vil if she doesn't s...   \n",
       "2                   0  we'll have a dalmatian plantation where our po...   \n",
       "3                   0  open up your eyes take a look at me get the pi...   \n",
       "4                   0  goofy do ya need a break from modern livin' do...   \n",
       "\n",
       "                         clean_lyrics_with_stopwords  char_count  word_count  \\\n",
       "0  kanine krunchies can t be beat they make each ...         371          66   \n",
       "1  cruella de vil cruella de vil if she doesn t s...         504          99   \n",
       "2  we ll have a dalmatian plantation where our po...         162          25   \n",
       "3  open up your eyes take a look at me get the pi...        1668         348   \n",
       "4  goofy do ya need a break from modern livin do ...        1768         353   \n",
       "\n",
       "     neg    neu    pos  compound  \n",
       "0  0.000  0.674  0.326    0.9819  \n",
       "1  0.107  0.840  0.053   -0.7862  \n",
       "2  0.000  0.851  0.149    0.6369  \n",
       "3  0.026  0.883  0.091    0.9544  \n",
       "4  0.079  0.807  0.114    0.9210  "
      ]
     },
     "execution_count": 112,
     "metadata": {},
     "output_type": "execute_result"
    }
   ],
   "source": [
    "# From the Sentiment Analysis Local Lab Lesson\n",
    "sia = SentimentIntensityAnalyzer()\n",
    "\n",
    "for score in ['neg', 'neu', 'pos', 'compound']:\n",
    "    songs[score] = songs['clean_lyrics'].apply(lambda text: sia.polarity_scores(text)[score])\n",
    "\n",
    "songs.head()"
   ]
  },
  {
   "cell_type": "code",
   "execution_count": 113,
   "metadata": {},
   "outputs": [
    {
     "data": {
      "text/html": [
       "<div>\n",
       "<style scoped>\n",
       "    .dataframe tbody tr th:only-of-type {\n",
       "        vertical-align: middle;\n",
       "    }\n",
       "\n",
       "    .dataframe tbody tr th {\n",
       "        vertical-align: top;\n",
       "    }\n",
       "\n",
       "    .dataframe thead th {\n",
       "        text-align: right;\n",
       "    }\n",
       "</style>\n",
       "<table border=\"1\" class=\"dataframe\">\n",
       "  <thead>\n",
       "    <tr style=\"text-align: right;\">\n",
       "      <th></th>\n",
       "      <th>song_writer</th>\n",
       "      <th>song_name</th>\n",
       "      <th>lyrics</th>\n",
       "      <th>song_link</th>\n",
       "      <th>american_songbook</th>\n",
       "      <th>disney_renaissance</th>\n",
       "      <th>clean_lyrics</th>\n",
       "      <th>clean_lyrics_with_stopwords</th>\n",
       "      <th>char_count</th>\n",
       "      <th>word_count</th>\n",
       "      <th>neg</th>\n",
       "      <th>neu</th>\n",
       "      <th>pos</th>\n",
       "      <th>compound</th>\n",
       "    </tr>\n",
       "  </thead>\n",
       "  <tbody>\n",
       "    <tr>\n",
       "      <th>694</th>\n",
       "      <td>Pocahontas</td>\n",
       "      <td>Savages (Part 1) Lyrics</td>\n",
       "      <td>\\n                    [Ratcliffe]\\nWhat can yo...</td>\n",
       "      <td>https://www.lyricsfreak.com/p/pocahontas/ + /p...</td>\n",
       "      <td>0</td>\n",
       "      <td>1</td>\n",
       "      <td>ratcliffe what can you expect from filthy litt...</td>\n",
       "      <td>ratcliffe what can you expect from filthy litt...</td>\n",
       "      <td>1201</td>\n",
       "      <td>209</td>\n",
       "      <td>0.436</td>\n",
       "      <td>0.546</td>\n",
       "      <td>0.018</td>\n",
       "      <td>-0.9991</td>\n",
       "    </tr>\n",
       "    <tr>\n",
       "      <th>306</th>\n",
       "      <td>Harold Arlen</td>\n",
       "      <td>Ding-Dong! The Witch Is Dead Lyrics</td>\n",
       "      <td>\\n                    Ding dong! The witch is ...</td>\n",
       "      <td>https://www.lyricsfreak.com/h/harold+arlen/ + ...</td>\n",
       "      <td>1</td>\n",
       "      <td>0</td>\n",
       "      <td>ding dong the witch is dead which old witch th...</td>\n",
       "      <td>ding dong the witch is dead which old witch th...</td>\n",
       "      <td>373</td>\n",
       "      <td>78</td>\n",
       "      <td>0.432</td>\n",
       "      <td>0.568</td>\n",
       "      <td>0.000</td>\n",
       "      <td>-0.9931</td>\n",
       "    </tr>\n",
       "    <tr>\n",
       "      <th>562</th>\n",
       "      <td>Lion King</td>\n",
       "      <td>Not One Of Us Lyrics</td>\n",
       "      <td>\\n                    Deception\\nDisgrace\\nEvi...</td>\n",
       "      <td>https://www.lyricsfreak.com/l/lion+king/ + /l/...</td>\n",
       "      <td>0</td>\n",
       "      <td>1</td>\n",
       "      <td>deception disgrace evil as plain as the scar o...</td>\n",
       "      <td>deception disgrace evil as plain as the scar o...</td>\n",
       "      <td>853</td>\n",
       "      <td>169</td>\n",
       "      <td>0.361</td>\n",
       "      <td>0.613</td>\n",
       "      <td>0.026</td>\n",
       "      <td>-0.9958</td>\n",
       "    </tr>\n",
       "    <tr>\n",
       "      <th>56</th>\n",
       "      <td>Beauty and the Beast</td>\n",
       "      <td>How Long Must This Go On? Lyrics</td>\n",
       "      <td>\\n                    Beast\\n\\nHow long must t...</td>\n",
       "      <td>https://www.lyricsfreak.com/b/beauty+and+the+b...</td>\n",
       "      <td>0</td>\n",
       "      <td>1</td>\n",
       "      <td>beast how long must this go on this cruel tric...</td>\n",
       "      <td>beast how long must this go on this cruel tric...</td>\n",
       "      <td>260</td>\n",
       "      <td>52</td>\n",
       "      <td>0.319</td>\n",
       "      <td>0.597</td>\n",
       "      <td>0.084</td>\n",
       "      <td>-0.9382</td>\n",
       "    </tr>\n",
       "    <tr>\n",
       "      <th>438</th>\n",
       "      <td>Irving Berlin</td>\n",
       "      <td>When I Lost You Lyrics</td>\n",
       "      <td>\\n                    (musical intro)\\nI lost ...</td>\n",
       "      <td>https://www.lyricsfreak.com/i/irving+berlin/ +...</td>\n",
       "      <td>1</td>\n",
       "      <td>0</td>\n",
       "      <td>musical intro i lost the sunshine and roses i ...</td>\n",
       "      <td>musical intro i lost the sunshine and roses i ...</td>\n",
       "      <td>380</td>\n",
       "      <td>75</td>\n",
       "      <td>0.292</td>\n",
       "      <td>0.609</td>\n",
       "      <td>0.099</td>\n",
       "      <td>-0.9325</td>\n",
       "    </tr>\n",
       "  </tbody>\n",
       "</table>\n",
       "</div>"
      ],
      "text/plain": [
       "              song_writer                            song_name  \\\n",
       "694            Pocahontas              Savages (Part 1) Lyrics   \n",
       "306          Harold Arlen  Ding-Dong! The Witch Is Dead Lyrics   \n",
       "562             Lion King                 Not One Of Us Lyrics   \n",
       "56   Beauty and the Beast     How Long Must This Go On? Lyrics   \n",
       "438         Irving Berlin               When I Lost You Lyrics   \n",
       "\n",
       "                                                lyrics  \\\n",
       "694  \\n                    [Ratcliffe]\\nWhat can yo...   \n",
       "306  \\n                    Ding dong! The witch is ...   \n",
       "562  \\n                    Deception\\nDisgrace\\nEvi...   \n",
       "56   \\n                    Beast\\n\\nHow long must t...   \n",
       "438  \\n                    (musical intro)\\nI lost ...   \n",
       "\n",
       "                                             song_link  american_songbook  \\\n",
       "694  https://www.lyricsfreak.com/p/pocahontas/ + /p...                  0   \n",
       "306  https://www.lyricsfreak.com/h/harold+arlen/ + ...                  1   \n",
       "562  https://www.lyricsfreak.com/l/lion+king/ + /l/...                  0   \n",
       "56   https://www.lyricsfreak.com/b/beauty+and+the+b...                  0   \n",
       "438  https://www.lyricsfreak.com/i/irving+berlin/ +...                  1   \n",
       "\n",
       "     disney_renaissance                                       clean_lyrics  \\\n",
       "694                   1  ratcliffe what can you expect from filthy litt...   \n",
       "306                   0  ding dong the witch is dead which old witch th...   \n",
       "562                   1  deception disgrace evil as plain as the scar o...   \n",
       "56                    1  beast how long must this go on this cruel tric...   \n",
       "438                   0  musical intro i lost the sunshine and roses i ...   \n",
       "\n",
       "                           clean_lyrics_with_stopwords  char_count  \\\n",
       "694  ratcliffe what can you expect from filthy litt...        1201   \n",
       "306  ding dong the witch is dead which old witch th...         373   \n",
       "562  deception disgrace evil as plain as the scar o...         853   \n",
       "56   beast how long must this go on this cruel tric...         260   \n",
       "438  musical intro i lost the sunshine and roses i ...         380   \n",
       "\n",
       "     word_count    neg    neu    pos  compound  \n",
       "694         209  0.436  0.546  0.018   -0.9991  \n",
       "306          78  0.432  0.568  0.000   -0.9931  \n",
       "562         169  0.361  0.613  0.026   -0.9958  \n",
       "56           52  0.319  0.597  0.084   -0.9382  \n",
       "438          75  0.292  0.609  0.099   -0.9325  "
      ]
     },
     "execution_count": 113,
     "metadata": {},
     "output_type": "execute_result"
    }
   ],
   "source": [
    "songs.sort_values('neg', ascending=False).head()"
   ]
  },
  {
   "cell_type": "code",
   "execution_count": 115,
   "metadata": {},
   "outputs": [
    {
     "data": {
      "text/plain": [
       "\"\\n                    [Ratcliffe]\\nWhat can you expect\\nFrom filthy little heathens?\\nTheir whole disgusting race is like a curse.\\nTheir skin's a hellish red\\nThey're only good when dead\\nThey're vermin, as I said\\nAnd worse\\n\\n[English Settlers]\\nThey're savages! Savages!\\n\\n[Ratcliffe]\\nBarely even human\\n[English Settlers]\\nSavages! Savages!\\n\\n[Ratcliffe]\\nDrive them from our shore!\\nThey're not like you and me\\nWhich means they must be evil\\nWe must sound the drums of war!\\n\\n[English Settlers]\\nThey're savages! Savages!\\nDirty redskin devils!\\nNow we sound the drums of war!\\n\\n[Powhatan]\\nThis is what we feared\\nThe paleface is a demon\\nThe only thing they feel at all is greed\\n\\n[Kekata]\\nBeneath that milky hide\\nThere's emptiness inside\\n\\n[Native Americans]\\nI wonder if they even bleed?\\nThey're savages! Savages!\\nBarely even human\\nSavages! Savages!\\n\\n[Powhatan]\\nKillers at the core\\n\\n[Kekata]\\nThey're different from us\\nWhich means they can't be trusted\\n\\n[Powhatan]\\nWe must sound the drums of war\\n\\n[Native Americans]\\nThey're savages! Savages!\\nFirst we deal with this one\\n\\n[All]\\nThen we sound the drums of war\\n\\n[English Settlers]\\nSavages! Savages!\\n\\n[Ben]\\nLet's go kill a few, men!\\n\\n[Native Americans]\\nSavages! Savages!\\n\\n[Ratcliffe]\\nNow it's up to you, men!\\n\\n[All]\\nSavages! Savages!\\nBarely even human!\\nNow we sound the drums of war!                \""
      ]
     },
     "execution_count": 115,
     "metadata": {},
     "output_type": "execute_result"
    }
   ],
   "source": [
    "songs.iloc[694]['lyrics']"
   ]
  },
  {
   "cell_type": "code",
   "execution_count": 116,
   "metadata": {
    "scrolled": false
   },
   "outputs": [
    {
     "data": {
      "text/html": [
       "<div>\n",
       "<style scoped>\n",
       "    .dataframe tbody tr th:only-of-type {\n",
       "        vertical-align: middle;\n",
       "    }\n",
       "\n",
       "    .dataframe tbody tr th {\n",
       "        vertical-align: top;\n",
       "    }\n",
       "\n",
       "    .dataframe thead th {\n",
       "        text-align: right;\n",
       "    }\n",
       "</style>\n",
       "<table border=\"1\" class=\"dataframe\">\n",
       "  <thead>\n",
       "    <tr style=\"text-align: right;\">\n",
       "      <th></th>\n",
       "      <th>song_writer</th>\n",
       "      <th>song_name</th>\n",
       "      <th>lyrics</th>\n",
       "      <th>song_link</th>\n",
       "      <th>american_songbook</th>\n",
       "      <th>disney_renaissance</th>\n",
       "      <th>clean_lyrics</th>\n",
       "      <th>clean_lyrics_with_stopwords</th>\n",
       "      <th>char_count</th>\n",
       "      <th>word_count</th>\n",
       "      <th>neg</th>\n",
       "      <th>neu</th>\n",
       "      <th>pos</th>\n",
       "      <th>compound</th>\n",
       "    </tr>\n",
       "  </thead>\n",
       "  <tbody>\n",
       "    <tr>\n",
       "      <th>730</th>\n",
       "      <td>Snow White</td>\n",
       "      <td>I'm Wishing</td>\n",
       "      <td>[Snow White]: Make a wish into the well That's...</td>\n",
       "      <td>http://www.disneyclips.com/lyrics/lyrics72.html</td>\n",
       "      <td>0</td>\n",
       "      <td>0</td>\n",
       "      <td>snow white make a wish into the well that's al...</td>\n",
       "      <td>snow white make a wish into the well that s al...</td>\n",
       "      <td>491</td>\n",
       "      <td>118</td>\n",
       "      <td>0.000</td>\n",
       "      <td>0.331</td>\n",
       "      <td>0.669</td>\n",
       "      <td>0.9988</td>\n",
       "    </tr>\n",
       "    <tr>\n",
       "      <th>115</th>\n",
       "      <td>Cole Porter</td>\n",
       "      <td>Paris Loves Lovers Lyrics</td>\n",
       "      <td>\\n                    Gaze on the glistening l...</td>\n",
       "      <td>https://www.lyricsfreak.com/c/cole+porter//c/c...</td>\n",
       "      <td>1</td>\n",
       "      <td>0</td>\n",
       "      <td>gaze on the glistening lights below and above ...</td>\n",
       "      <td>gaze on the glistening lights below and above ...</td>\n",
       "      <td>946</td>\n",
       "      <td>161</td>\n",
       "      <td>0.056</td>\n",
       "      <td>0.440</td>\n",
       "      <td>0.504</td>\n",
       "      <td>0.9993</td>\n",
       "    </tr>\n",
       "    <tr>\n",
       "      <th>271</th>\n",
       "      <td>George Gershwin</td>\n",
       "      <td>'s Wonderful Lyrics</td>\n",
       "      <td>\\n                    Life has just begun,\\nJa...</td>\n",
       "      <td>https://www.lyricsfreak.com/g/george+gershwin/...</td>\n",
       "      <td>1</td>\n",
       "      <td>0</td>\n",
       "      <td>life has just begun jack has found his jill do...</td>\n",
       "      <td>life has just begun jack has found his jill do...</td>\n",
       "      <td>474</td>\n",
       "      <td>93</td>\n",
       "      <td>0.044</td>\n",
       "      <td>0.480</td>\n",
       "      <td>0.477</td>\n",
       "      <td>0.9974</td>\n",
       "    </tr>\n",
       "    <tr>\n",
       "      <th>666</th>\n",
       "      <td>Oscar Hammerstein</td>\n",
       "      <td>Finale-Oh What A Beautiful Mornin' Lyrics</td>\n",
       "      <td>\\n                    Oh what a beautiful morn...</td>\n",
       "      <td>https://www.lyricsfreak.com/o/oscar+hammerstei...</td>\n",
       "      <td>1</td>\n",
       "      <td>0</td>\n",
       "      <td>oh what a beautiful mornin' oh what a beautifu...</td>\n",
       "      <td>oh what a beautiful mornin oh what a beautiful...</td>\n",
       "      <td>130</td>\n",
       "      <td>24</td>\n",
       "      <td>0.000</td>\n",
       "      <td>0.526</td>\n",
       "      <td>0.474</td>\n",
       "      <td>0.9524</td>\n",
       "    </tr>\n",
       "    <tr>\n",
       "      <th>668</th>\n",
       "      <td>Oscar Hammerstein</td>\n",
       "      <td>Happy Land Lyrics</td>\n",
       "      <td>\\n                    \"There is a happy land, ...</td>\n",
       "      <td>https://www.lyricsfreak.com/o/oscar+hammerstei...</td>\n",
       "      <td>1</td>\n",
       "      <td>0</td>\n",
       "      <td>there is a happy land far far away where saint...</td>\n",
       "      <td>there is a happy land far far away where saint...</td>\n",
       "      <td>155</td>\n",
       "      <td>27</td>\n",
       "      <td>0.000</td>\n",
       "      <td>0.551</td>\n",
       "      <td>0.449</td>\n",
       "      <td>0.9442</td>\n",
       "    </tr>\n",
       "  </tbody>\n",
       "</table>\n",
       "</div>"
      ],
      "text/plain": [
       "           song_writer                                  song_name  \\\n",
       "730         Snow White                                I'm Wishing   \n",
       "115        Cole Porter                  Paris Loves Lovers Lyrics   \n",
       "271    George Gershwin                        's Wonderful Lyrics   \n",
       "666  Oscar Hammerstein  Finale-Oh What A Beautiful Mornin' Lyrics   \n",
       "668  Oscar Hammerstein                          Happy Land Lyrics   \n",
       "\n",
       "                                                lyrics  \\\n",
       "730  [Snow White]: Make a wish into the well That's...   \n",
       "115  \\n                    Gaze on the glistening l...   \n",
       "271  \\n                    Life has just begun,\\nJa...   \n",
       "666  \\n                    Oh what a beautiful morn...   \n",
       "668  \\n                    \"There is a happy land, ...   \n",
       "\n",
       "                                             song_link  american_songbook  \\\n",
       "730    http://www.disneyclips.com/lyrics/lyrics72.html                  0   \n",
       "115  https://www.lyricsfreak.com/c/cole+porter//c/c...                  1   \n",
       "271  https://www.lyricsfreak.com/g/george+gershwin/...                  1   \n",
       "666  https://www.lyricsfreak.com/o/oscar+hammerstei...                  1   \n",
       "668  https://www.lyricsfreak.com/o/oscar+hammerstei...                  1   \n",
       "\n",
       "     disney_renaissance                                       clean_lyrics  \\\n",
       "730                   0  snow white make a wish into the well that's al...   \n",
       "115                   0  gaze on the glistening lights below and above ...   \n",
       "271                   0  life has just begun jack has found his jill do...   \n",
       "666                   0  oh what a beautiful mornin' oh what a beautifu...   \n",
       "668                   0  there is a happy land far far away where saint...   \n",
       "\n",
       "                           clean_lyrics_with_stopwords  char_count  \\\n",
       "730  snow white make a wish into the well that s al...         491   \n",
       "115  gaze on the glistening lights below and above ...         946   \n",
       "271  life has just begun jack has found his jill do...         474   \n",
       "666  oh what a beautiful mornin oh what a beautiful...         130   \n",
       "668  there is a happy land far far away where saint...         155   \n",
       "\n",
       "     word_count    neg    neu    pos  compound  \n",
       "730         118  0.000  0.331  0.669    0.9988  \n",
       "115         161  0.056  0.440  0.504    0.9993  \n",
       "271          93  0.044  0.480  0.477    0.9974  \n",
       "666          24  0.000  0.526  0.474    0.9524  \n",
       "668          27  0.000  0.551  0.449    0.9442  "
      ]
     },
     "execution_count": 116,
     "metadata": {},
     "output_type": "execute_result"
    }
   ],
   "source": [
    "songs.sort_values('pos', ascending=False).head()"
   ]
  },
  {
   "cell_type": "code",
   "execution_count": 117,
   "metadata": {},
   "outputs": [
    {
     "data": {
      "text/plain": [
       "\"[Snow White]: Make a wish into the well That's all you have to do And if you hear it echoing Your wish will soon come true I'm wishing (I'm wishing) For the one I love To find me (To find me) Today (Today) I'm hoping (I'm hoping) And I'm dreaming of The nice things (The nice things) He'll say (He'll say) Ha ha ha ha ha (Ha ha ha ha ha) Ha ha ha ha ha (Ha ha ha ha ha) Ha ha ha ha ha (Ha ha ha ha ha) Ha ha ha ha ha ha ha ha ha I'm wishing (I'm wishing) For the one I love To find me (To find me) Today [Prince]: Today!\""
      ]
     },
     "execution_count": 117,
     "metadata": {},
     "output_type": "execute_result"
    }
   ],
   "source": [
    "songs.iloc[730]['lyrics']"
   ]
  },
  {
   "cell_type": "code",
   "execution_count": 118,
   "metadata": {},
   "outputs": [
    {
     "data": {
      "text/html": [
       "<div>\n",
       "<style scoped>\n",
       "    .dataframe tbody tr th:only-of-type {\n",
       "        vertical-align: middle;\n",
       "    }\n",
       "\n",
       "    .dataframe tbody tr th {\n",
       "        vertical-align: top;\n",
       "    }\n",
       "\n",
       "    .dataframe thead th {\n",
       "        text-align: right;\n",
       "    }\n",
       "</style>\n",
       "<table border=\"1\" class=\"dataframe\">\n",
       "  <thead>\n",
       "    <tr style=\"text-align: right;\">\n",
       "      <th></th>\n",
       "      <th>song_writer</th>\n",
       "      <th>song_name</th>\n",
       "      <th>lyrics</th>\n",
       "      <th>song_link</th>\n",
       "      <th>american_songbook</th>\n",
       "      <th>disney_renaissance</th>\n",
       "      <th>clean_lyrics</th>\n",
       "      <th>clean_lyrics_with_stopwords</th>\n",
       "      <th>char_count</th>\n",
       "      <th>word_count</th>\n",
       "      <th>neg</th>\n",
       "      <th>neu</th>\n",
       "      <th>pos</th>\n",
       "      <th>compound</th>\n",
       "    </tr>\n",
       "  </thead>\n",
       "  <tbody>\n",
       "    <tr>\n",
       "      <th>156</th>\n",
       "      <td>Enchanted</td>\n",
       "      <td>That's How You Know</td>\n",
       "      <td>[Giselle:] How does she know you love her? How...</td>\n",
       "      <td>http://www.disneyclips.com/lyrics/lyricsenchan...</td>\n",
       "      <td>0</td>\n",
       "      <td>0</td>\n",
       "      <td>giselle how does she know you love her how doe...</td>\n",
       "      <td>giselle how does she know you love her how doe...</td>\n",
       "      <td>2052</td>\n",
       "      <td>435</td>\n",
       "      <td>0.010</td>\n",
       "      <td>0.728</td>\n",
       "      <td>0.262</td>\n",
       "      <td>0.9993</td>\n",
       "    </tr>\n",
       "    <tr>\n",
       "      <th>115</th>\n",
       "      <td>Cole Porter</td>\n",
       "      <td>Paris Loves Lovers Lyrics</td>\n",
       "      <td>\\n                    Gaze on the glistening l...</td>\n",
       "      <td>https://www.lyricsfreak.com/c/cole+porter//c/c...</td>\n",
       "      <td>1</td>\n",
       "      <td>0</td>\n",
       "      <td>gaze on the glistening lights below and above ...</td>\n",
       "      <td>gaze on the glistening lights below and above ...</td>\n",
       "      <td>946</td>\n",
       "      <td>161</td>\n",
       "      <td>0.056</td>\n",
       "      <td>0.440</td>\n",
       "      <td>0.504</td>\n",
       "      <td>0.9993</td>\n",
       "    </tr>\n",
       "    <tr>\n",
       "      <th>61</th>\n",
       "      <td>Beauty and the Beast</td>\n",
       "      <td>Belle Lyrics</td>\n",
       "      <td>\\n                    BELLE\\n\\nLittle town It'...</td>\n",
       "      <td>https://www.lyricsfreak.com/b/beauty+and+the+b...</td>\n",
       "      <td>0</td>\n",
       "      <td>1</td>\n",
       "      <td>belle little town it's a quiet village ev'ry d...</td>\n",
       "      <td>belle little town it s a quiet village ev ry d...</td>\n",
       "      <td>3738</td>\n",
       "      <td>703</td>\n",
       "      <td>0.061</td>\n",
       "      <td>0.726</td>\n",
       "      <td>0.213</td>\n",
       "      <td>0.9992</td>\n",
       "    </tr>\n",
       "    <tr>\n",
       "      <th>641</th>\n",
       "      <td>Oliver and Company</td>\n",
       "      <td>Streets of Gold</td>\n",
       "      <td>Now listen up, you've got a lot to learn And i...</td>\n",
       "      <td>http://www.disneyclips.com/lyrics/lyrics116.html</td>\n",
       "      <td>0</td>\n",
       "      <td>0</td>\n",
       "      <td>now listen up you've got a lot to learn and if...</td>\n",
       "      <td>now listen up you ve got a lot to learn and if...</td>\n",
       "      <td>1629</td>\n",
       "      <td>329</td>\n",
       "      <td>0.009</td>\n",
       "      <td>0.700</td>\n",
       "      <td>0.291</td>\n",
       "      <td>0.9991</td>\n",
       "    </tr>\n",
       "    <tr>\n",
       "      <th>328</th>\n",
       "      <td>High School Musical</td>\n",
       "      <td>Stick to the Status Quo</td>\n",
       "      <td>You can bet there's nothing but net When I am ...</td>\n",
       "      <td>http://www.disneyclips.com/lyrics/stick-to-the...</td>\n",
       "      <td>0</td>\n",
       "      <td>0</td>\n",
       "      <td>you can bet there's nothing but net when i am ...</td>\n",
       "      <td>you can bet there s nothing but net when i am ...</td>\n",
       "      <td>1967</td>\n",
       "      <td>422</td>\n",
       "      <td>0.030</td>\n",
       "      <td>0.674</td>\n",
       "      <td>0.296</td>\n",
       "      <td>0.9990</td>\n",
       "    </tr>\n",
       "  </tbody>\n",
       "</table>\n",
       "</div>"
      ],
      "text/plain": [
       "              song_writer                  song_name  \\\n",
       "156             Enchanted        That's How You Know   \n",
       "115           Cole Porter  Paris Loves Lovers Lyrics   \n",
       "61   Beauty and the Beast               Belle Lyrics   \n",
       "641    Oliver and Company            Streets of Gold   \n",
       "328   High School Musical    Stick to the Status Quo   \n",
       "\n",
       "                                                lyrics  \\\n",
       "156  [Giselle:] How does she know you love her? How...   \n",
       "115  \\n                    Gaze on the glistening l...   \n",
       "61   \\n                    BELLE\\n\\nLittle town It'...   \n",
       "641  Now listen up, you've got a lot to learn And i...   \n",
       "328  You can bet there's nothing but net When I am ...   \n",
       "\n",
       "                                             song_link  american_songbook  \\\n",
       "156  http://www.disneyclips.com/lyrics/lyricsenchan...                  0   \n",
       "115  https://www.lyricsfreak.com/c/cole+porter//c/c...                  1   \n",
       "61   https://www.lyricsfreak.com/b/beauty+and+the+b...                  0   \n",
       "641   http://www.disneyclips.com/lyrics/lyrics116.html                  0   \n",
       "328  http://www.disneyclips.com/lyrics/stick-to-the...                  0   \n",
       "\n",
       "     disney_renaissance                                       clean_lyrics  \\\n",
       "156                   0  giselle how does she know you love her how doe...   \n",
       "115                   0  gaze on the glistening lights below and above ...   \n",
       "61                    1  belle little town it's a quiet village ev'ry d...   \n",
       "641                   0  now listen up you've got a lot to learn and if...   \n",
       "328                   0  you can bet there's nothing but net when i am ...   \n",
       "\n",
       "                           clean_lyrics_with_stopwords  char_count  \\\n",
       "156  giselle how does she know you love her how doe...        2052   \n",
       "115  gaze on the glistening lights below and above ...         946   \n",
       "61   belle little town it s a quiet village ev ry d...        3738   \n",
       "641  now listen up you ve got a lot to learn and if...        1629   \n",
       "328  you can bet there s nothing but net when i am ...        1967   \n",
       "\n",
       "     word_count    neg    neu    pos  compound  \n",
       "156         435  0.010  0.728  0.262    0.9993  \n",
       "115         161  0.056  0.440  0.504    0.9993  \n",
       "61          703  0.061  0.726  0.213    0.9992  \n",
       "641         329  0.009  0.700  0.291    0.9991  \n",
       "328         422  0.030  0.674  0.296    0.9990  "
      ]
     },
     "execution_count": 118,
     "metadata": {},
     "output_type": "execute_result"
    }
   ],
   "source": [
    "songs.sort_values('compound', ascending=False).head()"
   ]
  },
  {
   "cell_type": "code",
   "execution_count": 119,
   "metadata": {},
   "outputs": [
    {
     "data": {
      "text/plain": [
       "'[Giselle:] How does she know you love her? How does she know she\\'s yours? [Man:] How does she know that you love her? [Giselle:] How do you show her you love her? [Both:] How does she know that you really, really, truly love her? How does she know that you love her? How do you show her you love her? How does she know that you really, really, truly love her? [Giselle:] It\\'s not enough to take the one you love for granted You must remind her, or she\\'ll be inclined to say \"How do I know he loves me?\" (How does she know that you love her?) How do you show her you love her?) \"How do I know he\\'s mine?\" (How does she know that you really, really, truly love her?) Well, does he leave a little note to tell you you are on his mind? Send you yellow flowers when the sky is grey? Hey! He\\'ll find a new way to show you, a little bit every day That\\'s how you know That\\'s how you know He\\'s your love [Man:] You\\'ve got to show her you need her Don\\'t treat her like a mind reader Each day do something to need her To believe you love her [Giselle:] Everybody wants to live happily ever after Everybody wants to know their true love is true How do you know he loves you? (How does she know that you love her?) (How do you show her you need her?) How do you know he\\'s yours? (How does she know that you really, really, truly love her?) Well, does he take you out dancing just so he can hold you close? Dedicate a song with words meant Just for you? Oooh! [All:] He\\'ll find his own way to tell you With the little things he\\'ll do That\\'s how you know That\\'s how you know [Giselle:] He\\'s your love He\\'s your love That\\'s how you know (la la la la la la la la) He loves you (la la la la la la la la) That\\'s how you know (la la la la la la la la) It\\'s true (la la la la la) Because he\\'ll wear your favorite color Just so he can match your eyes Plan a private picnic By the fire\\'s glow oohh! [All:] His heart will be yours forever Something everyday will show That\\'s how you know (Repeat 12 times) [Giselle:] He\\'s your love [Man:] That\\'s how she knows that you love her That\\'s how you show her you love her [Giselle:] That\\'s how you know That\\'s how you know He\\'s your love'"
      ]
     },
     "execution_count": 119,
     "metadata": {},
     "output_type": "execute_result"
    }
   ],
   "source": [
    "songs.iloc[156]['lyrics']"
   ]
  },
  {
   "cell_type": "code",
   "execution_count": 120,
   "metadata": {},
   "outputs": [
    {
     "data": {
      "image/png": "[encoded data removed]",
      "text/plain": [
       "<Figure size 1440x720 with 1 Axes>"
      ]
     },
     "metadata": {
      "needs_background": "light"
     },
     "output_type": "display_data"
    }
   ],
   "source": [
    "plt.figure(figsize=(20, 10))\n",
    "plt.hist([songs[songs['american_songbook'] == 0]['word_count'],\n",
    "          songs[songs['american_songbook'] == 1]['word_count']],\n",
    "          bins=20, color=['blue', 'goldenrod'], ec='k')\n",
    "plt.title('Lyric Word Count', fontsize=25)\n",
    "plt.legend(['Disney', 'American Songbook'])\n",
    "plt.xlabel('Number of Words in Lyrics');"
   ]
  },
  {
   "cell_type": "markdown",
   "metadata": {},
   "source": [
    "#### Plotting Sentiment Analysis"
   ]
  },
  {
   "cell_type": "code",
   "execution_count": 121,
   "metadata": {},
   "outputs": [
    {
     "data": {
      "image/png": "[encoded data removed]",
      "text/plain": [
       "<Figure size 432x288 with 1 Axes>"
      ]
     },
     "metadata": {
      "needs_background": "light"
     },
     "output_type": "display_data"
    }
   ],
   "source": [
    "songs.groupby('american_songbook')[['pos', 'neg', 'neu', 'compound']].mean().plot(kind='bar')\n",
    "plt.title('Average Positive/Negative/Compound Scores American Songbook Vs. Disney');"
   ]
  },
  {
   "cell_type": "code",
   "execution_count": 122,
   "metadata": {},
   "outputs": [],
   "source": [
    "# This function is taken from the local lab sentiment analysis\n",
    "def plot_dist(df = songs, american_songbook = [0, 1], col = 'neg'):\n",
    "    for lyrics in american_songbook:\n",
    "        sns.distplot(df.loc[df['american_songbook'] == lyrics][col], hist=False, label=lyrics)\n",
    "    plt.legend()\n",
    "    plt.title(f'Distribution for {col} Lyrics')\n",
    "    return plt.show();"
   ]
  },
  {
   "cell_type": "code",
   "execution_count": 123,
   "metadata": {},
   "outputs": [
    {
     "data": {
      "image/png": "[encoded data removed]",
      "text/plain": [
       "<Figure size 432x288 with 1 Axes>"
      ]
     },
     "metadata": {
      "needs_background": "light"
     },
     "output_type": "display_data"
    }
   ],
   "source": [
    "plot_dist()"
   ]
  },
  {
   "cell_type": "code",
   "execution_count": 124,
   "metadata": {},
   "outputs": [
    {
     "data": {
      "image/png": "[encoded data removed]",
      "text/plain": [
       "<Figure size 432x288 with 1 Axes>"
      ]
     },
     "metadata": {
      "needs_background": "light"
     },
     "output_type": "display_data"
    }
   ],
   "source": [
    "plot_dist(col='pos');"
   ]
  },
  {
   "cell_type": "code",
   "execution_count": 125,
   "metadata": {},
   "outputs": [
    {
     "data": {
      "image/png": "[encoded data removed]",
      "text/plain": [
       "<Figure size 432x288 with 1 Axes>"
      ]
     },
     "metadata": {
      "needs_background": "light"
     },
     "output_type": "display_data"
    }
   ],
   "source": [
    "plot_dist(col='neu');"
   ]
  },
  {
   "cell_type": "code",
   "execution_count": 126,
   "metadata": {},
   "outputs": [
    {
     "data": {
      "image/png": "[encoded data removed]",
      "text/plain": [
       "<Figure size 432x288 with 1 Axes>"
      ]
     },
     "metadata": {
      "needs_background": "light"
     },
     "output_type": "display_data"
    }
   ],
   "source": [
    "plot_dist(col='compound');"
   ]
  },
  {
   "cell_type": "code",
   "execution_count": 127,
   "metadata": {},
   "outputs": [],
   "source": [
    "songs.to_csv('datasets/cleaned_lyrics_with_sentiment_analysis')"
   ]
  },
  {
   "cell_type": "markdown",
   "metadata": {},
   "source": [
    "# Basic Model"
   ]
  },
  {
   "cell_type": "code",
   "execution_count": 67,
   "metadata": {},
   "outputs": [],
   "source": [
    "X = songs['clean_lyrics']\n",
    "y = songs['american_songbook']\n",
    "\n",
    "X_train, X_test, y_train, y_test = train_test_split(X,\n",
    "                                                    y,\n",
    "                                                    test_size=0.25,\n",
    "                                                    stratify=y,\n",
    "                                                    random_state=42)"
   ]
  },
  {
   "cell_type": "code",
   "execution_count": 68,
   "metadata": {},
   "outputs": [
    {
     "data": {
      "text/plain": [
       "1    0.544118\n",
       "0    0.455882\n",
       "Name: american_songbook, dtype: float64"
      ]
     },
     "execution_count": 68,
     "metadata": {},
     "output_type": "execute_result"
    }
   ],
   "source": [
    "# Checking my baseline\n",
    "y_test.value_counts(normalize=True)"
   ]
  },
  {
   "cell_type": "code",
   "execution_count": 69,
   "metadata": {},
   "outputs": [],
   "source": [
    "pipe = Pipeline([\n",
    "    ('cvec', CountVectorizer()),\n",
    "    ('lr', LogisticRegression(max_iter=5000))\n",
    "])\n",
    "\n",
    "pipe_params = {\n",
    "    'cvec__max_features': [2000, 3000, 4000, 5000],\n",
    "    'cvec__min_df': [1, 2, 3 , 4],\n",
    "    'cvec__max_df': [.9, .95],\n",
    "    'cvec__ngram_range': [(1,1), (1,2), (1,3)]\n",
    "}\n",
    "\n",
    "gs = GridSearchCV(pipe,\n",
    "                  pipe_params,\n",
    "                  cv=5)"
   ]
  },
  {
   "cell_type": "code",
   "execution_count": 70,
   "metadata": {},
   "outputs": [
    {
     "data": {
      "text/plain": [
       "GridSearchCV(cv=5, error_score=nan,\n",
       "             estimator=Pipeline(memory=None,\n",
       "                                steps=[('cvec',\n",
       "                                        CountVectorizer(analyzer='word',\n",
       "                                                        binary=False,\n",
       "                                                        decode_error='strict',\n",
       "                                                        dtype=<class 'numpy.int64'>,\n",
       "                                                        encoding='utf-8',\n",
       "                                                        input='content',\n",
       "                                                        lowercase=True,\n",
       "                                                        max_df=1.0,\n",
       "                                                        max_features=None,\n",
       "                                                        min_df=1,\n",
       "                                                        ngram_range=(1, 1),\n",
       "                                                        preprocessor=None,\n",
       "                                                        stop_words=None,\n",
       "                                                        strip_accents=None,\n",
       "                                                        token_pattern='(?u)...\n",
       "                                                           penalty='l2',\n",
       "                                                           random_state=None,\n",
       "                                                           solver='lbfgs',\n",
       "                                                           tol=0.0001,\n",
       "                                                           verbose=0,\n",
       "                                                           warm_start=False))],\n",
       "                                verbose=False),\n",
       "             iid='deprecated', n_jobs=None,\n",
       "             param_grid={'cvec__max_df': [0.9, 0.95],\n",
       "                         'cvec__max_features': [2000, 3000, 4000, 5000],\n",
       "                         'cvec__min_df': [1, 2, 3, 4],\n",
       "                         'cvec__ngram_range': [(1, 1), (1, 2), (1, 3)]},\n",
       "             pre_dispatch='2*n_jobs', refit=True, return_train_score=False,\n",
       "             scoring=None, verbose=0)"
      ]
     },
     "execution_count": 70,
     "metadata": {},
     "output_type": "execute_result"
    }
   ],
   "source": [
    "gs.fit(X_train, y_train)"
   ]
  },
  {
   "cell_type": "code",
   "execution_count": 71,
   "metadata": {},
   "outputs": [
    {
     "data": {
      "text/plain": [
       "0.7745168599226976"
      ]
     },
     "execution_count": 71,
     "metadata": {},
     "output_type": "execute_result"
    }
   ],
   "source": [
    "gs.best_score_"
   ]
  },
  {
   "cell_type": "code",
   "execution_count": 72,
   "metadata": {},
   "outputs": [
    {
     "data": {
      "text/plain": [
       "0.7745098039215687"
      ]
     },
     "execution_count": 72,
     "metadata": {},
     "output_type": "execute_result"
    }
   ],
   "source": [
    "gs.score(X_test, y_test)"
   ]
  },
  {
   "cell_type": "code",
   "execution_count": 73,
   "metadata": {
    "scrolled": false
   },
   "outputs": [
    {
     "data": {
      "text/plain": [
       "{'cvec__max_df': 0.95,\n",
       " 'cvec__max_features': 2000,\n",
       " 'cvec__min_df': 2,\n",
       " 'cvec__ngram_range': (1, 1)}"
      ]
     },
     "execution_count": 73,
     "metadata": {},
     "output_type": "execute_result"
    }
   ],
   "source": [
    "gs.best_params_"
   ]
  },
  {
   "cell_type": "markdown",
   "metadata": {},
   "source": [
    "# Trying it on the stopword column"
   ]
  },
  {
   "cell_type": "code",
   "execution_count": 74,
   "metadata": {},
   "outputs": [],
   "source": [
    "X = songs['clean_lyrics_with_stopwords_stopwords']\n",
    "y = songs['american_songbook']\n",
    "\n",
    "X_train, X_test, y_train, y_test = train_test_split(X,\n",
    "                                                    y,\n",
    "                                                    test_size=0.25,\n",
    "                                                    stratify=y,\n",
    "                                                    random_state=42)"
   ]
  },
  {
   "cell_type": "code",
   "execution_count": 75,
   "metadata": {},
   "outputs": [
    {
     "data": {
      "text/plain": [
       "1    0.544118\n",
       "0    0.455882\n",
       "Name: american_songbook, dtype: float64"
      ]
     },
     "execution_count": 75,
     "metadata": {},
     "output_type": "execute_result"
    }
   ],
   "source": [
    "# Checking my baseline\n",
    "y_test.value_counts(normalize=True)"
   ]
  },
  {
   "cell_type": "code",
   "execution_count": 76,
   "metadata": {},
   "outputs": [],
   "source": [
    "pipe = Pipeline([\n",
    "    ('cvec', CountVectorizer()),\n",
    "    ('lr', LogisticRegression(max_iter=5000))\n",
    "])\n",
    "\n",
    "pipe_params = {\n",
    "    'cvec__max_features': [2000, 3000, 4000, 5000],\n",
    "    'cvec__min_df': [1, 2, 3 , 4],\n",
    "    'cvec__max_df': [.9, .95],\n",
    "    'cvec__ngram_range': [(1,1), (1,2), (1,3)]\n",
    "}\n",
    "\n",
    "gs = GridSearchCV(pipe,\n",
    "                  pipe_params,\n",
    "                  cv=5)"
   ]
  },
  {
   "cell_type": "code",
   "execution_count": 77,
   "metadata": {},
   "outputs": [
    {
     "data": {
      "text/plain": [
       "GridSearchCV(cv=5, error_score=nan,\n",
       "             estimator=Pipeline(memory=None,\n",
       "                                steps=[('cvec',\n",
       "                                        CountVectorizer(analyzer='word',\n",
       "                                                        binary=False,\n",
       "                                                        decode_error='strict',\n",
       "                                                        dtype=<class 'numpy.int64'>,\n",
       "                                                        encoding='utf-8',\n",
       "                                                        input='content',\n",
       "                                                        lowercase=True,\n",
       "                                                        max_df=1.0,\n",
       "                                                        max_features=None,\n",
       "                                                        min_df=1,\n",
       "                                                        ngram_range=(1, 1),\n",
       "                                                        preprocessor=None,\n",
       "                                                        stop_words=None,\n",
       "                                                        strip_accents=None,\n",
       "                                                        token_pattern='(?u)...\n",
       "                                                           penalty='l2',\n",
       "                                                           random_state=None,\n",
       "                                                           solver='lbfgs',\n",
       "                                                           tol=0.0001,\n",
       "                                                           verbose=0,\n",
       "                                                           warm_start=False))],\n",
       "                                verbose=False),\n",
       "             iid='deprecated', n_jobs=None,\n",
       "             param_grid={'cvec__max_df': [0.9, 0.95],\n",
       "                         'cvec__max_features': [2000, 3000, 4000, 5000],\n",
       "                         'cvec__min_df': [1, 2, 3, 4],\n",
       "                         'cvec__ngram_range': [(1, 1), (1, 2), (1, 3)]},\n",
       "             pre_dispatch='2*n_jobs', refit=True, return_train_score=False,\n",
       "             scoring=None, verbose=0)"
      ]
     },
     "execution_count": 77,
     "metadata": {},
     "output_type": "execute_result"
    }
   ],
   "source": [
    "gs.fit(X_train, y_train)"
   ]
  },
  {
   "cell_type": "code",
   "execution_count": 78,
   "metadata": {},
   "outputs": [
    {
     "data": {
      "text/plain": [
       "0.7745168599226976"
      ]
     },
     "execution_count": 78,
     "metadata": {},
     "output_type": "execute_result"
    }
   ],
   "source": [
    "gs.best_score_"
   ]
  },
  {
   "cell_type": "code",
   "execution_count": 79,
   "metadata": {},
   "outputs": [
    {
     "data": {
      "text/plain": [
       "0.7745098039215687"
      ]
     },
     "execution_count": 79,
     "metadata": {},
     "output_type": "execute_result"
    }
   ],
   "source": [
    "gs.score(X_test, y_test)"
   ]
  },
  {
   "cell_type": "code",
   "execution_count": 80,
   "metadata": {},
   "outputs": [
    {
     "data": {
      "text/plain": [
       "{'cvec__max_df': 0.95,\n",
       " 'cvec__max_features': 2000,\n",
       " 'cvec__min_df': 2,\n",
       " 'cvec__ngram_range': (1, 1)}"
      ]
     },
     "execution_count": 80,
     "metadata": {},
     "output_type": "execute_result"
    }
   ],
   "source": [
    "gs.best_params_"
   ]
  },
  {
   "cell_type": "code",
   "execution_count": null,
   "metadata": {},
   "outputs": [],
   "source": []
  }
 ],
 "metadata": {
  "kernelspec": {
   "display_name": "Python 3",
   "language": "python",
   "name": "python3"
  },
  "language_info": {
   "codemirror_mode": {
    "name": "ipython",
    "version": 3
   },
   "file_extension": ".py",
   "mimetype": "text/x-python",
   "name": "python",
   "nbconvert_exporter": "python",
   "pygments_lexer": "ipython3",
   "version": "3.7.6"
  }
 },
 "nbformat": 4,
 "nbformat_minor": 4
}
