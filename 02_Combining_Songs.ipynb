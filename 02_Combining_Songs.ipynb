{
 "cells": [
  {
   "cell_type": "markdown",
   "metadata": {},
   "source": [
    "In this notebook I combine all the songs that I scraped from the two lyric websites into one CSV for easier access."
   ]
  },
  {
   "cell_type": "code",
   "execution_count": 1,
   "metadata": {},
   "outputs": [],
   "source": [
    "import pandas as pd\n",
    "import numpy as np\n",
    "from bs4 import BeautifulSoup\n",
    "import regex as re\n",
    "from nltk.corpus import stopwords"
   ]
  },
  {
   "cell_type": "markdown",
   "metadata": {},
   "source": [
    "## First combining \"The Great American Songbook\" lyrics"
   ]
  },
  {
   "cell_type": "code",
   "execution_count": 2,
   "metadata": {},
   "outputs": [],
   "source": [
    "songs = pd.read_csv('datasets/arlen_carmichael_hammerstein_porter.csv')\n",
    "\n",
    "more_songs = pd.read_csv('datasets/berlin_gershwin_kern_mercer_rodgers_waller.csv')\n",
    "\n",
    "american_songbook = pd.concat([songs, more_songs], axis=0)"
   ]
  },
  {
   "cell_type": "code",
   "execution_count": 3,
   "metadata": {},
   "outputs": [
    {
     "data": {
      "text/html": [
       "<div>\n",
       "<style scoped>\n",
       "    .dataframe tbody tr th:only-of-type {\n",
       "        vertical-align: middle;\n",
       "    }\n",
       "\n",
       "    .dataframe tbody tr th {\n",
       "        vertical-align: top;\n",
       "    }\n",
       "\n",
       "    .dataframe thead th {\n",
       "        text-align: right;\n",
       "    }\n",
       "</style>\n",
       "<table border=\"1\" class=\"dataframe\">\n",
       "  <thead>\n",
       "    <tr style=\"text-align: right;\">\n",
       "      <th></th>\n",
       "      <th>song_writer</th>\n",
       "      <th>song_name</th>\n",
       "      <th>lyrics</th>\n",
       "      <th>song_link</th>\n",
       "    </tr>\n",
       "  </thead>\n",
       "  <tbody>\n",
       "    <tr>\n",
       "      <th>0</th>\n",
       "      <td>Harold Arlen</td>\n",
       "      <td>Ac-Cent-Tchu-Ate The Positive Lyrics</td>\n",
       "      <td>\\n                    Gather 'round me, everyb...</td>\n",
       "      <td>https://www.lyricsfreak.com/h/harold+arlen/ + ...</td>\n",
       "    </tr>\n",
       "    <tr>\n",
       "      <th>1</th>\n",
       "      <td>Harold Arlen</td>\n",
       "      <td>As Long As I Live Lyrics</td>\n",
       "      <td>\\n                    Maybe I can't live to lo...</td>\n",
       "      <td>https://www.lyricsfreak.com/h/harold+arlen/ + ...</td>\n",
       "    </tr>\n",
       "    <tr>\n",
       "      <th>2</th>\n",
       "      <td>Harold Arlen</td>\n",
       "      <td>Between The Devil And The Deep Blue Sea Lyrics</td>\n",
       "      <td>\\n                    I don't want you\\nBut I ...</td>\n",
       "      <td>https://www.lyricsfreak.com/h/harold+arlen/ + ...</td>\n",
       "    </tr>\n",
       "    <tr>\n",
       "      <th>3</th>\n",
       "      <td>Harold Arlen</td>\n",
       "      <td>Blues In The Night Lyrics</td>\n",
       "      <td>\\n                    My mama done tol' me, wh...</td>\n",
       "      <td>https://www.lyricsfreak.com/h/harold+arlen/ + ...</td>\n",
       "    </tr>\n",
       "    <tr>\n",
       "      <th>4</th>\n",
       "      <td>Harold Arlen</td>\n",
       "      <td>Come Rain Or Come Shine Lyrics</td>\n",
       "      <td>\\n                    I'm gonna love you, like...</td>\n",
       "      <td>https://www.lyricsfreak.com/h/harold+arlen/ + ...</td>\n",
       "    </tr>\n",
       "  </tbody>\n",
       "</table>\n",
       "</div>"
      ],
      "text/plain": [
       "    song_writer                                       song_name  \\\n",
       "0  Harold Arlen            Ac-Cent-Tchu-Ate The Positive Lyrics   \n",
       "1  Harold Arlen                        As Long As I Live Lyrics   \n",
       "2  Harold Arlen  Between The Devil And The Deep Blue Sea Lyrics   \n",
       "3  Harold Arlen                       Blues In The Night Lyrics   \n",
       "4  Harold Arlen                  Come Rain Or Come Shine Lyrics   \n",
       "\n",
       "                                              lyrics  \\\n",
       "0  \\n                    Gather 'round me, everyb...   \n",
       "1  \\n                    Maybe I can't live to lo...   \n",
       "2  \\n                    I don't want you\\nBut I ...   \n",
       "3  \\n                    My mama done tol' me, wh...   \n",
       "4  \\n                    I'm gonna love you, like...   \n",
       "\n",
       "                                           song_link  \n",
       "0  https://www.lyricsfreak.com/h/harold+arlen/ + ...  \n",
       "1  https://www.lyricsfreak.com/h/harold+arlen/ + ...  \n",
       "2  https://www.lyricsfreak.com/h/harold+arlen/ + ...  \n",
       "3  https://www.lyricsfreak.com/h/harold+arlen/ + ...  \n",
       "4  https://www.lyricsfreak.com/h/harold+arlen/ + ...  "
      ]
     },
     "execution_count": 3,
     "metadata": {},
     "output_type": "execute_result"
    }
   ],
   "source": [
    "american_songbook.head()"
   ]
  },
  {
   "cell_type": "code",
   "execution_count": 4,
   "metadata": {},
   "outputs": [
    {
     "data": {
      "text/plain": [
       "Irving Berlin        95\n",
       "Johnny Mercer        69\n",
       "Fats Waller          52\n",
       "George Gershwin      51\n",
       "Cole Porter          47\n",
       "Hoagy Carmichael     40\n",
       "Harold Arlen         37\n",
       "Oscar Hammerstein    34\n",
       "Richard Rodgers      11\n",
       "Jerome Kern           7\n",
       "Name: song_writer, dtype: int64"
      ]
     },
     "execution_count": 4,
     "metadata": {},
     "output_type": "execute_result"
    }
   ],
   "source": [
    "american_songbook.song_writer.value_counts()"
   ]
  },
  {
   "cell_type": "markdown",
   "metadata": {},
   "source": [
    "## Labeling the lyrics with the appropriate classification ID before combining with Disney."
   ]
  },
  {
   "cell_type": "code",
   "execution_count": 5,
   "metadata": {},
   "outputs": [],
   "source": [
    "american_songbook['american_songbook'] = 1"
   ]
  },
  {
   "cell_type": "code",
   "execution_count": 6,
   "metadata": {},
   "outputs": [],
   "source": [
    "american_songbook['disney_renaissance'] = 0"
   ]
  },
  {
   "cell_type": "code",
   "execution_count": 7,
   "metadata": {
    "scrolled": false
   },
   "outputs": [
    {
     "data": {
      "text/html": [
       "<div>\n",
       "<style scoped>\n",
       "    .dataframe tbody tr th:only-of-type {\n",
       "        vertical-align: middle;\n",
       "    }\n",
       "\n",
       "    .dataframe tbody tr th {\n",
       "        vertical-align: top;\n",
       "    }\n",
       "\n",
       "    .dataframe thead th {\n",
       "        text-align: right;\n",
       "    }\n",
       "</style>\n",
       "<table border=\"1\" class=\"dataframe\">\n",
       "  <thead>\n",
       "    <tr style=\"text-align: right;\">\n",
       "      <th></th>\n",
       "      <th>song_writer</th>\n",
       "      <th>song_name</th>\n",
       "      <th>lyrics</th>\n",
       "      <th>song_link</th>\n",
       "      <th>american_songbook</th>\n",
       "      <th>disney_renaissance</th>\n",
       "    </tr>\n",
       "  </thead>\n",
       "  <tbody>\n",
       "    <tr>\n",
       "      <th>0</th>\n",
       "      <td>Harold Arlen</td>\n",
       "      <td>Ac-Cent-Tchu-Ate The Positive Lyrics</td>\n",
       "      <td>\\n                    Gather 'round me, everyb...</td>\n",
       "      <td>https://www.lyricsfreak.com/h/harold+arlen/ + ...</td>\n",
       "      <td>1</td>\n",
       "      <td>0</td>\n",
       "    </tr>\n",
       "    <tr>\n",
       "      <th>1</th>\n",
       "      <td>Harold Arlen</td>\n",
       "      <td>As Long As I Live Lyrics</td>\n",
       "      <td>\\n                    Maybe I can't live to lo...</td>\n",
       "      <td>https://www.lyricsfreak.com/h/harold+arlen/ + ...</td>\n",
       "      <td>1</td>\n",
       "      <td>0</td>\n",
       "    </tr>\n",
       "    <tr>\n",
       "      <th>2</th>\n",
       "      <td>Harold Arlen</td>\n",
       "      <td>Between The Devil And The Deep Blue Sea Lyrics</td>\n",
       "      <td>\\n                    I don't want you\\nBut I ...</td>\n",
       "      <td>https://www.lyricsfreak.com/h/harold+arlen/ + ...</td>\n",
       "      <td>1</td>\n",
       "      <td>0</td>\n",
       "    </tr>\n",
       "    <tr>\n",
       "      <th>3</th>\n",
       "      <td>Harold Arlen</td>\n",
       "      <td>Blues In The Night Lyrics</td>\n",
       "      <td>\\n                    My mama done tol' me, wh...</td>\n",
       "      <td>https://www.lyricsfreak.com/h/harold+arlen/ + ...</td>\n",
       "      <td>1</td>\n",
       "      <td>0</td>\n",
       "    </tr>\n",
       "    <tr>\n",
       "      <th>4</th>\n",
       "      <td>Harold Arlen</td>\n",
       "      <td>Come Rain Or Come Shine Lyrics</td>\n",
       "      <td>\\n                    I'm gonna love you, like...</td>\n",
       "      <td>https://www.lyricsfreak.com/h/harold+arlen/ + ...</td>\n",
       "      <td>1</td>\n",
       "      <td>0</td>\n",
       "    </tr>\n",
       "  </tbody>\n",
       "</table>\n",
       "</div>"
      ],
      "text/plain": [
       "    song_writer                                       song_name  \\\n",
       "0  Harold Arlen            Ac-Cent-Tchu-Ate The Positive Lyrics   \n",
       "1  Harold Arlen                        As Long As I Live Lyrics   \n",
       "2  Harold Arlen  Between The Devil And The Deep Blue Sea Lyrics   \n",
       "3  Harold Arlen                       Blues In The Night Lyrics   \n",
       "4  Harold Arlen                  Come Rain Or Come Shine Lyrics   \n",
       "\n",
       "                                              lyrics  \\\n",
       "0  \\n                    Gather 'round me, everyb...   \n",
       "1  \\n                    Maybe I can't live to lo...   \n",
       "2  \\n                    I don't want you\\nBut I ...   \n",
       "3  \\n                    My mama done tol' me, wh...   \n",
       "4  \\n                    I'm gonna love you, like...   \n",
       "\n",
       "                                           song_link  american_songbook  \\\n",
       "0  https://www.lyricsfreak.com/h/harold+arlen/ + ...                  1   \n",
       "1  https://www.lyricsfreak.com/h/harold+arlen/ + ...                  1   \n",
       "2  https://www.lyricsfreak.com/h/harold+arlen/ + ...                  1   \n",
       "3  https://www.lyricsfreak.com/h/harold+arlen/ + ...                  1   \n",
       "4  https://www.lyricsfreak.com/h/harold+arlen/ + ...                  1   \n",
       "\n",
       "   disney_renaissance  \n",
       "0                   0  \n",
       "1                   0  \n",
       "2                   0  \n",
       "3                   0  \n",
       "4                   0  "
      ]
     },
     "execution_count": 7,
     "metadata": {},
     "output_type": "execute_result"
    }
   ],
   "source": [
    "american_songbook.head()"
   ]
  },
  {
   "cell_type": "markdown",
   "metadata": {},
   "source": [
    "## Combining Disney Lyrics"
   ]
  },
  {
   "cell_type": "code",
   "execution_count": 8,
   "metadata": {},
   "outputs": [],
   "source": [
    "disney_renaissance = pd.read_csv('datasets/disney_renaissance.csv')"
   ]
  },
  {
   "cell_type": "markdown",
   "metadata": {},
   "source": [
    "Again labeling the the data with the classification ID before combining."
   ]
  },
  {
   "cell_type": "code",
   "execution_count": 9,
   "metadata": {},
   "outputs": [],
   "source": [
    "disney_renaissance['disney_renaissance'] = 1"
   ]
  },
  {
   "cell_type": "code",
   "execution_count": 10,
   "metadata": {},
   "outputs": [],
   "source": [
    "disney_renaissance['american_songbook'] = 0"
   ]
  },
  {
   "cell_type": "code",
   "execution_count": 11,
   "metadata": {},
   "outputs": [
    {
     "data": {
      "text/html": [
       "<div>\n",
       "<style scoped>\n",
       "    .dataframe tbody tr th:only-of-type {\n",
       "        vertical-align: middle;\n",
       "    }\n",
       "\n",
       "    .dataframe tbody tr th {\n",
       "        vertical-align: top;\n",
       "    }\n",
       "\n",
       "    .dataframe thead th {\n",
       "        text-align: right;\n",
       "    }\n",
       "</style>\n",
       "<table border=\"1\" class=\"dataframe\">\n",
       "  <thead>\n",
       "    <tr style=\"text-align: right;\">\n",
       "      <th></th>\n",
       "      <th>song_writer</th>\n",
       "      <th>song_name</th>\n",
       "      <th>lyrics</th>\n",
       "      <th>song_link</th>\n",
       "      <th>disney_renaissance</th>\n",
       "      <th>american_songbook</th>\n",
       "    </tr>\n",
       "  </thead>\n",
       "  <tbody>\n",
       "    <tr>\n",
       "      <th>0</th>\n",
       "      <td>Tarzan</td>\n",
       "      <td>Son Of Man Lyrics</td>\n",
       "      <td>\\n                    Oh. the power to be stro...</td>\n",
       "      <td>https://www.lyricsfreak.com/d/disneys+tarzan/ ...</td>\n",
       "      <td>1</td>\n",
       "      <td>0</td>\n",
       "    </tr>\n",
       "    <tr>\n",
       "      <th>1</th>\n",
       "      <td>Tarzan</td>\n",
       "      <td>Strangers Like Me Lyrics</td>\n",
       "      <td>\\n                    Whatever you do, I'll do...</td>\n",
       "      <td>https://www.lyricsfreak.com/d/disneys+tarzan/ ...</td>\n",
       "      <td>1</td>\n",
       "      <td>0</td>\n",
       "    </tr>\n",
       "    <tr>\n",
       "      <th>2</th>\n",
       "      <td>Tarzan</td>\n",
       "      <td>Two Worlds Lyrics</td>\n",
       "      <td>\\n                    Put your faith in what y...</td>\n",
       "      <td>https://www.lyricsfreak.com/d/disneys+tarzan/ ...</td>\n",
       "      <td>1</td>\n",
       "      <td>0</td>\n",
       "    </tr>\n",
       "    <tr>\n",
       "      <th>3</th>\n",
       "      <td>Tarzan</td>\n",
       "      <td>Two Worlds Finale Lyrics</td>\n",
       "      <td>\\n                    Put your faith in what y...</td>\n",
       "      <td>https://www.lyricsfreak.com/d/disneys+tarzan/ ...</td>\n",
       "      <td>1</td>\n",
       "      <td>0</td>\n",
       "    </tr>\n",
       "    <tr>\n",
       "      <th>4</th>\n",
       "      <td>Tarzan</td>\n",
       "      <td>Two Worlds Reprise Lyrics</td>\n",
       "      <td>\\n                    Every moment now the bon...</td>\n",
       "      <td>https://www.lyricsfreak.com/d/disneys+tarzan/ ...</td>\n",
       "      <td>1</td>\n",
       "      <td>0</td>\n",
       "    </tr>\n",
       "  </tbody>\n",
       "</table>\n",
       "</div>"
      ],
      "text/plain": [
       "  song_writer                  song_name  \\\n",
       "0      Tarzan          Son Of Man Lyrics   \n",
       "1      Tarzan   Strangers Like Me Lyrics   \n",
       "2      Tarzan          Two Worlds Lyrics   \n",
       "3      Tarzan   Two Worlds Finale Lyrics   \n",
       "4      Tarzan  Two Worlds Reprise Lyrics   \n",
       "\n",
       "                                              lyrics  \\\n",
       "0  \\n                    Oh. the power to be stro...   \n",
       "1  \\n                    Whatever you do, I'll do...   \n",
       "2  \\n                    Put your faith in what y...   \n",
       "3  \\n                    Put your faith in what y...   \n",
       "4  \\n                    Every moment now the bon...   \n",
       "\n",
       "                                           song_link  disney_renaissance  \\\n",
       "0  https://www.lyricsfreak.com/d/disneys+tarzan/ ...                   1   \n",
       "1  https://www.lyricsfreak.com/d/disneys+tarzan/ ...                   1   \n",
       "2  https://www.lyricsfreak.com/d/disneys+tarzan/ ...                   1   \n",
       "3  https://www.lyricsfreak.com/d/disneys+tarzan/ ...                   1   \n",
       "4  https://www.lyricsfreak.com/d/disneys+tarzan/ ...                   1   \n",
       "\n",
       "   american_songbook  \n",
       "0                  0  \n",
       "1                  0  \n",
       "2                  0  \n",
       "3                  0  \n",
       "4                  0  "
      ]
     },
     "execution_count": 11,
     "metadata": {},
     "output_type": "execute_result"
    }
   ],
   "source": [
    "disney_renaissance.head()"
   ]
  },
  {
   "cell_type": "code",
   "execution_count": 12,
   "metadata": {},
   "outputs": [],
   "source": [
    "disney = pd.read_csv('datasets/disney_songs.csv')\n",
    "\n",
    "more_disney = pd.read_csv('datasets/more_disney_songs.csv')"
   ]
  },
  {
   "cell_type": "code",
   "execution_count": 13,
   "metadata": {},
   "outputs": [],
   "source": [
    "disney_songs = pd.concat([disney, more_disney], axis=0)"
   ]
  },
  {
   "cell_type": "code",
   "execution_count": 14,
   "metadata": {},
   "outputs": [
    {
     "data": {
      "text/html": [
       "<div>\n",
       "<style scoped>\n",
       "    .dataframe tbody tr th:only-of-type {\n",
       "        vertical-align: middle;\n",
       "    }\n",
       "\n",
       "    .dataframe tbody tr th {\n",
       "        vertical-align: top;\n",
       "    }\n",
       "\n",
       "    .dataframe thead th {\n",
       "        text-align: right;\n",
       "    }\n",
       "</style>\n",
       "<table border=\"1\" class=\"dataframe\">\n",
       "  <thead>\n",
       "    <tr style=\"text-align: right;\">\n",
       "      <th></th>\n",
       "      <th>song_writer</th>\n",
       "      <th>song_name</th>\n",
       "      <th>lyrics</th>\n",
       "      <th>song_link</th>\n",
       "    </tr>\n",
       "  </thead>\n",
       "  <tbody>\n",
       "    <tr>\n",
       "      <th>0</th>\n",
       "      <td>101 Dalmations</td>\n",
       "      <td>Cruella De Vil</td>\n",
       "      <td>Cruella De Vil Cruella De Vil If she doesn't s...</td>\n",
       "      <td>http://www.disneyclips.com/lyrics/lyrics23.html</td>\n",
       "    </tr>\n",
       "    <tr>\n",
       "      <th>1</th>\n",
       "      <td>101 Dalmations</td>\n",
       "      <td>Dalmatian Plantation</td>\n",
       "      <td>We'll have a dalmatian plantation Where our po...</td>\n",
       "      <td>http://www.disneyclips.com/lyrics/lyrics88.html</td>\n",
       "    </tr>\n",
       "    <tr>\n",
       "      <th>2</th>\n",
       "      <td>101 Dalmations</td>\n",
       "      <td>Kanine Krunchies</td>\n",
       "      <td>Kanine Krunchies can't be beat They make each ...</td>\n",
       "      <td>http://www.disneyclips.com/lyrics/lyricsdalmat...</td>\n",
       "    </tr>\n",
       "    <tr>\n",
       "      <th>3</th>\n",
       "      <td>Alice In Wonderland</td>\n",
       "      <td>Alice in Wonderland</td>\n",
       "      <td>Alice in Wonderland How do you get to Wonderla...</td>\n",
       "      <td>http://www.disneyclips.com/lyrics/alicelyrics3...</td>\n",
       "    </tr>\n",
       "    <tr>\n",
       "      <th>4</th>\n",
       "      <td>Alice In Wonderland</td>\n",
       "      <td>All in the Golden Afternoon</td>\n",
       "      <td>Little bread-and-butterflies kiss the tulips A...</td>\n",
       "      <td>http://www.disneyclips.com/lyrics/alicelyrics2...</td>\n",
       "    </tr>\n",
       "  </tbody>\n",
       "</table>\n",
       "</div>"
      ],
      "text/plain": [
       "           song_writer                    song_name  \\\n",
       "0       101 Dalmations               Cruella De Vil   \n",
       "1       101 Dalmations         Dalmatian Plantation   \n",
       "2       101 Dalmations             Kanine Krunchies   \n",
       "3  Alice In Wonderland          Alice in Wonderland   \n",
       "4  Alice In Wonderland  All in the Golden Afternoon   \n",
       "\n",
       "                                              lyrics  \\\n",
       "0  Cruella De Vil Cruella De Vil If she doesn't s...   \n",
       "1  We'll have a dalmatian plantation Where our po...   \n",
       "2  Kanine Krunchies can't be beat They make each ...   \n",
       "3  Alice in Wonderland How do you get to Wonderla...   \n",
       "4  Little bread-and-butterflies kiss the tulips A...   \n",
       "\n",
       "                                           song_link  \n",
       "0    http://www.disneyclips.com/lyrics/lyrics23.html  \n",
       "1    http://www.disneyclips.com/lyrics/lyrics88.html  \n",
       "2  http://www.disneyclips.com/lyrics/lyricsdalmat...  \n",
       "3  http://www.disneyclips.com/lyrics/alicelyrics3...  \n",
       "4  http://www.disneyclips.com/lyrics/alicelyrics2...  "
      ]
     },
     "execution_count": 14,
     "metadata": {},
     "output_type": "execute_result"
    }
   ],
   "source": [
    "disney_songs.head()"
   ]
  },
  {
   "cell_type": "code",
   "execution_count": 15,
   "metadata": {},
   "outputs": [],
   "source": [
    "disney_songs['disney_renaissance'] = 0"
   ]
  },
  {
   "cell_type": "code",
   "execution_count": 16,
   "metadata": {},
   "outputs": [],
   "source": [
    "disney_songs['american_songbook'] = 0"
   ]
  },
  {
   "cell_type": "code",
   "execution_count": 17,
   "metadata": {},
   "outputs": [],
   "source": [
    "disney_songbook = pd.concat([disney_songs, disney_renaissance], axis=0)"
   ]
  },
  {
   "cell_type": "code",
   "execution_count": 18,
   "metadata": {},
   "outputs": [
    {
     "data": {
      "text/html": [
       "<div>\n",
       "<style scoped>\n",
       "    .dataframe tbody tr th:only-of-type {\n",
       "        vertical-align: middle;\n",
       "    }\n",
       "\n",
       "    .dataframe tbody tr th {\n",
       "        vertical-align: top;\n",
       "    }\n",
       "\n",
       "    .dataframe thead th {\n",
       "        text-align: right;\n",
       "    }\n",
       "</style>\n",
       "<table border=\"1\" class=\"dataframe\">\n",
       "  <thead>\n",
       "    <tr style=\"text-align: right;\">\n",
       "      <th></th>\n",
       "      <th>song_writer</th>\n",
       "      <th>song_name</th>\n",
       "      <th>lyrics</th>\n",
       "      <th>song_link</th>\n",
       "      <th>disney_renaissance</th>\n",
       "      <th>american_songbook</th>\n",
       "    </tr>\n",
       "  </thead>\n",
       "  <tbody>\n",
       "    <tr>\n",
       "      <th>0</th>\n",
       "      <td>101 Dalmations</td>\n",
       "      <td>Cruella De Vil</td>\n",
       "      <td>Cruella De Vil Cruella De Vil If she doesn't s...</td>\n",
       "      <td>http://www.disneyclips.com/lyrics/lyrics23.html</td>\n",
       "      <td>0</td>\n",
       "      <td>0</td>\n",
       "    </tr>\n",
       "    <tr>\n",
       "      <th>1</th>\n",
       "      <td>101 Dalmations</td>\n",
       "      <td>Dalmatian Plantation</td>\n",
       "      <td>We'll have a dalmatian plantation Where our po...</td>\n",
       "      <td>http://www.disneyclips.com/lyrics/lyrics88.html</td>\n",
       "      <td>0</td>\n",
       "      <td>0</td>\n",
       "    </tr>\n",
       "    <tr>\n",
       "      <th>2</th>\n",
       "      <td>101 Dalmations</td>\n",
       "      <td>Kanine Krunchies</td>\n",
       "      <td>Kanine Krunchies can't be beat They make each ...</td>\n",
       "      <td>http://www.disneyclips.com/lyrics/lyricsdalmat...</td>\n",
       "      <td>0</td>\n",
       "      <td>0</td>\n",
       "    </tr>\n",
       "    <tr>\n",
       "      <th>3</th>\n",
       "      <td>Alice In Wonderland</td>\n",
       "      <td>Alice in Wonderland</td>\n",
       "      <td>Alice in Wonderland How do you get to Wonderla...</td>\n",
       "      <td>http://www.disneyclips.com/lyrics/alicelyrics3...</td>\n",
       "      <td>0</td>\n",
       "      <td>0</td>\n",
       "    </tr>\n",
       "    <tr>\n",
       "      <th>4</th>\n",
       "      <td>Alice In Wonderland</td>\n",
       "      <td>All in the Golden Afternoon</td>\n",
       "      <td>Little bread-and-butterflies kiss the tulips A...</td>\n",
       "      <td>http://www.disneyclips.com/lyrics/alicelyrics2...</td>\n",
       "      <td>0</td>\n",
       "      <td>0</td>\n",
       "    </tr>\n",
       "  </tbody>\n",
       "</table>\n",
       "</div>"
      ],
      "text/plain": [
       "           song_writer                    song_name  \\\n",
       "0       101 Dalmations               Cruella De Vil   \n",
       "1       101 Dalmations         Dalmatian Plantation   \n",
       "2       101 Dalmations             Kanine Krunchies   \n",
       "3  Alice In Wonderland          Alice in Wonderland   \n",
       "4  Alice In Wonderland  All in the Golden Afternoon   \n",
       "\n",
       "                                              lyrics  \\\n",
       "0  Cruella De Vil Cruella De Vil If she doesn't s...   \n",
       "1  We'll have a dalmatian plantation Where our po...   \n",
       "2  Kanine Krunchies can't be beat They make each ...   \n",
       "3  Alice in Wonderland How do you get to Wonderla...   \n",
       "4  Little bread-and-butterflies kiss the tulips A...   \n",
       "\n",
       "                                           song_link  disney_renaissance  \\\n",
       "0    http://www.disneyclips.com/lyrics/lyrics23.html                   0   \n",
       "1    http://www.disneyclips.com/lyrics/lyrics88.html                   0   \n",
       "2  http://www.disneyclips.com/lyrics/lyricsdalmat...                   0   \n",
       "3  http://www.disneyclips.com/lyrics/alicelyrics3...                   0   \n",
       "4  http://www.disneyclips.com/lyrics/alicelyrics2...                   0   \n",
       "\n",
       "   american_songbook  \n",
       "0                  0  \n",
       "1                  0  \n",
       "2                  0  \n",
       "3                  0  \n",
       "4                  0  "
      ]
     },
     "execution_count": 18,
     "metadata": {},
     "output_type": "execute_result"
    }
   ],
   "source": [
    "disney_songbook.head()"
   ]
  },
  {
   "cell_type": "code",
   "execution_count": 20,
   "metadata": {},
   "outputs": [
    {
     "data": {
      "text/plain": [
       "101 Dalmations                     3\n",
       "A Goofy Movie                      6\n",
       "Aladdin                           24\n",
       "Alice In Wonderland               12\n",
       "Bambi                              3\n",
       "Beauty and the Beast              21\n",
       "Bedknobs and Broomsticks           6\n",
       "Brave                              4\n",
       "Brother Bear                       6\n",
       "Cinderella                         6\n",
       "Coco                              10\n",
       "Dumbo                              6\n",
       "Enchanted                          5\n",
       "Frozen                            10\n",
       "Frozen 2                          14\n",
       "Hercules                           5\n",
       "High School Musical               10\n",
       "Lady and the Tramp                 5\n",
       "Lion King                         23\n",
       "Little Mermaid                    34\n",
       "Mary Poppins                      17\n",
       "Moana                              9\n",
       "Mulan                              3\n",
       "Oliver and Company                 5\n",
       "Peter Pan                          6\n",
       "Pinocchio                          5\n",
       "Pocahontas                        14\n",
       "Robin Hood                         4\n",
       "Sleeping Beauty                    6\n",
       "Snow White                         8\n",
       "Tangled                            9\n",
       "Tarzan                             6\n",
       "The Aristocats                     4\n",
       "The Emperor's New Groove           3\n",
       "The Fox and the Hound              5\n",
       "The Great Mouse Dectective         3\n",
       "The Hunchback of Notre Dame       10\n",
       "The Jungle Book                    6\n",
       "The Nightmare Before Christmas    11\n",
       "The Princess and the Frog         10\n",
       "The Rescuers                       5\n",
       "The Sword and the Stone            5\n",
       "Winnie the Pooh                    6\n",
       "Name: song_writer, dtype: int64"
      ]
     },
     "execution_count": 20,
     "metadata": {},
     "output_type": "execute_result"
    }
   ],
   "source": [
    "disney_songbook['song_writer'].value_counts().sort_index()"
   ]
  },
  {
   "cell_type": "markdown",
   "metadata": {},
   "source": [
    "## Combining all the lyrics together!!"
   ]
  },
  {
   "cell_type": "code",
   "execution_count": 21,
   "metadata": {},
   "outputs": [],
   "source": [
    "all_lyrics = pd.concat([american_songbook,\n",
    "           disney_songbook])"
   ]
  },
  {
   "cell_type": "code",
   "execution_count": 22,
   "metadata": {
    "scrolled": true
   },
   "outputs": [
    {
     "data": {
      "text/plain": [
       "1    0.542892\n",
       "0    0.457108\n",
       "Name: american_songbook, dtype: float64"
      ]
     },
     "execution_count": 22,
     "metadata": {},
     "output_type": "execute_result"
    }
   ],
   "source": [
    "# Checking to see if the songbooks are as balanced as possible\n",
    "all_lyrics['american_songbook'].value_counts(normalize=True)"
   ]
  },
  {
   "cell_type": "markdown",
   "metadata": {},
   "source": [
    "## Figuring out the code to remove unnessary characters"
   ]
  },
  {
   "cell_type": "code",
   "execution_count": 23,
   "metadata": {
    "scrolled": true
   },
   "outputs": [
    {
     "data": {
      "text/plain": [
       "song_writer                                                Harold Arlen\n",
       "song_name                          Ac-Cent-Tchu-Ate The Positive Lyrics\n",
       "lyrics                \\n                    Gather 'round me, everyb...\n",
       "song_link             https://www.lyricsfreak.com/h/harold+arlen/ + ...\n",
       "american_songbook                                                     1\n",
       "disney_renaissance                                                    0\n",
       "Name: 0, dtype: object"
      ]
     },
     "execution_count": 23,
     "metadata": {},
     "output_type": "execute_result"
    }
   ],
   "source": [
    "all_lyrics.iloc[0]"
   ]
  },
  {
   "cell_type": "code",
   "execution_count": 24,
   "metadata": {
    "scrolled": true
   },
   "outputs": [
    {
     "data": {
      "text/plain": [
       "\"\\n                    Gather 'round me, everybody\\nGather 'round me, while I preach some\\nFeel a sermon coming on here\\nThe topic will be sin\\nAnd that's what I'm agin'\\nIf you wanna hear my story\\nThen settle back and just sit tight\\nWhile I start reviewing\\nThe attitude of doing right\\n\\nYou got to ac-cent-tchu-ate the positive\\nE-lim-i-nate the negative\\nAnd latch on to the affirmative\\nDon't mess with mister inbetween\\n\\nYou got to spread joy up to the maximum\\nBring gloom down to the minimum\\nAnd have faith, or pandemonium\\nLiable to walk upon the scene\\n\\nTo illustrate my last remark\\nJonah in the whale, noah in the ark,\\nWhat did they do, just when everything looked so dark?\\nMan, they said, we better\\n\\nAc-cent-tchu-ate the positive\\nE-lim-i-nate the negative\\nAnd latch on to the affirmative\\nDon't mess with mister inbetween                \""
      ]
     },
     "execution_count": 24,
     "metadata": {},
     "output_type": "execute_result"
    }
   ],
   "source": [
    "all_lyrics.iloc[0]['lyrics']"
   ]
  },
  {
   "cell_type": "code",
   "execution_count": 25,
   "metadata": {},
   "outputs": [
    {
     "name": "stdout",
     "output_type": "stream",
     "text": [
      "Gather 'round me, everybody\n",
      "Gather 'round me, while I preach some\n",
      "Feel a sermon coming on here\n",
      "The topic will be sin\n",
      "And that's what I'm agin'\n",
      "If you wanna hear my story\n",
      "Then settle back and just sit tight\n",
      "While I start reviewing\n",
      "The attitude of doing right\n",
      "\n",
      "You got to ac-cent-tchu-ate the positive\n",
      "E-lim-i-nate the negative\n",
      "And latch on to the affirmative\n",
      "Don't mess with mister inbetween\n",
      "\n",
      "You got to spread joy up to the maximum\n",
      "Bring gloom down to the minimum\n",
      "And have faith, or pandemonium\n",
      "Liable to walk upon the scene\n",
      "\n",
      "To illustrate my last remark\n",
      "Jonah in the whale, noah in the ark,\n",
      "What did they do, just when everything looked so dark?\n",
      "Man, they said, we better\n",
      "\n",
      "Ac-cent-tchu-ate the positive\n",
      "E-lim-i-nate the negative\n",
      "And latch on to the affirmative\n",
      "Don't mess with mister inbetween                \n"
     ]
    }
   ],
   "source": [
    "example1 = BeautifulSoup(all_lyrics.iloc[0]['lyrics'])\n",
    "\n",
    "# Print the raw review and then the output of get_text(), for comparison\n",
    "print(example1.get_text())"
   ]
  },
  {
   "cell_type": "code",
   "execution_count": 26,
   "metadata": {},
   "outputs": [],
   "source": [
    "# Use regular expressions to do a find-and-replace\n",
    "letters_only = re.sub(\"[^a-zA-Z'-]\",           \n",
    "                      \" \",                  \n",
    "                      example1.get_text().rstrip())"
   ]
  },
  {
   "cell_type": "code",
   "execution_count": 27,
   "metadata": {},
   "outputs": [
    {
     "data": {
      "text/plain": [
       "\"Gather 'round me  everybody Gather 'round me  while I preach some Feel a sermon coming on here The topic will be sin And that's what I'm agin' If you wanna hear my story Then settle back and just sit tight While I start reviewing The attitude of doing right  You got to ac-cent-tchu-ate the positive E-lim-i-nate the negative And latch on to the affirmative Don't mess with mister inbetween  You got to spread joy up to the maximum Bring gloom down to the minimum And have faith  or pandemonium Liable to walk upon the scene  To illustrate my last remark Jonah in the whale  noah in the ark  What did they do  just when everything looked so dark  Man  they said  we better  Ac-cent-tchu-ate the positive E-lim-i-nate the negative And latch on to the affirmative Don't mess with mister inbetween\""
      ]
     },
     "execution_count": 27,
     "metadata": {},
     "output_type": "execute_result"
    }
   ],
   "source": [
    "letters_only"
   ]
  },
  {
   "cell_type": "code",
   "execution_count": 28,
   "metadata": {},
   "outputs": [],
   "source": [
    "songs['lyrics'][0] = letters_only"
   ]
  },
  {
   "cell_type": "code",
   "execution_count": 29,
   "metadata": {
    "scrolled": true
   },
   "outputs": [
    {
     "data": {
      "text/plain": [
       "\"Gather 'round me  everybody Gather 'round me  while I preach some Feel a sermon coming on here The topic will be sin And that's what I'm agin' If you wanna hear my story Then settle back and just sit tight While I start reviewing The attitude of doing right  You got to ac-cent-tchu-ate the positive E-lim-i-nate the negative And latch on to the affirmative Don't mess with mister inbetween  You got to spread joy up to the maximum Bring gloom down to the minimum And have faith  or pandemonium Liable to walk upon the scene  To illustrate my last remark Jonah in the whale  noah in the ark  What did they do  just when everything looked so dark  Man  they said  we better  Ac-cent-tchu-ate the positive E-lim-i-nate the negative And latch on to the affirmative Don't mess with mister inbetween\""
      ]
     },
     "execution_count": 29,
     "metadata": {},
     "output_type": "execute_result"
    }
   ],
   "source": [
    "songs['lyrics'][0]"
   ]
  },
  {
   "cell_type": "code",
   "execution_count": 31,
   "metadata": {},
   "outputs": [],
   "source": [
    "lower_case = letters_only.lower()"
   ]
  },
  {
   "cell_type": "code",
   "execution_count": 32,
   "metadata": {},
   "outputs": [
    {
     "data": {
      "text/plain": [
       "\"gather 'round me  everybody gather 'round me  while i preach some feel a sermon coming on here the topic will be sin and that's what i'm agin' if you wanna hear my story then settle back and just sit tight while i start reviewing the attitude of doing right  you got to ac-cent-tchu-ate the positive e-lim-i-nate the negative and latch on to the affirmative don't mess with mister inbetween  you got to spread joy up to the maximum bring gloom down to the minimum and have faith  or pandemonium liable to walk upon the scene  to illustrate my last remark jonah in the whale  noah in the ark  what did they do  just when everything looked so dark  man  they said  we better  ac-cent-tchu-ate the positive e-lim-i-nate the negative and latch on to the affirmative don't mess with mister inbetween\""
      ]
     },
     "execution_count": 32,
     "metadata": {},
     "output_type": "execute_result"
    }
   ],
   "source": [
    "lower_case"
   ]
  },
  {
   "cell_type": "code",
   "execution_count": 33,
   "metadata": {},
   "outputs": [],
   "source": [
    "words = lower_case.split()"
   ]
  },
  {
   "cell_type": "code",
   "execution_count": 34,
   "metadata": {
    "scrolled": false
   },
   "outputs": [
    {
     "data": {
      "text/plain": [
       "['gather',\n",
       " \"'round\",\n",
       " 'me',\n",
       " 'everybody',\n",
       " 'gather',\n",
       " \"'round\",\n",
       " 'me',\n",
       " 'while',\n",
       " 'i',\n",
       " 'preach']"
      ]
     },
     "execution_count": 34,
     "metadata": {},
     "output_type": "execute_result"
    }
   ],
   "source": [
    "words[:10]"
   ]
  },
  {
   "cell_type": "code",
   "execution_count": 35,
   "metadata": {},
   "outputs": [],
   "source": [
    "all_lyrics = all_lyrics.sort_values('song_writer')"
   ]
  },
  {
   "cell_type": "code",
   "execution_count": 36,
   "metadata": {},
   "outputs": [],
   "source": [
    "all_lyrics.to_csv('datasets/all_lyrics.csv', index=False)"
   ]
  },
  {
   "cell_type": "code",
   "execution_count": 37,
   "metadata": {},
   "outputs": [],
   "source": [
    "all_lyrics = pd.read_csv('datasets/all_lyrics.csv')"
   ]
  },
  {
   "cell_type": "code",
   "execution_count": 38,
   "metadata": {},
   "outputs": [
    {
     "data": {
      "text/html": [
       "<div>\n",
       "<style scoped>\n",
       "    .dataframe tbody tr th:only-of-type {\n",
       "        vertical-align: middle;\n",
       "    }\n",
       "\n",
       "    .dataframe tbody tr th {\n",
       "        vertical-align: top;\n",
       "    }\n",
       "\n",
       "    .dataframe thead th {\n",
       "        text-align: right;\n",
       "    }\n",
       "</style>\n",
       "<table border=\"1\" class=\"dataframe\">\n",
       "  <thead>\n",
       "    <tr style=\"text-align: right;\">\n",
       "      <th></th>\n",
       "      <th>song_writer</th>\n",
       "      <th>song_name</th>\n",
       "      <th>lyrics</th>\n",
       "      <th>song_link</th>\n",
       "      <th>american_songbook</th>\n",
       "      <th>disney_renaissance</th>\n",
       "    </tr>\n",
       "  </thead>\n",
       "  <tbody>\n",
       "    <tr>\n",
       "      <th>0</th>\n",
       "      <td>101 Dalmations</td>\n",
       "      <td>Kanine Krunchies</td>\n",
       "      <td>Kanine Krunchies can't be beat They make each ...</td>\n",
       "      <td>http://www.disneyclips.com/lyrics/lyricsdalmat...</td>\n",
       "      <td>0</td>\n",
       "      <td>0</td>\n",
       "    </tr>\n",
       "    <tr>\n",
       "      <th>1</th>\n",
       "      <td>101 Dalmations</td>\n",
       "      <td>Cruella De Vil</td>\n",
       "      <td>Cruella De Vil Cruella De Vil If she doesn't s...</td>\n",
       "      <td>http://www.disneyclips.com/lyrics/lyrics23.html</td>\n",
       "      <td>0</td>\n",
       "      <td>0</td>\n",
       "    </tr>\n",
       "    <tr>\n",
       "      <th>2</th>\n",
       "      <td>101 Dalmations</td>\n",
       "      <td>Dalmatian Plantation</td>\n",
       "      <td>We'll have a dalmatian plantation Where our po...</td>\n",
       "      <td>http://www.disneyclips.com/lyrics/lyrics88.html</td>\n",
       "      <td>0</td>\n",
       "      <td>0</td>\n",
       "    </tr>\n",
       "    <tr>\n",
       "      <th>3</th>\n",
       "      <td>A Goofy Movie</td>\n",
       "      <td>Stand Out</td>\n",
       "      <td>Open up your eyes, take a look at me Get the p...</td>\n",
       "      <td>http://www.disneyclips.com/lyrics/lyricsgoofy....</td>\n",
       "      <td>0</td>\n",
       "      <td>0</td>\n",
       "    </tr>\n",
       "    <tr>\n",
       "      <th>4</th>\n",
       "      <td>A Goofy Movie</td>\n",
       "      <td>On the Open Road</td>\n",
       "      <td>[Goofy:] Do ya need a break from modern livin'...</td>\n",
       "      <td>http://www.disneyclips.com/lyrics/lyricsgoofy3...</td>\n",
       "      <td>0</td>\n",
       "      <td>0</td>\n",
       "    </tr>\n",
       "    <tr>\n",
       "      <th>...</th>\n",
       "      <td>...</td>\n",
       "      <td>...</td>\n",
       "      <td>...</td>\n",
       "      <td>...</td>\n",
       "      <td>...</td>\n",
       "      <td>...</td>\n",
       "    </tr>\n",
       "    <tr>\n",
       "      <th>811</th>\n",
       "      <td>Winnie the Pooh</td>\n",
       "      <td>The Backson Song</td>\n",
       "      <td>[Owl:] It's a giant creature with a tail Here,...</td>\n",
       "      <td>http://www.disneyclips.com/lyrics/lyricswinnie...</td>\n",
       "      <td>0</td>\n",
       "      <td>0</td>\n",
       "    </tr>\n",
       "    <tr>\n",
       "      <th>812</th>\n",
       "      <td>Winnie the Pooh</td>\n",
       "      <td>So Long</td>\n",
       "      <td>It's not complicated, or very hard to grasp B...</td>\n",
       "      <td>http://www.disneyclips.com/lyrics/lyricswinnie...</td>\n",
       "      <td>0</td>\n",
       "      <td>0</td>\n",
       "    </tr>\n",
       "    <tr>\n",
       "      <th>813</th>\n",
       "      <td>Winnie the Pooh</td>\n",
       "      <td>It's Gonna Be Great</td>\n",
       "      <td>[Tigger:] Gonna fix you up; by the time we're ...</td>\n",
       "      <td>http://www.disneyclips.com/lyrics/lyricswinnie...</td>\n",
       "      <td>0</td>\n",
       "      <td>0</td>\n",
       "    </tr>\n",
       "    <tr>\n",
       "      <th>814</th>\n",
       "      <td>Winnie the Pooh</td>\n",
       "      <td>Everything Is Honey</td>\n",
       "      <td>Everything is honey, everywhere I see Everythi...</td>\n",
       "      <td>http://www.disneyclips.com/lyrics/lyricswinnie...</td>\n",
       "      <td>0</td>\n",
       "      <td>0</td>\n",
       "    </tr>\n",
       "    <tr>\n",
       "      <th>815</th>\n",
       "      <td>Winnie the Pooh</td>\n",
       "      <td>A Very Important Thing to Do</td>\n",
       "      <td>Come one, come two, come all Everyone heed the...</td>\n",
       "      <td>http://www.disneyclips.com/lyrics/lyricswinnie...</td>\n",
       "      <td>0</td>\n",
       "      <td>0</td>\n",
       "    </tr>\n",
       "  </tbody>\n",
       "</table>\n",
       "<p>816 rows × 6 columns</p>\n",
       "</div>"
      ],
      "text/plain": [
       "         song_writer                     song_name  \\\n",
       "0     101 Dalmations              Kanine Krunchies   \n",
       "1     101 Dalmations                Cruella De Vil   \n",
       "2     101 Dalmations          Dalmatian Plantation   \n",
       "3      A Goofy Movie                     Stand Out   \n",
       "4      A Goofy Movie              On the Open Road   \n",
       "..               ...                           ...   \n",
       "811  Winnie the Pooh              The Backson Song   \n",
       "812  Winnie the Pooh                       So Long   \n",
       "813  Winnie the Pooh           It's Gonna Be Great   \n",
       "814  Winnie the Pooh           Everything Is Honey   \n",
       "815  Winnie the Pooh  A Very Important Thing to Do   \n",
       "\n",
       "                                                lyrics  \\\n",
       "0    Kanine Krunchies can't be beat They make each ...   \n",
       "1    Cruella De Vil Cruella De Vil If she doesn't s...   \n",
       "2    We'll have a dalmatian plantation Where our po...   \n",
       "3    Open up your eyes, take a look at me Get the p...   \n",
       "4    [Goofy:] Do ya need a break from modern livin'...   \n",
       "..                                                 ...   \n",
       "811  [Owl:] It's a giant creature with a tail Here,...   \n",
       "812   It's not complicated, or very hard to grasp B...   \n",
       "813  [Tigger:] Gonna fix you up; by the time we're ...   \n",
       "814  Everything is honey, everywhere I see Everythi...   \n",
       "815  Come one, come two, come all Everyone heed the...   \n",
       "\n",
       "                                             song_link  american_songbook  \\\n",
       "0    http://www.disneyclips.com/lyrics/lyricsdalmat...                  0   \n",
       "1      http://www.disneyclips.com/lyrics/lyrics23.html                  0   \n",
       "2      http://www.disneyclips.com/lyrics/lyrics88.html                  0   \n",
       "3    http://www.disneyclips.com/lyrics/lyricsgoofy....                  0   \n",
       "4    http://www.disneyclips.com/lyrics/lyricsgoofy3...                  0   \n",
       "..                                                 ...                ...   \n",
       "811  http://www.disneyclips.com/lyrics/lyricswinnie...                  0   \n",
       "812  http://www.disneyclips.com/lyrics/lyricswinnie...                  0   \n",
       "813  http://www.disneyclips.com/lyrics/lyricswinnie...                  0   \n",
       "814  http://www.disneyclips.com/lyrics/lyricswinnie...                  0   \n",
       "815  http://www.disneyclips.com/lyrics/lyricswinnie...                  0   \n",
       "\n",
       "     disney_renaissance  \n",
       "0                     0  \n",
       "1                     0  \n",
       "2                     0  \n",
       "3                     0  \n",
       "4                     0  \n",
       "..                  ...  \n",
       "811                   0  \n",
       "812                   0  \n",
       "813                   0  \n",
       "814                   0  \n",
       "815                   0  \n",
       "\n",
       "[816 rows x 6 columns]"
      ]
     },
     "execution_count": 38,
     "metadata": {},
     "output_type": "execute_result"
    }
   ],
   "source": [
    "all_lyrics"
   ]
  },
  {
   "cell_type": "markdown",
   "metadata": {},
   "source": [
    "## Cleaning up the lyrics"
   ]
  },
  {
   "cell_type": "code",
   "execution_count": 39,
   "metadata": {},
   "outputs": [],
   "source": [
    "# This function has been taken from Matt Brems NLP I lecture. Very little has been changed.\n",
    "# Only difference is a change in the function name\n",
    "def lyrics_to_words(raw_text):\n",
    "    \n",
    "    text = BeautifulSoup(raw_text).get_text()\n",
    "    \n",
    "    letters_only = re.sub(\"[^a-zA-Z'-]\", \" \", text)\n",
    "    \n",
    "    words = letters_only.lower().split()\n",
    "    \n",
    "#     stops = set(stopwords.words('english'))\n",
    "    \n",
    "#     meaningful_words = [w for w in words if w not in stops]\n",
    "\n",
    "    return(\" \".join(words))"
   ]
  },
  {
   "cell_type": "code",
   "execution_count": 40,
   "metadata": {},
   "outputs": [],
   "source": [
    "total_songs = all_lyrics.shape[0]"
   ]
  },
  {
   "cell_type": "code",
   "execution_count": 41,
   "metadata": {},
   "outputs": [
    {
     "name": "stdout",
     "output_type": "stream",
     "text": [
      "Cleaning and parsing the lyrics...\n",
      "Lyric 50 of 816.\n",
      "Lyric 100 of 816.\n",
      "Lyric 150 of 816.\n",
      "Lyric 200 of 816.\n",
      "Lyric 250 of 816.\n",
      "Lyric 300 of 816.\n",
      "Lyric 350 of 816.\n",
      "Lyric 400 of 816.\n",
      "Lyric 450 of 816.\n",
      "Lyric 500 of 816.\n",
      "Lyric 550 of 816.\n",
      "Lyric 600 of 816.\n",
      "Lyric 650 of 816.\n",
      "Lyric 700 of 816.\n",
      "Lyric 750 of 816.\n",
      "Lyric 800 of 816.\n"
     ]
    }
   ],
   "source": [
    "# This code is heavily borrowed from NLP I lesson by Matt Brems.\n",
    "# There have been some slight modifications made to fit this project.\n",
    "# Initialize an empty list to hold the cleaned songs\n",
    "clean_songs = []\n",
    "\n",
    "print(\"Cleaning and parsing the lyrics...\")\n",
    "\n",
    "# Instantiate counter.\n",
    "j = 0\n",
    "\n",
    "# Looping through the lyrics...\n",
    "for songs in all_lyrics['lyrics']:\n",
    "    \n",
    "    # Convert lyrics to separate words, then append to clean_songs.\n",
    "    clean_songs.append(lyrics_to_words(songs))\n",
    "    \n",
    "    # If the index is divisible by 50, print a message.\n",
    "    if (j + 1) % 50 == 0:\n",
    "        print(f'Lyric {j + 1} of {total_songs}.')\n",
    "    \n",
    "    j += 1"
   ]
  },
  {
   "cell_type": "code",
   "execution_count": 42,
   "metadata": {},
   "outputs": [],
   "source": [
    "# Creating a dataframe for the clean titles\n",
    "clean_songs_df = pd.DataFrame(clean_songs, columns=['clean_lyrics'])"
   ]
  },
  {
   "cell_type": "code",
   "execution_count": 43,
   "metadata": {},
   "outputs": [
    {
     "data": {
      "text/html": [
       "<div>\n",
       "<style scoped>\n",
       "    .dataframe tbody tr th:only-of-type {\n",
       "        vertical-align: middle;\n",
       "    }\n",
       "\n",
       "    .dataframe tbody tr th {\n",
       "        vertical-align: top;\n",
       "    }\n",
       "\n",
       "    .dataframe thead th {\n",
       "        text-align: right;\n",
       "    }\n",
       "</style>\n",
       "<table border=\"1\" class=\"dataframe\">\n",
       "  <thead>\n",
       "    <tr style=\"text-align: right;\">\n",
       "      <th></th>\n",
       "      <th>clean_lyrics</th>\n",
       "    </tr>\n",
       "  </thead>\n",
       "  <tbody>\n",
       "    <tr>\n",
       "      <th>0</th>\n",
       "      <td>kanine krunchies can't be beat they make each ...</td>\n",
       "    </tr>\n",
       "    <tr>\n",
       "      <th>1</th>\n",
       "      <td>cruella de vil cruella de vil if she doesn't s...</td>\n",
       "    </tr>\n",
       "    <tr>\n",
       "      <th>2</th>\n",
       "      <td>we'll have a dalmatian plantation where our po...</td>\n",
       "    </tr>\n",
       "    <tr>\n",
       "      <th>3</th>\n",
       "      <td>open up your eyes take a look at me get the pi...</td>\n",
       "    </tr>\n",
       "    <tr>\n",
       "      <th>4</th>\n",
       "      <td>goofy do ya need a break from modern livin' do...</td>\n",
       "    </tr>\n",
       "    <tr>\n",
       "      <th>...</th>\n",
       "      <td>...</td>\n",
       "    </tr>\n",
       "    <tr>\n",
       "      <th>811</th>\n",
       "      <td>owl it's a giant creature with a tail here i'l...</td>\n",
       "    </tr>\n",
       "    <tr>\n",
       "      <th>812</th>\n",
       "      <td>it's not complicated or very hard to grasp but...</td>\n",
       "    </tr>\n",
       "    <tr>\n",
       "      <th>813</th>\n",
       "      <td>tigger gonna fix you up by the time we're thro...</td>\n",
       "    </tr>\n",
       "    <tr>\n",
       "      <th>814</th>\n",
       "      <td>everything is honey everywhere i see everythin...</td>\n",
       "    </tr>\n",
       "    <tr>\n",
       "      <th>815</th>\n",
       "      <td>come one come two come all everyone heed the c...</td>\n",
       "    </tr>\n",
       "  </tbody>\n",
       "</table>\n",
       "<p>816 rows × 1 columns</p>\n",
       "</div>"
      ],
      "text/plain": [
       "                                          clean_lyrics\n",
       "0    kanine krunchies can't be beat they make each ...\n",
       "1    cruella de vil cruella de vil if she doesn't s...\n",
       "2    we'll have a dalmatian plantation where our po...\n",
       "3    open up your eyes take a look at me get the pi...\n",
       "4    goofy do ya need a break from modern livin' do...\n",
       "..                                                 ...\n",
       "811  owl it's a giant creature with a tail here i'l...\n",
       "812  it's not complicated or very hard to grasp but...\n",
       "813  tigger gonna fix you up by the time we're thro...\n",
       "814  everything is honey everywhere i see everythin...\n",
       "815  come one come two come all everyone heed the c...\n",
       "\n",
       "[816 rows x 1 columns]"
      ]
     },
     "execution_count": 43,
     "metadata": {},
     "output_type": "execute_result"
    }
   ],
   "source": [
    "clean_songs_df"
   ]
  },
  {
   "cell_type": "code",
   "execution_count": 44,
   "metadata": {},
   "outputs": [
    {
     "data": {
      "text/plain": [
       "(816, 6)"
      ]
     },
     "execution_count": 44,
     "metadata": {},
     "output_type": "execute_result"
    }
   ],
   "source": [
    "all_lyrics.shape"
   ]
  },
  {
   "cell_type": "code",
   "execution_count": 45,
   "metadata": {},
   "outputs": [
    {
     "data": {
      "text/plain": [
       "(816, 1)"
      ]
     },
     "execution_count": 45,
     "metadata": {},
     "output_type": "execute_result"
    }
   ],
   "source": [
    "clean_songs_df.shape"
   ]
  },
  {
   "cell_type": "markdown",
   "metadata": {},
   "source": [
    "# Removing all characters and stopwords"
   ]
  },
  {
   "cell_type": "markdown",
   "metadata": {},
   "source": [
    "I was interested to see how differently the model scores would be if I removed the stopwords. "
   ]
  },
  {
   "cell_type": "code",
   "execution_count": 46,
   "metadata": {},
   "outputs": [],
   "source": [
    "# This function has been taken from Matt Brems NLP I lecture. Very little has been changed.\n",
    "# Only difference is a change in the function name\n",
    "def lyrics_to_words_stopwords(raw_text):\n",
    "    \n",
    "    text = BeautifulSoup(raw_text).get_text()\n",
    "    \n",
    "    letters_only = re.sub(\"[^a-zA-Z]\", \" \", text)\n",
    "    \n",
    "    words = letters_only.lower().split()\n",
    "    \n",
    "    stops = set(stopwords.words('english'))\n",
    "    \n",
    "    meaningful_words = [w for w in words if w not in stops]\n",
    "\n",
    "    return(\" \".join(words))"
   ]
  },
  {
   "cell_type": "code",
   "execution_count": 47,
   "metadata": {},
   "outputs": [
    {
     "name": "stdout",
     "output_type": "stream",
     "text": [
      "Cleaning and parsing the lyrics...\n",
      "Lyric 50 of 816.\n",
      "Lyric 100 of 816.\n",
      "Lyric 150 of 816.\n",
      "Lyric 200 of 816.\n",
      "Lyric 250 of 816.\n",
      "Lyric 300 of 816.\n",
      "Lyric 350 of 816.\n",
      "Lyric 400 of 816.\n",
      "Lyric 450 of 816.\n",
      "Lyric 500 of 816.\n",
      "Lyric 550 of 816.\n",
      "Lyric 600 of 816.\n",
      "Lyric 650 of 816.\n",
      "Lyric 700 of 816.\n",
      "Lyric 750 of 816.\n",
      "Lyric 800 of 816.\n"
     ]
    }
   ],
   "source": [
    "# This code is heavily borrowed from NLP I lesson by Matt Brems.\n",
    "# There have been some slight modifications made to fit this project.\n",
    "# Initialize an empty list to hold the cleaned songs\n",
    "clean_songs_stopwords = []\n",
    "\n",
    "print(\"Cleaning and parsing the lyrics...\")\n",
    "\n",
    "# Instantiate counter.\n",
    "j = 0\n",
    "\n",
    "# Looping through the lyrics...\n",
    "for songs in all_lyrics['lyrics']:\n",
    "    \n",
    "    # Convert lyrics to separate words, then append to clean_songs.\n",
    "    clean_songs_stopwords.append(lyrics_to_words_stopwords(songs))\n",
    "    \n",
    "    # If the index is divisible by 50, print a message.\n",
    "    if (j + 1) % 50 == 0:\n",
    "        print(f'Lyric {j + 1} of {total_songs}.')\n",
    "    \n",
    "    j += 1"
   ]
  },
  {
   "cell_type": "code",
   "execution_count": 48,
   "metadata": {},
   "outputs": [],
   "source": [
    "# Creating a dataframe for the clean titles\n",
    "clean_songs_stopwords_df = pd.DataFrame(clean_songs_stopwords, columns=['clean_lyrics_with_stopwords'])"
   ]
  },
  {
   "cell_type": "code",
   "execution_count": 50,
   "metadata": {},
   "outputs": [
    {
     "data": {
      "text/html": [
       "<div>\n",
       "<style scoped>\n",
       "    .dataframe tbody tr th:only-of-type {\n",
       "        vertical-align: middle;\n",
       "    }\n",
       "\n",
       "    .dataframe tbody tr th {\n",
       "        vertical-align: top;\n",
       "    }\n",
       "\n",
       "    .dataframe thead th {\n",
       "        text-align: right;\n",
       "    }\n",
       "</style>\n",
       "<table border=\"1\" class=\"dataframe\">\n",
       "  <thead>\n",
       "    <tr style=\"text-align: right;\">\n",
       "      <th></th>\n",
       "      <th>clean_lyrics_with_stopwords</th>\n",
       "    </tr>\n",
       "  </thead>\n",
       "  <tbody>\n",
       "    <tr>\n",
       "      <th>0</th>\n",
       "      <td>kanine krunchies can t be beat they make each ...</td>\n",
       "    </tr>\n",
       "    <tr>\n",
       "      <th>1</th>\n",
       "      <td>cruella de vil cruella de vil if she doesn t s...</td>\n",
       "    </tr>\n",
       "    <tr>\n",
       "      <th>2</th>\n",
       "      <td>we ll have a dalmatian plantation where our po...</td>\n",
       "    </tr>\n",
       "    <tr>\n",
       "      <th>3</th>\n",
       "      <td>open up your eyes take a look at me get the pi...</td>\n",
       "    </tr>\n",
       "    <tr>\n",
       "      <th>4</th>\n",
       "      <td>goofy do ya need a break from modern livin do ...</td>\n",
       "    </tr>\n",
       "    <tr>\n",
       "      <th>...</th>\n",
       "      <td>...</td>\n",
       "    </tr>\n",
       "    <tr>\n",
       "      <th>811</th>\n",
       "      <td>owl it s a giant creature with a tail here i l...</td>\n",
       "    </tr>\n",
       "    <tr>\n",
       "      <th>812</th>\n",
       "      <td>it s not complicated or very hard to grasp but...</td>\n",
       "    </tr>\n",
       "    <tr>\n",
       "      <th>813</th>\n",
       "      <td>tigger gonna fix you up by the time we re thro...</td>\n",
       "    </tr>\n",
       "    <tr>\n",
       "      <th>814</th>\n",
       "      <td>everything is honey everywhere i see everythin...</td>\n",
       "    </tr>\n",
       "    <tr>\n",
       "      <th>815</th>\n",
       "      <td>come one come two come all everyone heed the c...</td>\n",
       "    </tr>\n",
       "  </tbody>\n",
       "</table>\n",
       "<p>816 rows × 1 columns</p>\n",
       "</div>"
      ],
      "text/plain": [
       "                           clean_lyrics_with_stopwords\n",
       "0    kanine krunchies can t be beat they make each ...\n",
       "1    cruella de vil cruella de vil if she doesn t s...\n",
       "2    we ll have a dalmatian plantation where our po...\n",
       "3    open up your eyes take a look at me get the pi...\n",
       "4    goofy do ya need a break from modern livin do ...\n",
       "..                                                 ...\n",
       "811  owl it s a giant creature with a tail here i l...\n",
       "812  it s not complicated or very hard to grasp but...\n",
       "813  tigger gonna fix you up by the time we re thro...\n",
       "814  everything is honey everywhere i see everythin...\n",
       "815  come one come two come all everyone heed the c...\n",
       "\n",
       "[816 rows x 1 columns]"
      ]
     },
     "execution_count": 50,
     "metadata": {},
     "output_type": "execute_result"
    }
   ],
   "source": [
    "clean_songs_stopwords_df"
   ]
  },
  {
   "cell_type": "code",
   "execution_count": 51,
   "metadata": {
    "scrolled": false
   },
   "outputs": [],
   "source": [
    "all_lyrics_clean = pd.concat([all_lyrics, clean_songs_df, clean_songs_stopwords_df], axis=1, join='inner')"
   ]
  },
  {
   "cell_type": "code",
   "execution_count": 52,
   "metadata": {},
   "outputs": [],
   "source": [
    "all_lyrics_clean.to_csv('datasets/all_lyrics_add_clean_lyrics_col', index=False)"
   ]
  }
 ],
 "metadata": {
  "kernelspec": {
   "display_name": "Python 3",
   "language": "python",
   "name": "python3"
  },
  "language_info": {
   "codemirror_mode": {
    "name": "ipython",
    "version": 3
   },
   "file_extension": ".py",
   "mimetype": "text/x-python",
   "name": "python",
   "nbconvert_exporter": "python",
   "pygments_lexer": "ipython3",
   "version": "3.7.6"
  }
 },
 "nbformat": 4,
 "nbformat_minor": 4
}
